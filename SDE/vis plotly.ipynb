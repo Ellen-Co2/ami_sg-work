{
 "cells": [
  {
   "cell_type": "code",
   "execution_count": 1,
   "metadata": {
    "collapsed": true
   },
   "outputs": [],
   "source": [
    "from pandas import DataFrame, Series\n",
    "import numpy as np\n",
    "import pandas as pd\n",
    "from datetime import datetime, timedelta\n",
    "import sqlite3\n",
    "from sqlalchemy import create_engine "
   ]
  },
  {
   "cell_type": "markdown",
   "metadata": {},
   "source": [
    "### plotly imports"
   ]
  },
  {
   "cell_type": "code",
   "execution_count": 6,
   "metadata": {
    "collapsed": false
   },
   "outputs": [],
   "source": [
    "from plotly.graph_objs import Bar, Scatter, Figure, Layout\n",
    "from IPython.display import display, clear_output\n",
    "import plotly.plotly as py\n",
    "from plotly.widgets import GraphWidget"
   ]
  },
  {
   "cell_type": "code",
   "execution_count": 18,
   "metadata": {
    "collapsed": false
   },
   "outputs": [],
   "source": [
    "import ipywidgets as wigts\n",
    "from ipywidgets import interact\n",
    "w = wigts.Select(description='buildings:',options=['SDE1-02',\"SDE1-03\",\"SDE1-04\",\"SDE1-05\",\"SDE2-01\",\"SDE2-02\",\"SDE2-03\",\"SDE3-01\",\"SDE3-02\",\"SDE3-03\",\"SDE3-04\"])\n",
    "time_intev = widgets.FloatSlider(value=60,min=20,max=120.0,step=10,description='Interval(in mins):')"
   ]
  },
  {
   "cell_type": "code",
   "execution_count": 111,
   "metadata": {
    "collapsed": true
   },
   "outputs": [],
   "source": [
    "from datetime import datetime, timedelta\n",
    "from bokeh.plotting import figure, output_notebook, show\n",
    "from bokeh.io import push_notebook"
   ]
  },
  {
   "cell_type": "code",
   "execution_count": 112,
   "metadata": {
    "collapsed": true
   },
   "outputs": [],
   "source": [
    "x = [\"UNKNOWN\",'SDE1-02',\"SDE1-03\",\"SDE1-04\",\"SDE1-05\",\"SDE2-01\",\"SDE2-02\",\"SDE2-03\",\"SDE3-01\",\"SDE3-02\",\"SDE3-03\",\"SDE3-04\",\"STAY\"]\n",
    "y = [5, 0,0,0,0,0, 0,0,1, 1, 8,0,0]"
   ]
  },
  {
   "cell_type": "code",
   "execution_count": 113,
   "metadata": {
    "collapsed": false
   },
   "outputs": [
    {
     "data": {
      "text/html": [
       "\n",
       "    <div class=\"bk-root\">\n",
       "        <a href=\"http://bokeh.pydata.org\" target=\"_blank\" class=\"bk-logo bk-logo-small bk-logo-notebook\"></a>\n",
       "        <span id=\"d6f43dc3-9020-48c2-86eb-6734f4a76dbf\">Loading BokehJS ...</span>\n",
       "    </div>"
      ]
     },
     "metadata": {},
     "output_type": "display_data"
    },
    {
     "data": {
      "application/javascript": [
       "\n",
       "(function(global) {\n",
       "  function now() {\n",
       "    return new Date();\n",
       "  }\n",
       "\n",
       "  var force = \"1\";\n",
       "\n",
       "  if (typeof (window._bokeh_onload_callbacks) === \"undefined\" || force !== \"\") {\n",
       "    window._bokeh_onload_callbacks = [];\n",
       "    window._bokeh_is_loading = undefined;\n",
       "  }\n",
       "\n",
       "  function run_callbacks() {\n",
       "    window._bokeh_onload_callbacks.forEach(function(callback) { callback() });\n",
       "    delete window._bokeh_onload_callbacks\n",
       "    console.info(\"Bokeh: all callbacks have finished\");\n",
       "  }\n",
       "\n",
       "  function load_libs(js_urls, callback) {\n",
       "    window._bokeh_onload_callbacks.push(callback);\n",
       "    if (window._bokeh_is_loading > 0) {\n",
       "      console.log(\"Bokeh: BokehJS is being loaded, scheduling callback at\", now());\n",
       "      return null;\n",
       "    }\n",
       "    if (js_urls == null || js_urls.length === 0) {\n",
       "      run_callbacks();\n",
       "      return null;\n",
       "    }\n",
       "    console.log(\"Bokeh: BokehJS not loaded, scheduling load and callback at\", now());\n",
       "    window._bokeh_is_loading = js_urls.length;\n",
       "    for (var i = 0; i < js_urls.length; i++) {\n",
       "      var url = js_urls[i];\n",
       "      var s = document.createElement('script');\n",
       "      s.src = url;\n",
       "      s.async = false;\n",
       "      s.onreadystatechange = s.onload = function() {\n",
       "        window._bokeh_is_loading--;\n",
       "        if (window._bokeh_is_loading === 0) {\n",
       "          console.log(\"Bokeh: all BokehJS libraries loaded\");\n",
       "          run_callbacks()\n",
       "        }\n",
       "      };\n",
       "      s.onerror = function() {\n",
       "        console.warn(\"failed to load library \" + url);\n",
       "      };\n",
       "      console.log(\"Bokeh: injecting script tag for BokehJS library: \", url);\n",
       "      document.getElementsByTagName(\"head\")[0].appendChild(s);\n",
       "    }\n",
       "  };\n",
       "\n",
       "  var js_urls = ['https://cdn.pydata.org/bokeh/release/bokeh-0.12.1.min.js', 'https://cdn.pydata.org/bokeh/release/bokeh-widgets-0.12.1.min.js', 'https://cdn.pydata.org/bokeh/release/bokeh-compiler-0.12.1.min.js'];\n",
       "\n",
       "  var inline_js = [\n",
       "    function(Bokeh) {\n",
       "      Bokeh.set_log_level(\"info\");\n",
       "    },\n",
       "    \n",
       "    function(Bokeh) {\n",
       "      \n",
       "      Bokeh.$(\"#d6f43dc3-9020-48c2-86eb-6734f4a76dbf\").text(\"BokehJS successfully loaded\");\n",
       "      var kernel = Jupyter.notebook.kernel\n",
       "      if (kernel.execute !== undefined) {\n",
       "          kernel.execute(\"import bokeh.io; bokeh.io._nb_loaded = True\");\n",
       "      }\n",
       "    },\n",
       "    function(Bokeh) {\n",
       "      console.log(\"Bokeh: injecting CSS: https://cdn.pydata.org/bokeh/release/bokeh-0.12.1.min.css\");\n",
       "      Bokeh.embed.inject_css(\"https://cdn.pydata.org/bokeh/release/bokeh-0.12.1.min.css\");\n",
       "      console.log(\"Bokeh: injecting CSS: https://cdn.pydata.org/bokeh/release/bokeh-widgets-0.12.1.min.css\");\n",
       "      Bokeh.embed.inject_css(\"https://cdn.pydata.org/bokeh/release/bokeh-widgets-0.12.1.min.css\");\n",
       "    }\n",
       "  ];\n",
       "\n",
       "  function run_inline_js() {\n",
       "    for (var i = 0; i < inline_js.length; i++) {\n",
       "      inline_js[i](window.Bokeh);\n",
       "    }\n",
       "  }\n",
       "\n",
       "  if (window._bokeh_is_loading === 0) {\n",
       "    console.log(\"Bokeh: BokehJS loaded, going straight to plotting\");\n",
       "    run_inline_js();\n",
       "  } else {\n",
       "    load_libs(js_urls, function() {\n",
       "      console.log(\"Bokeh: BokehJS plotting callback run at\", now());\n",
       "      run_inline_js();\n",
       "    });\n",
       "  }\n",
       "}(this));"
      ]
     },
     "metadata": {},
     "output_type": "display_data"
    }
   ],
   "source": [
    "output_notebook()"
   ]
  },
  {
   "cell_type": "code",
   "execution_count": 121,
   "metadata": {
    "collapsed": false
   },
   "outputs": [],
   "source": [
    "p = figure(title = \"Device Movement\",x_range = x,width = 800)\n",
    "r = p.circle(counts.keys(), y, size=10, fill_color=\"orange\")"
   ]
  },
  {
   "cell_type": "code",
   "execution_count": 122,
   "metadata": {
    "collapsed": false
   },
   "outputs": [],
   "source": [
    "def crowd_flow(start = \"2016-04-16 00:10:01\", bld = 'SDE2-03',lag = 80 ):\n",
    "    sec = lag*60\n",
    "    end = datetime.strptime(start, \"%Y-%m-%d %H:%M:%S\")+ timedelta(seconds = sec)\n",
    "    mac_list = pd.read_sql_query('SELECT mac,statustype,sgtime,bldid,firstlocatedtime FROM wifi WHERE sgtime >= \"{}\" AND sgtime <= \"{}\"'.format(start,end),disk_engine)\n",
    "    l = mac_list[mac_list.bldid==bld][\"mac\"].unique()\n",
    "    counts = dict()\n",
    "    for id in l:\n",
    "        df_mac = mac_list[mac_list.mac==id]\n",
    "    #only get those appears at bld in the first time\n",
    "    #print \"first rec:\" ,df_mac[df_mac[\"sgtime\"] == min(df_mac.sgtime)][\"bldid\"].iloc[0]\n",
    "        if df_mac[df_mac[\"sgtime\"] == min(df_mac.sgtime)][\"bldid\"].iloc[0] == bld:\n",
    "            if df_mac.shape[0] == 1:\n",
    "                counts[\"unknown\"] = counts.get(\"unknown\",0) + 1\n",
    "                continue\n",
    "            b_list = df_mac.bldid.unique()\n",
    "        #print b_list\n",
    "            if (len(b_list) == 1):\n",
    "                counts[\"stay\"] = counts.get(\"stay\",0) + 1\n",
    "                continue\n",
    "            else:\n",
    "                for b in b_list:\n",
    "                    counts[b] = counts.get(b,0) + 1\n",
    "                    continue\n",
    "    r.data_source.data['y'] = counts.values()\n",
    "    r.data_source.data['x'] = counts.keys()\n",
    "    push_notebook()"
   ]
  },
  {
   "cell_type": "code",
   "execution_count": 123,
   "metadata": {
    "collapsed": false
   },
   "outputs": [
    {
     "data": {
      "text/html": [
       "\n",
       "\n",
       "    <div class=\"bk-root\">\n",
       "        <div class=\"plotdiv\" id=\"b5a5db58-62d9-4d9f-995e-9c54cfc513b8\"></div>\n",
       "    </div>\n",
       "<script type=\"text/javascript\">\n",
       "  \n",
       "  (function(global) {\n",
       "    function now() {\n",
       "      return new Date();\n",
       "    }\n",
       "  \n",
       "    var force = \"\";\n",
       "  \n",
       "    if (typeof (window._bokeh_onload_callbacks) === \"undefined\" || force !== \"\") {\n",
       "      window._bokeh_onload_callbacks = [];\n",
       "      window._bokeh_is_loading = undefined;\n",
       "    }\n",
       "  \n",
       "    function run_callbacks() {\n",
       "      window._bokeh_onload_callbacks.forEach(function(callback) { callback() });\n",
       "      delete window._bokeh_onload_callbacks\n",
       "      console.info(\"Bokeh: all callbacks have finished\");\n",
       "    }\n",
       "  \n",
       "    function load_libs(js_urls, callback) {\n",
       "      window._bokeh_onload_callbacks.push(callback);\n",
       "      if (window._bokeh_is_loading > 0) {\n",
       "        console.log(\"Bokeh: BokehJS is being loaded, scheduling callback at\", now());\n",
       "        return null;\n",
       "      }\n",
       "      if (js_urls == null || js_urls.length === 0) {\n",
       "        run_callbacks();\n",
       "        return null;\n",
       "      }\n",
       "      console.log(\"Bokeh: BokehJS not loaded, scheduling load and callback at\", now());\n",
       "      window._bokeh_is_loading = js_urls.length;\n",
       "      for (var i = 0; i < js_urls.length; i++) {\n",
       "        var url = js_urls[i];\n",
       "        var s = document.createElement('script');\n",
       "        s.src = url;\n",
       "        s.async = false;\n",
       "        s.onreadystatechange = s.onload = function() {\n",
       "          window._bokeh_is_loading--;\n",
       "          if (window._bokeh_is_loading === 0) {\n",
       "            console.log(\"Bokeh: all BokehJS libraries loaded\");\n",
       "            run_callbacks()\n",
       "          }\n",
       "        };\n",
       "        s.onerror = function() {\n",
       "          console.warn(\"failed to load library \" + url);\n",
       "        };\n",
       "        console.log(\"Bokeh: injecting script tag for BokehJS library: \", url);\n",
       "        document.getElementsByTagName(\"head\")[0].appendChild(s);\n",
       "      }\n",
       "    };var element = document.getElementById(\"b5a5db58-62d9-4d9f-995e-9c54cfc513b8\");\n",
       "    if (element == null) {\n",
       "      console.log(\"Bokeh: ERROR: autoload.js configured with elementid 'b5a5db58-62d9-4d9f-995e-9c54cfc513b8' but no matching script tag was found. \")\n",
       "      return false;\n",
       "    }\n",
       "  \n",
       "    var js_urls = [];\n",
       "  \n",
       "    var inline_js = [\n",
       "      function(Bokeh) {\n",
       "        Bokeh.$(function() {\n",
       "            var docs_json = {\"4abcbcd2-3667-49e7-8f14-63eebd5b2064\":{\"roots\":{\"references\":[{\"attributes\":{\"plot\":null,\"text\":\"Device Movement\"},\"id\":\"b060aac8-07fa-4c2d-9e92-5614b4cf1dc4\",\"type\":\"Title\"},{\"attributes\":{\"plot\":{\"id\":\"46a32c26-691f-4d1e-b9a6-195a17994798\",\"subtype\":\"Figure\",\"type\":\"Plot\"},\"ticker\":{\"id\":\"176c2bb7-99fa-4775-bbe4-e97dc34beb0f\",\"type\":\"CategoricalTicker\"}},\"id\":\"90734afb-f4c5-4fcc-96f3-76f106513339\",\"type\":\"Grid\"},{\"attributes\":{\"formatter\":{\"id\":\"980d5900-7a1c-4caf-a4f4-eb78cdf1fba8\",\"type\":\"CategoricalTickFormatter\"},\"plot\":{\"id\":\"46a32c26-691f-4d1e-b9a6-195a17994798\",\"subtype\":\"Figure\",\"type\":\"Plot\"},\"ticker\":{\"id\":\"176c2bb7-99fa-4775-bbe4-e97dc34beb0f\",\"type\":\"CategoricalTicker\"}},\"id\":\"aa55af70-a389-46f7-a87d-10bb508f38d8\",\"type\":\"CategoricalAxis\"},{\"attributes\":{\"fill_alpha\":{\"value\":0.1},\"fill_color\":{\"value\":\"#1f77b4\"},\"line_alpha\":{\"value\":0.1},\"line_color\":{\"value\":\"#1f77b4\"},\"size\":{\"units\":\"screen\",\"value\":10},\"x\":{\"field\":\"x\"},\"y\":{\"field\":\"y\"}},\"id\":\"09aed8ed-9be8-4e9d-b95b-89ceac9652f6\",\"type\":\"Circle\"},{\"attributes\":{\"callback\":null,\"factors\":[\"UNKNOWN\",\"SDE1-02\",\"SDE1-03\",\"SDE1-04\",\"SDE1-05\",\"SDE2-01\",\"SDE2-02\",\"SDE2-03\",\"SDE3-01\",\"SDE3-02\",\"SDE3-03\",\"SDE3-04\",\"STAY\"]},\"id\":\"3948ede0-e6ea-41ca-a502-f53e0d271682\",\"type\":\"FactorRange\"},{\"attributes\":{},\"id\":\"ae260ff1-a123-4af7-9102-e97754d9ed40\",\"type\":\"ToolEvents\"},{\"attributes\":{\"bottom_units\":\"screen\",\"fill_alpha\":{\"value\":0.5},\"fill_color\":{\"value\":\"lightgrey\"},\"left_units\":\"screen\",\"level\":\"overlay\",\"line_alpha\":{\"value\":1.0},\"line_color\":{\"value\":\"black\"},\"line_dash\":[4,4],\"line_width\":{\"value\":2},\"plot\":null,\"render_mode\":\"css\",\"right_units\":\"screen\",\"top_units\":\"screen\"},\"id\":\"73987156-ed1c-48dc-bb3e-4ad82ab62cc8\",\"type\":\"BoxAnnotation\"},{\"attributes\":{\"plot\":{\"id\":\"46a32c26-691f-4d1e-b9a6-195a17994798\",\"subtype\":\"Figure\",\"type\":\"Plot\"}},\"id\":\"00575a38-d447-466f-b716-8b160716abcb\",\"type\":\"ResetTool\"},{\"attributes\":{\"below\":[{\"id\":\"aa55af70-a389-46f7-a87d-10bb508f38d8\",\"type\":\"CategoricalAxis\"}],\"left\":[{\"id\":\"352af536-50cf-47de-a0f2-c07978134dcf\",\"type\":\"LinearAxis\"}],\"plot_width\":800,\"renderers\":[{\"id\":\"aa55af70-a389-46f7-a87d-10bb508f38d8\",\"type\":\"CategoricalAxis\"},{\"id\":\"90734afb-f4c5-4fcc-96f3-76f106513339\",\"type\":\"Grid\"},{\"id\":\"352af536-50cf-47de-a0f2-c07978134dcf\",\"type\":\"LinearAxis\"},{\"id\":\"3c16599f-b9a9-4f3d-aefd-2cbb1175c01d\",\"type\":\"Grid\"},{\"id\":\"73987156-ed1c-48dc-bb3e-4ad82ab62cc8\",\"type\":\"BoxAnnotation\"},{\"id\":\"86657c94-93e9-4d3f-9235-36a341c5f3fe\",\"type\":\"GlyphRenderer\"}],\"title\":{\"id\":\"b060aac8-07fa-4c2d-9e92-5614b4cf1dc4\",\"type\":\"Title\"},\"tool_events\":{\"id\":\"ae260ff1-a123-4af7-9102-e97754d9ed40\",\"type\":\"ToolEvents\"},\"toolbar\":{\"id\":\"438fcfa7-e5d1-47a6-8bcf-0b6341302cc9\",\"type\":\"Toolbar\"},\"x_range\":{\"id\":\"3948ede0-e6ea-41ca-a502-f53e0d271682\",\"type\":\"FactorRange\"},\"y_range\":{\"id\":\"30f8f2f4-497d-415b-a5cf-08f67cbd954b\",\"type\":\"DataRange1d\"}},\"id\":\"46a32c26-691f-4d1e-b9a6-195a17994798\",\"subtype\":\"Figure\",\"type\":\"Plot\"},{\"attributes\":{\"data_source\":{\"id\":\"de230989-4f8d-42d3-8ee2-9a38ac74d315\",\"type\":\"ColumnDataSource\"},\"glyph\":{\"id\":\"7aa63a84-98a1-415f-8687-0d241ef3e89a\",\"type\":\"Circle\"},\"hover_glyph\":null,\"nonselection_glyph\":{\"id\":\"09aed8ed-9be8-4e9d-b95b-89ceac9652f6\",\"type\":\"Circle\"},\"selection_glyph\":null},\"id\":\"86657c94-93e9-4d3f-9235-36a341c5f3fe\",\"type\":\"GlyphRenderer\"},{\"attributes\":{\"callback\":null,\"column_names\":[\"y\",\"x\"],\"data\":{\"x\":[\"unknown\",\"SDE2-02\",\"SDE2-03\",\"stay\"],\"y\":[5,0,0,0,0,0,0,0,1,1,8,0,0]}},\"id\":\"de230989-4f8d-42d3-8ee2-9a38ac74d315\",\"type\":\"ColumnDataSource\"},{\"attributes\":{},\"id\":\"3aadea65-8c97-4a37-85f5-069bd0a0fa28\",\"type\":\"BasicTicker\"},{\"attributes\":{\"plot\":{\"id\":\"46a32c26-691f-4d1e-b9a6-195a17994798\",\"subtype\":\"Figure\",\"type\":\"Plot\"}},\"id\":\"6873b090-47b2-49ee-992c-77fb20da93db\",\"type\":\"WheelZoomTool\"},{\"attributes\":{\"plot\":{\"id\":\"46a32c26-691f-4d1e-b9a6-195a17994798\",\"subtype\":\"Figure\",\"type\":\"Plot\"}},\"id\":\"54c0881d-e1f0-4ae0-9ab7-7f18102e61f8\",\"type\":\"PanTool\"},{\"attributes\":{\"active_drag\":\"auto\",\"active_scroll\":\"auto\",\"active_tap\":\"auto\",\"tools\":[{\"id\":\"54c0881d-e1f0-4ae0-9ab7-7f18102e61f8\",\"type\":\"PanTool\"},{\"id\":\"6873b090-47b2-49ee-992c-77fb20da93db\",\"type\":\"WheelZoomTool\"},{\"id\":\"8c97956c-b691-42fc-a2e5-50bea5bf31e2\",\"type\":\"BoxZoomTool\"},{\"id\":\"a6f23d82-d8d1-4f06-88dc-9e5d5958ad62\",\"type\":\"SaveTool\"},{\"id\":\"00575a38-d447-466f-b716-8b160716abcb\",\"type\":\"ResetTool\"},{\"id\":\"2e8fa9c0-3cec-428e-b480-46de58ea9ca2\",\"type\":\"HelpTool\"}]},\"id\":\"438fcfa7-e5d1-47a6-8bcf-0b6341302cc9\",\"type\":\"Toolbar\"},{\"attributes\":{\"dimension\":1,\"plot\":{\"id\":\"46a32c26-691f-4d1e-b9a6-195a17994798\",\"subtype\":\"Figure\",\"type\":\"Plot\"},\"ticker\":{\"id\":\"3aadea65-8c97-4a37-85f5-069bd0a0fa28\",\"type\":\"BasicTicker\"}},\"id\":\"3c16599f-b9a9-4f3d-aefd-2cbb1175c01d\",\"type\":\"Grid\"},{\"attributes\":{\"callback\":null},\"id\":\"30f8f2f4-497d-415b-a5cf-08f67cbd954b\",\"type\":\"DataRange1d\"},{\"attributes\":{\"formatter\":{\"id\":\"4260e08c-55db-45c8-bfd3-5ee12aee8cfc\",\"type\":\"BasicTickFormatter\"},\"plot\":{\"id\":\"46a32c26-691f-4d1e-b9a6-195a17994798\",\"subtype\":\"Figure\",\"type\":\"Plot\"},\"ticker\":{\"id\":\"3aadea65-8c97-4a37-85f5-069bd0a0fa28\",\"type\":\"BasicTicker\"}},\"id\":\"352af536-50cf-47de-a0f2-c07978134dcf\",\"type\":\"LinearAxis\"},{\"attributes\":{\"overlay\":{\"id\":\"73987156-ed1c-48dc-bb3e-4ad82ab62cc8\",\"type\":\"BoxAnnotation\"},\"plot\":{\"id\":\"46a32c26-691f-4d1e-b9a6-195a17994798\",\"subtype\":\"Figure\",\"type\":\"Plot\"}},\"id\":\"8c97956c-b691-42fc-a2e5-50bea5bf31e2\",\"type\":\"BoxZoomTool\"},{\"attributes\":{},\"id\":\"176c2bb7-99fa-4775-bbe4-e97dc34beb0f\",\"type\":\"CategoricalTicker\"},{\"attributes\":{\"plot\":{\"id\":\"46a32c26-691f-4d1e-b9a6-195a17994798\",\"subtype\":\"Figure\",\"type\":\"Plot\"}},\"id\":\"2e8fa9c0-3cec-428e-b480-46de58ea9ca2\",\"type\":\"HelpTool\"},{\"attributes\":{\"fill_color\":{\"value\":\"orange\"},\"line_color\":{\"value\":\"#1f77b4\"},\"size\":{\"units\":\"screen\",\"value\":10},\"x\":{\"field\":\"x\"},\"y\":{\"field\":\"y\"}},\"id\":\"7aa63a84-98a1-415f-8687-0d241ef3e89a\",\"type\":\"Circle\"},{\"attributes\":{},\"id\":\"980d5900-7a1c-4caf-a4f4-eb78cdf1fba8\",\"type\":\"CategoricalTickFormatter\"},{\"attributes\":{},\"id\":\"4260e08c-55db-45c8-bfd3-5ee12aee8cfc\",\"type\":\"BasicTickFormatter\"},{\"attributes\":{\"plot\":{\"id\":\"46a32c26-691f-4d1e-b9a6-195a17994798\",\"subtype\":\"Figure\",\"type\":\"Plot\"}},\"id\":\"a6f23d82-d8d1-4f06-88dc-9e5d5958ad62\",\"type\":\"SaveTool\"}],\"root_ids\":[\"46a32c26-691f-4d1e-b9a6-195a17994798\"]},\"title\":\"Bokeh Application\",\"version\":\"0.12.1\"}};\n",
       "            var render_items = [{\"docid\":\"4abcbcd2-3667-49e7-8f14-63eebd5b2064\",\"elementid\":\"b5a5db58-62d9-4d9f-995e-9c54cfc513b8\",\"modelid\":\"46a32c26-691f-4d1e-b9a6-195a17994798\",\"notebook_comms_target\":\"5f7a4005-94cc-43e3-b6b1-5ea2192f2ffc\"}];\n",
       "            \n",
       "            Bokeh.embed.embed_items(docs_json, render_items);\n",
       "        });\n",
       "      },\n",
       "      function(Bokeh) {\n",
       "      }\n",
       "    ];\n",
       "  \n",
       "    function run_inline_js() {\n",
       "      for (var i = 0; i < inline_js.length; i++) {\n",
       "        inline_js[i](window.Bokeh);\n",
       "      }\n",
       "    }\n",
       "  \n",
       "    if (window._bokeh_is_loading === 0) {\n",
       "      console.log(\"Bokeh: BokehJS loaded, going straight to plotting\");\n",
       "      run_inline_js();\n",
       "    } else {\n",
       "      load_libs(js_urls, function() {\n",
       "        console.log(\"Bokeh: BokehJS plotting callback run at\", now());\n",
       "        run_inline_js();\n",
       "      });\n",
       "    }\n",
       "  }(this));\n",
       "</script>"
      ]
     },
     "metadata": {},
     "output_type": "display_data"
    },
    {
     "data": {
      "text/html": [
       "<p><code>&lt;Bokeh Notebook handle for <strong>In[123]</strong>&gt;</code></p>"
      ],
      "text/plain": [
       "<bokeh.io._CommsHandle at 0x1116bc750>"
      ]
     },
     "execution_count": 123,
     "metadata": {},
     "output_type": "execute_result"
    }
   ],
   "source": [
    "show(p)"
   ]
  },
  {
   "cell_type": "code",
   "execution_count": 124,
   "metadata": {
    "collapsed": false
   },
   "outputs": [],
   "source": [
    "import ipywidgets as wigts\n",
    "from ipywidgets import interact\n",
    "interact(crowd_flow,bld = ['SDE1-02',\"SDE1-03\",\"SDE1-04\",\"SDE1-05\",\"SDE2-01\",\"SDE2-02\",\"SDE2-03\",\"SDE3-01\",\"SDE3-02\",\"SDE3-03\",\"SDE3-04\"],lag=(15,240,5))"
   ]
  },
  {
   "cell_type": "code",
   "execution_count": 26,
   "metadata": {
    "collapsed": false
   },
   "outputs": [
    {
     "name": "stdout",
     "output_type": "stream",
     "text": [
      "2016-04-16 01:10:01\n"
     ]
    }
   ],
   "source": [
    "start = \"2016-04-16 00:10:01\"\n",
    "lag = 60\n",
    "sec = lag*60\n",
    "end = datetime.strptime(start, \"%Y-%m-%d %H:%M:%S\")+ timedelta(seconds = sec)\n",
    "print end"
   ]
  },
  {
   "cell_type": "code",
   "execution_count": 40,
   "metadata": {
    "collapsed": false
   },
   "outputs": [],
   "source": [
    "mac_list = pd.read_sql_query('SELECT mac,statustype,sgtime,bldid,firstlocatedtime FROM wifi WHERE sgtime >= \"{}\" AND sgtime <= \"{}\"'.format(start,end),disk_engine)"
   ]
  },
  {
   "cell_type": "code",
   "execution_count": 44,
   "metadata": {
    "collapsed": true
   },
   "outputs": [],
   "source": [
    "l = mac_list[mac_list.bldid=='SDE2-02'][\"mac\"].unique()"
   ]
  },
  {
   "cell_type": "code",
   "execution_count": 58,
   "metadata": {
    "collapsed": false
   },
   "outputs": [
    {
     "name": "stdout",
     "output_type": "stream",
     "text": [
      "18\n"
     ]
    }
   ],
   "source": [
    "print len(l)"
   ]
  },
  {
   "cell_type": "code",
   "execution_count": 71,
   "metadata": {
    "collapsed": false
   },
   "outputs": [
    {
     "name": "stdout",
     "output_type": "stream",
     "text": [
      "first rec: SDE2-02\n",
      "[u'SDE2-02']\n",
      "first rec: SDE2-02\n",
      "[u'SDE2-02']\n",
      "first rec: SDE2-02\n",
      "[u'SDE2-02']\n",
      "first rec: SDE2-02\n",
      "[u'SDE2-02']\n",
      "first rec: SDE2-02\n",
      "first rec: SDE2-02\n",
      "[u'SDE2-02' u'SDE2-03']\n",
      "first rec: SDE2-02\n",
      "first rec: SDE2-02\n",
      "[u'SDE2-02']\n",
      "first rec: SDE2-03\n",
      "first rec: SDE2-02\n",
      "[u'SDE2-02']\n",
      "first rec: SDE1-03\n",
      "first rec: SDE2-02\n",
      "[u'SDE2-02']\n",
      "first rec: SDE2-02\n",
      "[u'SDE2-02']\n",
      "first rec: SDE3-02\n",
      "first rec: SDE2-02\n",
      "first rec: SDE2-03\n",
      "first rec: SDE2-02\n",
      "first rec: SDE2-02\n"
     ]
    }
   ],
   "source": [
    "counts = dict()\n",
    "bld =\"SDE2-02\"\n",
    "for id in l:\n",
    "    df_mac = mac_list[mac_list.mac==id]\n",
    "     # only get those appears at bld in the first time\n",
    "    print \"first rec:\" ,df_mac[df_mac[\"sgtime\"] == min(df_mac.sgtime)][\"bldid\"].iloc[0]\n",
    "    if df_mac[df_mac[\"sgtime\"] == min(df_mac.sgtime)][\"bldid\"].iloc[0] == bld:\n",
    "        if df_mac.shape[0] == 1:\n",
    "            counts[\"unknown\"] = counts.get(\"unknown\",0) + 1\n",
    "            continue\n",
    "        b_list = df_mac.bldid.unique()\n",
    "        print b_list\n",
    "        if (len(b_list) == 1):\n",
    "            counts[\"stay\"] = counts.get(\"stay\",0) + 1\n",
    "            continue\n",
    "        else:\n",
    "            for b in b_list:\n",
    "                counts[b] = counts.get(b,0) + 1\n",
    "                continue"
   ]
  },
  {
   "cell_type": "code",
   "execution_count": 79,
   "metadata": {
    "collapsed": false
   },
   "outputs": [
    {
     "name": "stdout",
     "output_type": "stream",
     "text": [
      "[5, 1, 1, 8]\n"
     ]
    }
   ],
   "source": [
    "print counts.values()"
   ]
  },
  {
   "cell_type": "code",
   "execution_count": null,
   "metadata": {
    "collapsed": true
   },
   "outputs": [],
   "source": [
    "from bokeh.plotting import figure, output_file, show\n",
    "from bokeh.io import output_notebook\n",
    "output_file(\"categorical.html\")"
   ]
  },
  {
   "cell_type": "code",
   "execution_count": 82,
   "metadata": {
    "collapsed": false
   },
   "outputs": [
    {
     "data": {
      "text/html": [
       "\n",
       "    <div class=\"bk-root\">\n",
       "        <a href=\"http://bokeh.pydata.org\" target=\"_blank\" class=\"bk-logo bk-logo-small bk-logo-notebook\"></a>\n",
       "        <span id=\"a2aa0679-4048-43bb-b310-99c75d29b04b\">Loading BokehJS ...</span>\n",
       "    </div>"
      ]
     },
     "metadata": {},
     "output_type": "display_data"
    },
    {
     "data": {
      "application/javascript": [
       "\n",
       "(function(global) {\n",
       "  function now() {\n",
       "    return new Date();\n",
       "  }\n",
       "\n",
       "  var force = \"1\";\n",
       "\n",
       "  if (typeof (window._bokeh_onload_callbacks) === \"undefined\" || force !== \"\") {\n",
       "    window._bokeh_onload_callbacks = [];\n",
       "    window._bokeh_is_loading = undefined;\n",
       "  }\n",
       "\n",
       "  function run_callbacks() {\n",
       "    window._bokeh_onload_callbacks.forEach(function(callback) { callback() });\n",
       "    delete window._bokeh_onload_callbacks\n",
       "    console.info(\"Bokeh: all callbacks have finished\");\n",
       "  }\n",
       "\n",
       "  function load_libs(js_urls, callback) {\n",
       "    window._bokeh_onload_callbacks.push(callback);\n",
       "    if (window._bokeh_is_loading > 0) {\n",
       "      console.log(\"Bokeh: BokehJS is being loaded, scheduling callback at\", now());\n",
       "      return null;\n",
       "    }\n",
       "    if (js_urls == null || js_urls.length === 0) {\n",
       "      run_callbacks();\n",
       "      return null;\n",
       "    }\n",
       "    console.log(\"Bokeh: BokehJS not loaded, scheduling load and callback at\", now());\n",
       "    window._bokeh_is_loading = js_urls.length;\n",
       "    for (var i = 0; i < js_urls.length; i++) {\n",
       "      var url = js_urls[i];\n",
       "      var s = document.createElement('script');\n",
       "      s.src = url;\n",
       "      s.async = false;\n",
       "      s.onreadystatechange = s.onload = function() {\n",
       "        window._bokeh_is_loading--;\n",
       "        if (window._bokeh_is_loading === 0) {\n",
       "          console.log(\"Bokeh: all BokehJS libraries loaded\");\n",
       "          run_callbacks()\n",
       "        }\n",
       "      };\n",
       "      s.onerror = function() {\n",
       "        console.warn(\"failed to load library \" + url);\n",
       "      };\n",
       "      console.log(\"Bokeh: injecting script tag for BokehJS library: \", url);\n",
       "      document.getElementsByTagName(\"head\")[0].appendChild(s);\n",
       "    }\n",
       "  };\n",
       "\n",
       "  var js_urls = ['https://cdn.pydata.org/bokeh/release/bokeh-0.12.1.min.js', 'https://cdn.pydata.org/bokeh/release/bokeh-widgets-0.12.1.min.js', 'https://cdn.pydata.org/bokeh/release/bokeh-compiler-0.12.1.min.js'];\n",
       "\n",
       "  var inline_js = [\n",
       "    function(Bokeh) {\n",
       "      Bokeh.set_log_level(\"info\");\n",
       "    },\n",
       "    \n",
       "    function(Bokeh) {\n",
       "      \n",
       "      Bokeh.$(\"#a2aa0679-4048-43bb-b310-99c75d29b04b\").text(\"BokehJS successfully loaded\");\n",
       "      var kernel = Jupyter.notebook.kernel\n",
       "      if (kernel.execute !== undefined) {\n",
       "          kernel.execute(\"import bokeh.io; bokeh.io._nb_loaded = True\");\n",
       "      }\n",
       "    },\n",
       "    function(Bokeh) {\n",
       "      console.log(\"Bokeh: injecting CSS: https://cdn.pydata.org/bokeh/release/bokeh-0.12.1.min.css\");\n",
       "      Bokeh.embed.inject_css(\"https://cdn.pydata.org/bokeh/release/bokeh-0.12.1.min.css\");\n",
       "      console.log(\"Bokeh: injecting CSS: https://cdn.pydata.org/bokeh/release/bokeh-widgets-0.12.1.min.css\");\n",
       "      Bokeh.embed.inject_css(\"https://cdn.pydata.org/bokeh/release/bokeh-widgets-0.12.1.min.css\");\n",
       "    }\n",
       "  ];\n",
       "\n",
       "  function run_inline_js() {\n",
       "    for (var i = 0; i < inline_js.length; i++) {\n",
       "      inline_js[i](window.Bokeh);\n",
       "    }\n",
       "  }\n",
       "\n",
       "  if (window._bokeh_is_loading === 0) {\n",
       "    console.log(\"Bokeh: BokehJS loaded, going straight to plotting\");\n",
       "    run_inline_js();\n",
       "  } else {\n",
       "    load_libs(js_urls, function() {\n",
       "      console.log(\"Bokeh: BokehJS plotting callback run at\", now());\n",
       "      run_inline_js();\n",
       "    });\n",
       "  }\n",
       "}(this));"
      ]
     },
     "metadata": {},
     "output_type": "display_data"
    }
   ],
   "source": [
    "output_notebook()"
   ]
  },
  {
   "cell_type": "code",
   "execution_count": 28,
   "metadata": {
    "collapsed": true
   },
   "outputs": [],
   "source": [
    "%colors linux\n",
    "conn = sqlite3.connect('new.sqlite')\n",
    "disk_engine = create_engine('sqlite:///new.sqlite')"
   ]
  },
  {
   "cell_type": "code",
   "execution_count": 3,
   "metadata": {
    "collapsed": false
   },
   "outputs": [],
   "source": [
    "number = pd.read_sql_query('SELECT DISTINCT mac,COUNT(*) as `device_numbers`,sgtime,bldid FROM wifi GROUP BY sgtime,bldid',disk_engine)"
   ]
  },
  {
   "cell_type": "code",
   "execution_count": 31,
   "metadata": {
    "collapsed": false
   },
   "outputs": [
    {
     "name": "stdout",
     "output_type": "stream",
     "text": [
      "                 mac  device_numbers               sgtime    bldid\n",
      "0  e8:50:8b:94:67:3b               1  2016-04-16 00:00:01  SDE1-02\n",
      "1  f4:f2:6d:16:c9:0f               8  2016-04-16 00:00:01  SDE1-03\n",
      "2  f4:f2:6d:17:7f:ad              10  2016-04-16 00:00:01  SDE1-04\n",
      "3  f4:f2:6d:17:7e:95               2  2016-04-16 00:00:01  SDE1-05\n",
      "4  00:21:91:84:c1:b6               1  2016-04-16 00:00:01  SDE2-01\n",
      "(54348, 4)\n"
     ]
    }
   ],
   "source": [
    "print number.head()\n",
    "print number.shape"
   ]
  },
  {
   "cell_type": "code",
   "execution_count": 39,
   "metadata": {
    "collapsed": false
   },
   "outputs": [
    {
     "data": {
      "text/plain": [
       "[<matplotlib.lines.Line2D at 0x117c15c90>]"
      ]
     },
     "execution_count": 39,
     "metadata": {},
     "output_type": "execute_result"
    },
    {
     "data": {
      "image/png": "[encoded data removed]",
      "text/plain": [
       "<matplotlib.figure.Figure at 0x117b67350>"
      ]
     },
     "metadata": {},
     "output_type": "display_data"
    }
   ],
   "source": [
    "%matplotlib inline\n",
    "import matplotlib.pyplot as plt\n",
    "number.sgtime = pd.to_datetime(number['sgtime'])\n",
    "plt.figure()\n",
    "plt.plot(number[number['bldid']=='SDE1-02'].sgtime,number[number['bldid']=='SDE1-02'].device_numbers,'k')"
   ]
  },
  {
   "cell_type": "markdown",
   "metadata": {},
   "source": [
    "## interactive show time distribution"
   ]
  },
  {
   "cell_type": "code",
   "execution_count": 4,
   "metadata": {
    "collapsed": false
   },
   "outputs": [
    {
     "name": "stdout",
     "output_type": "stream",
     "text": [
      "The draw time for this plot will be slow for clients without much RAM.\n"
     ]
    },
    {
     "name": "stderr",
     "output_type": "stream",
     "text": [
      "/Users/AAA218/anaconda2/lib/python2.7/site-packages/plotly/plotly/plotly.py:1443: UserWarning:\n",
      "\n",
      "Estimated Draw Time Slow\n",
      "\n"
     ]
    },
    {
     "data": {
      "text/html": [
       "<iframe id=\"igraph\" scrolling=\"no\" style=\"border:none;\" seamless=\"seamless\" src=\"https://plot.ly/~coowesome/2.embed\" height=\"525px\" width=\"100%\"></iframe>"
      ],
      "text/plain": [
       "<plotly.tools.PlotlyDisplay object>"
      ]
     },
     "execution_count": 4,
     "metadata": {},
     "output_type": "execute_result"
    }
   ],
   "source": [
    "from IPython.display import display\n",
    "import plotly.plotly as py # interactive graphing\n",
    "py.sign_in('coowesome', 'ar6x3dtl5c')\n",
    "from plotly.graph_objs import Bar, Scatter, Marker, Layout\n",
    "buildings = list(number.bldid.unique())\n",
    "traces = []\n",
    "for bld in buildings:\n",
    "    plo_df = number[number['bldid']==bld]\n",
    "    traces.append(Bar(x=plo_df['sgtime'],y = plo_df['device_numbers'],name = bld))\n",
    "py.iplot({'data':traces,'layout': Layout(barmode = 'stack',xaxis={'tickangle': 40}, margin={'b': 150})}, filename='device detected by buildings')"
   ]
  },
  {
   "cell_type": "markdown",
   "metadata": {},
   "source": [
    "### Query for spatial pattern changing "
   ]
  },
  {
   "cell_type": "markdown",
   "metadata": {},
   "source": [
    "* test __bokeh widgets__"
   ]
  },
  {
   "cell_type": "code",
   "execution_count": 5,
   "metadata": {
    "collapsed": false
   },
   "outputs": [
    {
     "name": "stdout",
     "output_type": "stream",
     "text": [
      "None\n"
     ]
    }
   ],
   "source": [
    "\n",
    "#select = Select(title=\"Building Option:\", value=\"SDE1-02\", options=['SDE1-02',\"SDE1-03\",\"SDE1-04\",\"SDE1-05\",\"SDE2-01\",\"SDE2-02\",\"SDE2-03\",\"SDE3-01\",\"SDE3-02\",\"SDE3-03\",\"SDE3-04\"])\n",
    "\n",
    "from bokeh.io import output_file, show\n",
    "from bokeh.layouts import widgetbox\n",
    "from bokeh.models.widgets import Select\n",
    "\n",
    "output_file(\"select.html\")\n",
    "\n",
    "select = Select(title=\"Building Option:\", value=\"SDE1-02\", options=['SDE1-02',\"SDE1-03\",\"SDE1-04\",\"SDE1-05\",\"SDE2-01\",\"SDE2-02\",\"SDE2-03\",\"SDE3-01\",\"SDE3-02\",\"SDE3-03\",\"SDE3-04\"])\n",
    "show(widgetbox(select))\n",
    "def building_hd(attr, old ,new):\n",
    "    print \"old\",old\n",
    "    print \"new\",new\n",
    "print select.on_change(\"value\", building_hd)\n",
    "#TOOLS=\"crosshair,pan,wheel_zoom,box_zoom,undo,redo,reset,tap,save,box_select,poly_select,lasso_select\"\n",
    "\n",
    "#p = figure(tools=TOOLS)\n",
    "\n",
    "#p.scatter(x, y, radius=radii,\n",
    "#          fill_color=colors, fill_alpha=0.6,\n",
    "#          line_color=None)\n",
    "\n",
    "#output_file(\"color_scatter.html\", title=\"color_scatter.py example\")\n",
    "\n",
    "#show(p) "
   ]
  },
  {
   "cell_type": "code",
   "execution_count": 46,
   "metadata": {
    "collapsed": true
   },
   "outputs": [],
   "source": [
    "import numpy as np\n",
    "\n",
    "from bokeh.plotting import figure, show, output_file\n",
    "\n",
    "N = 4000\n",
    "x = np.random.random(size=N) * 100\n",
    "y = np.random.random(size=N) * 100\n",
    "radii = np.random.random(size=N) * 1.5\n",
    "colors = [\n",
    "    \"#%02x%02x%02x\" % (int(r), int(g), 150) for r, g in zip(50+2*x, 30+2*y)\n",
    "]\n",
    "\n",
    "TOOLS=\"crosshair,pan,wheel_zoom,box_zoom,undo,redo,reset,tap,save,box_select,poly_select,lasso_select\"\n",
    "\n",
    "p = figure(tools=TOOLS)\n",
    "\n",
    "p.scatter(x, y, radius=radii,\n",
    "          fill_color=colors, fill_alpha=0.6,\n",
    "          line_color=None)\n",
    "\n",
    "output_file(\"color_scatter.html\", title=\"color_scatter.py example\")\n",
    "\n",
    "show(p) "
   ]
  },
  {
   "cell_type": "code",
   "execution_count": null,
   "metadata": {
    "collapsed": true
   },
   "outputs": [],
   "source": [
    "# input for a time period, building id, and change the time intervals for clustering\n",
    "# "
   ]
  }
 ],
 "metadata": {
  "kernelspec": {
   "display_name": "Python 2",
   "language": "python",
   "name": "python2"
  },
  "language_info": {
   "codemirror_mode": {
    "name": "ipython",
    "version": 2
   },
   "file_extension": ".py",
   "mimetype": "text/x-python",
   "name": "python",
   "nbconvert_exporter": "python",
   "pygments_lexer": "ipython2",
   "version": "2.7.12"
  }
 },
 "nbformat": 4,
 "nbformat_minor": 0
}
