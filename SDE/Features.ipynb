{
 "cells": [
  {
   "cell_type": "code",
   "execution_count": 1,
   "metadata": {
    "collapsed": true
   },
   "outputs": [],
   "source": [
    "from pandas import DataFrame, Series\n",
    "import numpy as np\n",
    "import pandas as pd\n",
    "from datetime import datetime, timedelta\n",
    "import sqlite3\n",
    "from sqlalchemy import create_engine"
   ]
  },
  {
   "cell_type": "markdown",
   "metadata": {
    "collapsed": true
   },
   "source": [
    "## Read in formatted data"
   ]
  },
  {
   "cell_type": "code",
   "execution_count": 4,
   "metadata": {
    "collapsed": false
   },
   "outputs": [
    {
     "name": "stdout",
     "output_type": "stream",
     "text": [
      "CPU times: user 4.69 s, sys: 720 ms, total: 5.41 s\n",
      "Wall time: 5.57 s\n"
     ]
    }
   ],
   "source": [
    "%%time\n",
    "new = pd.read_csv('/Users/AAA218/Desktop/amifull_sg/new_all.csv',header = 0, sep=\",\",infer_datetime_format=True,low_memory=False)\n",
    "#prob = pd.read_csv('/Users/AAA218/Desktop/ami_sg/probing.csv',header = 0, sep=\",\",infer_datetime_format=True,low_memory=False)\n",
    "#associate = pd.read_csv('/Users/AAA218/Desktop/ami_sg/associate.csv',header = 0, sep=\",\",infer_datetime_format=True,low_memory=False)"
   ]
  },
  {
   "cell_type": "code",
   "execution_count": 5,
   "metadata": {
    "collapsed": false
   },
   "outputs": [
    {
     "data": {
      "text/html": [
       "<div>\n",
       "<table border=\"1\" class=\"dataframe\">\n",
       "  <thead>\n",
       "    <tr style=\"text-align: right;\">\n",
       "      <th></th>\n",
       "      <th>sgtime</th>\n",
       "      <th>mac</th>\n",
       "      <th>status_info</th>\n",
       "      <th>bldid</th>\n",
       "      <th>xcor</th>\n",
       "      <th>ycor</th>\n",
       "      <th>firstlocatedtime</th>\n",
       "      <th>lastlocatedtime</th>\n",
       "      <th>interval</th>\n",
       "      <th>hrfir</th>\n",
       "      <th>hrlas</th>\n",
       "      <th>out</th>\n",
       "    </tr>\n",
       "  </thead>\n",
       "  <tbody>\n",
       "    <tr>\n",
       "      <th>0</th>\n",
       "      <td>2016-04-16 00:00:01</td>\n",
       "      <td>e8:50:8b:94:67:3b</td>\n",
       "      <td>PROBING</td>\n",
       "      <td>SDE1-02</td>\n",
       "      <td>1588.27</td>\n",
       "      <td>382.58</td>\n",
       "      <td>2016-04-15 23:56:54</td>\n",
       "      <td>2016-04-15 23:57:14</td>\n",
       "      <td>20.0</td>\n",
       "      <td>23</td>\n",
       "      <td>23</td>\n",
       "      <td>1</td>\n",
       "    </tr>\n",
       "    <tr>\n",
       "      <th>1</th>\n",
       "      <td>2016-04-16 02:40:01</td>\n",
       "      <td>94:b1:0a:de:9b:ca</td>\n",
       "      <td>PROBING</td>\n",
       "      <td>SDE1-02</td>\n",
       "      <td>1588.27</td>\n",
       "      <td>382.58</td>\n",
       "      <td>2016-04-16 02:38:26</td>\n",
       "      <td>2016-04-16 02:38:26</td>\n",
       "      <td>0.0</td>\n",
       "      <td>2</td>\n",
       "      <td>2</td>\n",
       "      <td>1</td>\n",
       "    </tr>\n",
       "    <tr>\n",
       "      <th>2</th>\n",
       "      <td>2016-04-16 02:45:01</td>\n",
       "      <td>94:b1:0a:de:9b:ca</td>\n",
       "      <td>PROBING</td>\n",
       "      <td>SDE1-02</td>\n",
       "      <td>1588.27</td>\n",
       "      <td>382.58</td>\n",
       "      <td>2016-04-16 02:38:26</td>\n",
       "      <td>2016-04-16 02:38:26</td>\n",
       "      <td>0.0</td>\n",
       "      <td>2</td>\n",
       "      <td>2</td>\n",
       "      <td>1</td>\n",
       "    </tr>\n",
       "    <tr>\n",
       "      <th>3</th>\n",
       "      <td>2016-04-16 07:50:01</td>\n",
       "      <td>84:55:a5:70:d1:eb</td>\n",
       "      <td>PROBING</td>\n",
       "      <td>SDE1-02</td>\n",
       "      <td>1582.69</td>\n",
       "      <td>382.87</td>\n",
       "      <td>2016-04-16 07:48:14</td>\n",
       "      <td>2016-04-16 07:48:14</td>\n",
       "      <td>0.0</td>\n",
       "      <td>7</td>\n",
       "      <td>7</td>\n",
       "      <td>1</td>\n",
       "    </tr>\n",
       "    <tr>\n",
       "      <th>4</th>\n",
       "      <td>2016-04-16 07:55:01</td>\n",
       "      <td>84:55:a5:70:d1:eb</td>\n",
       "      <td>PROBING</td>\n",
       "      <td>SDE1-02</td>\n",
       "      <td>1582.69</td>\n",
       "      <td>382.87</td>\n",
       "      <td>2016-04-16 07:48:14</td>\n",
       "      <td>2016-04-16 07:48:14</td>\n",
       "      <td>0.0</td>\n",
       "      <td>7</td>\n",
       "      <td>7</td>\n",
       "      <td>1</td>\n",
       "    </tr>\n",
       "  </tbody>\n",
       "</table>\n",
       "</div>"
      ],
      "text/plain": [
       "                sgtime                mac status_info    bldid     xcor  \\\n",
       "0  2016-04-16 00:00:01  e8:50:8b:94:67:3b     PROBING  SDE1-02  1588.27   \n",
       "1  2016-04-16 02:40:01  94:b1:0a:de:9b:ca     PROBING  SDE1-02  1588.27   \n",
       "2  2016-04-16 02:45:01  94:b1:0a:de:9b:ca     PROBING  SDE1-02  1588.27   \n",
       "3  2016-04-16 07:50:01  84:55:a5:70:d1:eb     PROBING  SDE1-02  1582.69   \n",
       "4  2016-04-16 07:55:01  84:55:a5:70:d1:eb     PROBING  SDE1-02  1582.69   \n",
       "\n",
       "     ycor     firstlocatedtime      lastlocatedtime  interval  hrfir  hrlas  \\\n",
       "0  382.58  2016-04-15 23:56:54  2016-04-15 23:57:14      20.0     23     23   \n",
       "1  382.58  2016-04-16 02:38:26  2016-04-16 02:38:26       0.0      2      2   \n",
       "2  382.58  2016-04-16 02:38:26  2016-04-16 02:38:26       0.0      2      2   \n",
       "3  382.87  2016-04-16 07:48:14  2016-04-16 07:48:14       0.0      7      7   \n",
       "4  382.87  2016-04-16 07:48:14  2016-04-16 07:48:14       0.0      7      7   \n",
       "\n",
       "   out  \n",
       "0    1  \n",
       "1    1  \n",
       "2    1  \n",
       "3    1  \n",
       "4    1  "
      ]
     },
     "execution_count": 5,
     "metadata": {},
     "output_type": "execute_result"
    }
   ],
   "source": [
    "new.head()"
   ]
  },
  {
   "cell_type": "markdown",
   "metadata": {},
   "source": [
    "* change path to where you put database"
   ]
  },
  {
   "cell_type": "code",
   "execution_count": 2,
   "metadata": {
    "collapsed": true
   },
   "outputs": [],
   "source": [
    "#conn = sqlite3.connect('new.sqlite')\n",
    "#new.status_info.replace({'PROBING','ASSOCIATED','UNKNOWN'},value= {0,1,-1},inplace=True)\n",
    "disk_engine = create_engine('sqlite:////Users/AAA218/Desktop/amifull_sg/new.sqlite') \n",
    "# Initializes database with filename new.sqlite \n",
    "#for windows /D:\\\\script\\\\new.sqlite"
   ]
  },
  {
   "cell_type": "markdown",
   "metadata": {},
   "source": [
    "### filter out the records with 10 mins interval between ( shut down time)"
   ]
  },
  {
   "cell_type": "code",
   "execution_count": 138,
   "metadata": {
    "collapsed": false
   },
   "outputs": [
    {
     "name": "stdout",
     "output_type": "stream",
     "text": [
      "(3038, 3)\n"
     ]
    }
   ],
   "source": [
    "att = pd.read_sql_query('SELECT DISTINCT sgtime,COUNT(*),firstlocatedtime FROM wifi WHERE bldid = \"SDE1-02\" GROUP BY sgtime',disk_engine)\n",
    "print att.shape"
   ]
  },
  {
   "cell_type": "code",
   "execution_count": 3,
   "metadata": {
    "collapsed": false
   },
   "outputs": [],
   "source": [
    "t = pd.read_sql_query('SELECT sgtime,firstlocatedtime FROM wifi WHERE bldid = \"SDE3-04\" GROUP BY sgtime',disk_engine) #AND sgtime > \"2016-04-16 23:00:00\" AND sgtime < \"2016-04-17 23:00:00\"  ORDER BY sgtime',disk_engine)"
   ]
  },
  {
   "cell_type": "code",
   "execution_count": 84,
   "metadata": {
    "collapsed": true
   },
   "outputs": [],
   "source": [
    "t['sgtime'] = pd.to_datetime(t.sgtime)\n",
    "t['firstlocatedtime'] = pd.to_datetime(t.firstlocatedtime)\n",
    "tlist = t.iloc[t.sgtime.diff()[t.sgtime.diff()>'00:10:00'].index].sgtime"
   ]
  },
  {
   "cell_type": "code",
   "execution_count": 85,
   "metadata": {
    "collapsed": false
   },
   "outputs": [
    {
     "name": "stdout",
     "output_type": "stream",
     "text": [
      "292   00:05:04\n",
      "649   00:05:01\n",
      "448   00:05:01\n",
      "471   00:05:01\n",
      "Name: sgtime, dtype: timedelta64[ns]\n"
     ]
    }
   ],
   "source": [
    "print t.sgtime.diff().sort_values(ascending=False)[0:4]"
   ]
  },
  {
   "cell_type": "code",
   "execution_count": 62,
   "metadata": {
    "collapsed": false
   },
   "outputs": [
    {
     "data": {
      "text/html": [
       "<div>\n",
       "<table border=\"1\" class=\"dataframe\">\n",
       "  <thead>\n",
       "    <tr style=\"text-align: right;\">\n",
       "      <th></th>\n",
       "      <th>sgtime</th>\n",
       "      <th>firstlocatedtime</th>\n",
       "    </tr>\n",
       "  </thead>\n",
       "  <tbody>\n",
       "    <tr>\n",
       "      <th>3331</th>\n",
       "      <td>2016-04-21 02:45:01</td>\n",
       "      <td>2016-04-21 02:36:07</td>\n",
       "    </tr>\n",
       "    <tr>\n",
       "      <th>3332</th>\n",
       "      <td>2016-04-21 04:10:01</td>\n",
       "      <td>2016-04-21 04:05:18</td>\n",
       "    </tr>\n",
       "    <tr>\n",
       "      <th>3333</th>\n",
       "      <td>2016-04-21 04:40:02</td>\n",
       "      <td>2016-04-21 04:36:05</td>\n",
       "    </tr>\n",
       "  </tbody>\n",
       "</table>\n",
       "</div>"
      ],
      "text/plain": [
       "                  sgtime    firstlocatedtime\n",
       "3331 2016-04-21 02:45:01 2016-04-21 02:36:07\n",
       "3332 2016-04-21 04:10:01 2016-04-21 04:05:18\n",
       "3333 2016-04-21 04:40:02 2016-04-21 04:36:05"
      ]
     },
     "execution_count": 62,
     "metadata": {},
     "output_type": "execute_result"
    }
   ],
   "source": [
    "t.iloc[3331:3334] "
   ]
  },
  {
   "cell_type": "code",
   "execution_count": 73,
   "metadata": {
    "collapsed": false
   },
   "outputs": [
    {
     "data": {
      "text/plain": [
       "[<matplotlib.lines.Line2D at 0x11a281f10>]"
      ]
     },
     "execution_count": 73,
     "metadata": {},
     "output_type": "execute_result"
    },
    {
     "data": {
      "image/png": "[encoded data removed]",
      "text/plain": [
       "<matplotlib.figure.Figure at 0x11a2801d0>"
      ]
     },
     "metadata": {},
     "output_type": "display_data"
    }
   ],
   "source": [
    "u_t =  t.iloc[t.sgtime.diff()[t.sgtime.diff()>'00:10:00'].index]\n",
    "plt.plot(u_t.sgtime,u_t[\"COUNT(*)\"])"
   ]
  },
  {
   "cell_type": "code",
   "execution_count": 119,
   "metadata": {
    "collapsed": true
   },
   "outputs": [],
   "source": [
    "def miss_rec(df):\n",
    "    df['sgtime'] = pd.to_datetime(df.sgtime)\n",
    "    #df['firstlocatedtime'] = pd.to_datetime(df.firstlocatedtime)\n",
    "    alist = t.iloc[t.sgtime.diff()[t.sgtime.diff()>'00:10:00'].index].sgtime\n",
    "    print alist.shape[0]\n",
    "    rate = float(alist.shape[0])/float(df.shape[0])\n",
    "    return rate"
   ]
  },
  {
   "cell_type": "code",
   "execution_count": 137,
   "metadata": {
    "collapsed": false
   },
   "outputs": [
    {
     "name": "stdout",
     "output_type": "stream",
     "text": [
      "116\n"
     ]
    },
    {
     "data": {
      "text/plain": [
       "0.02259446825087651"
      ]
     },
     "execution_count": 137,
     "metadata": {},
     "output_type": "execute_result"
    }
   ],
   "source": [
    "miss_rec(att)"
   ]
  },
  {
   "cell_type": "code",
   "execution_count": 71,
   "metadata": {
    "collapsed": false
   },
   "outputs": [
    {
     "name": "stdout",
     "output_type": "stream",
     "text": [
      "                 mac  COUNT(*)               sgtime     firstlocatedtime\n",
      "0  e8:50:8b:94:67:3b         1  2016-04-16 00:00:01  2016-04-15 23:56:54\n",
      "1  94:b1:0a:de:9b:ca         1  2016-04-16 02:40:01  2016-04-16 02:38:26\n",
      "2  94:b1:0a:de:9b:ca         1  2016-04-16 02:45:01  2016-04-16 02:38:26\n",
      "3  84:55:a5:70:d1:eb         1  2016-04-16 07:50:01  2016-04-16 07:48:14\n",
      "4  84:55:a5:70:d1:eb         1  2016-04-16 07:55:01  2016-04-16 07:48:14\n"
     ]
    }
   ],
   "source": [
    "print t.head()"
   ]
  },
  {
   "cell_type": "markdown",
   "metadata": {},
   "source": [
    "### select MacAddress first located 15 mins before the earliest sgtime"
   ]
  },
  {
   "cell_type": "code",
   "execution_count": 4,
   "metadata": {
    "collapsed": false
   },
   "outputs": [
    {
     "name": "stdout",
     "output_type": "stream",
     "text": [
      "please enter the building id as 'SDEX-0X' (X as number in 1 digit)'SDE1-03'\n",
      "SELECT mac,sgtime,statustype,firstlocatedtime,lastlocatedtime FROM wifi WHERE bldid = 'SDE1-03'\n"
     ]
    }
   ],
   "source": [
    "b = raw_input(\"please enter the building id as 'SDEX-0X' (X as number in 1 digit)\")\n",
    "b = str(b)\n",
    "query = \"SELECT mac,sgtime,statustype,firstlocatedtime,lastlocatedtime FROM wifi WHERE bldid = \"+ b\n",
    "print query"
   ]
  },
  {
   "cell_type": "code",
   "execution_count": 5,
   "metadata": {
    "collapsed": true
   },
   "outputs": [],
   "source": [
    "prob_set = pd.read_sql_query(query,disk_engine)"
   ]
  },
  {
   "cell_type": "code",
   "execution_count": 6,
   "metadata": {
    "collapsed": false
   },
   "outputs": [
    {
     "data": {
      "text/html": [
       "<div>\n",
       "<table border=\"1\" class=\"dataframe\">\n",
       "  <thead>\n",
       "    <tr style=\"text-align: right;\">\n",
       "      <th></th>\n",
       "      <th>mac</th>\n",
       "      <th>sgtime</th>\n",
       "      <th>statustype</th>\n",
       "      <th>firstlocatedtime</th>\n",
       "      <th>lastlocatedtime</th>\n",
       "    </tr>\n",
       "  </thead>\n",
       "  <tbody>\n",
       "    <tr>\n",
       "      <th>0</th>\n",
       "      <td>f4:f2:6d:17:c0:c5</td>\n",
       "      <td>2016-04-16 00:00:01</td>\n",
       "      <td>UNKNOWN</td>\n",
       "      <td>2016-04-15 22:47:36</td>\n",
       "      <td>2016-04-15 22:54:26</td>\n",
       "    </tr>\n",
       "    <tr>\n",
       "      <th>1</th>\n",
       "      <td>48:5a:3f:67:aa:cf</td>\n",
       "      <td>2016-04-16 00:00:01</td>\n",
       "      <td>PROBING</td>\n",
       "      <td>2016-04-15 23:54:07</td>\n",
       "      <td>2016-04-15 23:54:19</td>\n",
       "    </tr>\n",
       "    <tr>\n",
       "      <th>2</th>\n",
       "      <td>9c:d9:17:0b:7d:aa</td>\n",
       "      <td>2016-04-16 00:00:01</td>\n",
       "      <td>PROBING</td>\n",
       "      <td>2016-04-15 23:56:28</td>\n",
       "      <td>2016-04-15 23:56:28</td>\n",
       "    </tr>\n",
       "    <tr>\n",
       "      <th>3</th>\n",
       "      <td>f4:8b:32:cf:8e:7b</td>\n",
       "      <td>2016-04-16 00:00:01</td>\n",
       "      <td>PROBING</td>\n",
       "      <td>2016-04-15 23:57:22</td>\n",
       "      <td>2016-04-15 23:57:22</td>\n",
       "    </tr>\n",
       "    <tr>\n",
       "      <th>4</th>\n",
       "      <td>5c:f7:c3:2d:66:09</td>\n",
       "      <td>2016-04-16 00:00:01</td>\n",
       "      <td>PROBING</td>\n",
       "      <td>2016-04-15 23:57:30</td>\n",
       "      <td>2016-04-15 23:57:46</td>\n",
       "    </tr>\n",
       "  </tbody>\n",
       "</table>\n",
       "</div>"
      ],
      "text/plain": [
       "                 mac               sgtime statustype     firstlocatedtime  \\\n",
       "0  f4:f2:6d:17:c0:c5  2016-04-16 00:00:01    UNKNOWN  2016-04-15 22:47:36   \n",
       "1  48:5a:3f:67:aa:cf  2016-04-16 00:00:01    PROBING  2016-04-15 23:54:07   \n",
       "2  9c:d9:17:0b:7d:aa  2016-04-16 00:00:01    PROBING  2016-04-15 23:56:28   \n",
       "3  f4:8b:32:cf:8e:7b  2016-04-16 00:00:01    PROBING  2016-04-15 23:57:22   \n",
       "4  5c:f7:c3:2d:66:09  2016-04-16 00:00:01    PROBING  2016-04-15 23:57:30   \n",
       "\n",
       "       lastlocatedtime  \n",
       "0  2016-04-15 22:54:26  \n",
       "1  2016-04-15 23:54:19  \n",
       "2  2016-04-15 23:56:28  \n",
       "3  2016-04-15 23:57:22  \n",
       "4  2016-04-15 23:57:46  "
      ]
     },
     "execution_count": 6,
     "metadata": {},
     "output_type": "execute_result"
    }
   ],
   "source": [
    "prob_set.head()"
   ]
  },
  {
   "cell_type": "code",
   "execution_count": null,
   "metadata": {
    "collapsed": true
   },
   "outputs": [],
   "source": [
    "test = prob_set.groupby('mac').agg({\"sgtime\": min,\"firstlocatedtime\":min,\"statustype\": min})\n",
    "differ = pd.to_datetime(test['sgtime'])-pd.to_datetime(test[\"firstlocatedtime\"])\n",
    "long_mac = differ.index[differ>\"00:15:00\"]\n",
    "#test[test.index.isin(long_mac)].to_csv('lost.csv')"
   ]
  },
  {
   "cell_type": "code",
   "execution_count": 29,
   "metadata": {
    "collapsed": false
   },
   "outputs": [
    {
     "name": "stdout",
     "output_type": "stream",
     "text": [
      "total:  21882\n",
      "missing 1153\n"
     ]
    }
   ],
   "source": [
    "print \"total: \",len(test.index.unique())\n",
    "print \"missing\",len(long_mac)"
   ]
  },
  {
   "cell_type": "code",
   "execution_count": 196,
   "metadata": {
    "collapsed": false
   },
   "outputs": [
    {
     "data": {
      "text/plain": [
       "[<matplotlib.lines.Line2D at 0x121c5d2d0>]"
      ]
     },
     "execution_count": 196,
     "metadata": {},
     "output_type": "execute_result"
    },
    {
     "data": {
      "image/png": "[encoded data removed]",
      "text/plain": [
       "<matplotlib.figure.Figure at 0x11211cc90>"
      ]
     },
     "metadata": {},
     "output_type": "display_data"
    }
   ],
   "source": [
    "plt.hist(differ.astype('m8[m]').astype(np.float32),bins=50)\n",
    "plt.ylabel('time difference [m]')\n",
    "plt.plot((10, 10), (0, 400), 'r-')"
   ]
  },
  {
   "cell_type": "code",
   "execution_count": 23,
   "metadata": {
    "collapsed": false
   },
   "outputs": [
    {
     "data": {
      "text/html": [
       "<div>\n",
       "<table border=\"1\" class=\"dataframe\">\n",
       "  <thead>\n",
       "    <tr style=\"text-align: right;\">\n",
       "      <th></th>\n",
       "      <th>firstlocatedtime</th>\n",
       "      <th>statustype</th>\n",
       "      <th>sgtime</th>\n",
       "    </tr>\n",
       "    <tr>\n",
       "      <th>mac</th>\n",
       "      <th></th>\n",
       "      <th></th>\n",
       "      <th></th>\n",
       "    </tr>\n",
       "  </thead>\n",
       "  <tbody>\n",
       "    <tr>\n",
       "      <th>00:08:ca:3b:1c:ab</th>\n",
       "      <td>2016-04-22 10:31:49</td>\n",
       "      <td>UNKNOWN</td>\n",
       "      <td>2016-04-22 10:47:01</td>\n",
       "    </tr>\n",
       "    <tr>\n",
       "      <th>00:0c:e7:60:0d:60</th>\n",
       "      <td>2016-04-17 20:27:21</td>\n",
       "      <td>UNKNOWN</td>\n",
       "      <td>2016-04-17 21:10:01</td>\n",
       "    </tr>\n",
       "    <tr>\n",
       "      <th>00:24:d7:04:9c:b0</th>\n",
       "      <td>2016-04-18 22:42:46</td>\n",
       "      <td>PROBING</td>\n",
       "      <td>2016-04-18 22:55:01</td>\n",
       "    </tr>\n",
       "    <tr>\n",
       "      <th>00:24:d7:a9:d7:18</th>\n",
       "      <td>2016-04-18 11:26:50</td>\n",
       "      <td>PROBING</td>\n",
       "      <td>2016-04-18 17:01:02</td>\n",
       "    </tr>\n",
       "    <tr>\n",
       "      <th>00:26:c7:44:ce:42</th>\n",
       "      <td>2016-04-18 09:27:14</td>\n",
       "      <td>PROBING</td>\n",
       "      <td>2016-04-18 10:02:02</td>\n",
       "    </tr>\n",
       "    <tr>\n",
       "      <th>00:61:71:62:7b:45</th>\n",
       "      <td>2016-04-17 17:06:37</td>\n",
       "      <td>UNKNOWN</td>\n",
       "      <td>2016-04-17 17:30:01</td>\n",
       "    </tr>\n",
       "    <tr>\n",
       "      <th>00:61:71:a8:ec:8c</th>\n",
       "      <td>2016-04-18 12:45:12</td>\n",
       "      <td>UNKNOWN</td>\n",
       "      <td>2016-04-18 13:51:03</td>\n",
       "    </tr>\n",
       "    <tr>\n",
       "      <th>00:88:65:82:37:1c</th>\n",
       "      <td>2016-04-18 11:33:14</td>\n",
       "      <td>PROBING</td>\n",
       "      <td>2016-04-18 11:53:03</td>\n",
       "    </tr>\n",
       "    <tr>\n",
       "      <th>00:9a:cd:b7:d0:4e</th>\n",
       "      <td>2016-04-20 19:06:31</td>\n",
       "      <td>PROBING</td>\n",
       "      <td>2016-04-20 19:37:01</td>\n",
       "    </tr>\n",
       "    <tr>\n",
       "      <th>00:ae:fa:68:ab:99</th>\n",
       "      <td>2016-04-22 17:44:47</td>\n",
       "      <td>UNKNOWN</td>\n",
       "      <td>2016-04-22 18:15:01</td>\n",
       "    </tr>\n",
       "  </tbody>\n",
       "</table>\n",
       "</div>"
      ],
      "text/plain": [
       "                      firstlocatedtime statustype               sgtime\n",
       "mac                                                                   \n",
       "00:08:ca:3b:1c:ab  2016-04-22 10:31:49    UNKNOWN  2016-04-22 10:47:01\n",
       "00:0c:e7:60:0d:60  2016-04-17 20:27:21    UNKNOWN  2016-04-17 21:10:01\n",
       "00:24:d7:04:9c:b0  2016-04-18 22:42:46    PROBING  2016-04-18 22:55:01\n",
       "00:24:d7:a9:d7:18  2016-04-18 11:26:50    PROBING  2016-04-18 17:01:02\n",
       "00:26:c7:44:ce:42  2016-04-18 09:27:14    PROBING  2016-04-18 10:02:02\n",
       "00:61:71:62:7b:45  2016-04-17 17:06:37    UNKNOWN  2016-04-17 17:30:01\n",
       "00:61:71:a8:ec:8c  2016-04-18 12:45:12    UNKNOWN  2016-04-18 13:51:03\n",
       "00:88:65:82:37:1c  2016-04-18 11:33:14    PROBING  2016-04-18 11:53:03\n",
       "00:9a:cd:b7:d0:4e  2016-04-20 19:06:31    PROBING  2016-04-20 19:37:01\n",
       "00:ae:fa:68:ab:99  2016-04-22 17:44:47    UNKNOWN  2016-04-22 18:15:01"
      ]
     },
     "execution_count": 23,
     "metadata": {},
     "output_type": "execute_result"
    }
   ],
   "source": [
    "test[test.index.isin(long_mac)][0:10]"
   ]
  },
  {
   "cell_type": "code",
   "execution_count": 25,
   "metadata": {
    "collapsed": false
   },
   "outputs": [],
   "source": [
    "cs = b[1:-1] +'-lost.csv'\n",
    "test[test.index.isin(long_mac)].to_csv(cs,header=['missingtime','status','earliestsgtime'])\n",
    "prob_set[prob_set.mac.isin(long_mac)].sort_values(by=['mac','sgtime'])"
   ]
  },
  {
   "cell_type": "code",
   "execution_count": 179,
   "metadata": {
    "collapsed": false
   },
   "outputs": [
    {
     "data": {
      "text/plain": [
       "count                   132\n",
       "unique                   21\n",
       "top       68:df:dd:55:9c:0d\n",
       "freq                     31\n",
       "Name: mac, dtype: object"
      ]
     },
     "execution_count": 179,
     "metadata": {},
     "output_type": "execute_result"
    }
   ],
   "source": [
    "prob_set[(prob_set[\"mac\"].isin(long_mac))&(prob_set[\"statustype\"]==\"PROBING\")].sort_values(by=[\"firstlocatedtime\",\"mac\"]).mac.describe()"
   ]
  },
  {
   "cell_type": "code",
   "execution_count": 177,
   "metadata": {
    "collapsed": false
   },
   "outputs": [
    {
     "name": "stdout",
     "output_type": "stream",
     "text": [
      "(47,)\n"
     ]
    }
   ],
   "source": [
    "print long_mac.shape"
   ]
  },
  {
   "cell_type": "markdown",
   "metadata": {},
   "source": [
    "* the missing time appears to be less than 1 devices"
   ]
  },
  {
   "cell_type": "code",
   "execution_count": 62,
   "metadata": {
    "collapsed": false
   },
   "outputs": [
    {
     "data": {
      "text/html": [
       "<div>\n",
       "<table border=\"1\" class=\"dataframe\">\n",
       "  <thead>\n",
       "    <tr style=\"text-align: right;\">\n",
       "      <th></th>\n",
       "      <th>mac</th>\n",
       "      <th>sgtime</th>\n",
       "      <th>statustype</th>\n",
       "      <th>firstlocatedtime</th>\n",
       "      <th>lastlocatedtime</th>\n",
       "    </tr>\n",
       "  </thead>\n",
       "  <tbody>\n",
       "    <tr>\n",
       "      <th>0</th>\n",
       "      <td>e8:50:8b:94:67:3b</td>\n",
       "      <td>2016-04-16 00:00:01</td>\n",
       "      <td>PROBING</td>\n",
       "      <td>2016-04-15 23:56:54</td>\n",
       "      <td>2016-04-15 23:57:14</td>\n",
       "    </tr>\n",
       "    <tr>\n",
       "      <th>1</th>\n",
       "      <td>94:b1:0a:de:9b:ca</td>\n",
       "      <td>2016-04-16 02:40:01</td>\n",
       "      <td>PROBING</td>\n",
       "      <td>2016-04-16 02:38:26</td>\n",
       "      <td>2016-04-16 02:38:26</td>\n",
       "    </tr>\n",
       "    <tr>\n",
       "      <th>2</th>\n",
       "      <td>94:b1:0a:de:9b:ca</td>\n",
       "      <td>2016-04-16 02:45:01</td>\n",
       "      <td>PROBING</td>\n",
       "      <td>2016-04-16 02:38:26</td>\n",
       "      <td>2016-04-16 02:38:26</td>\n",
       "    </tr>\n",
       "    <tr>\n",
       "      <th>3</th>\n",
       "      <td>84:55:a5:70:d1:eb</td>\n",
       "      <td>2016-04-16 07:50:01</td>\n",
       "      <td>PROBING</td>\n",
       "      <td>2016-04-16 07:48:14</td>\n",
       "      <td>2016-04-16 07:48:14</td>\n",
       "    </tr>\n",
       "    <tr>\n",
       "      <th>4</th>\n",
       "      <td>84:55:a5:70:d1:eb</td>\n",
       "      <td>2016-04-16 07:55:01</td>\n",
       "      <td>PROBING</td>\n",
       "      <td>2016-04-16 07:48:14</td>\n",
       "      <td>2016-04-16 07:48:14</td>\n",
       "    </tr>\n",
       "  </tbody>\n",
       "</table>\n",
       "</div>"
      ],
      "text/plain": [
       "                 mac               sgtime statustype     firstlocatedtime  \\\n",
       "0  e8:50:8b:94:67:3b  2016-04-16 00:00:01    PROBING  2016-04-15 23:56:54   \n",
       "1  94:b1:0a:de:9b:ca  2016-04-16 02:40:01    PROBING  2016-04-16 02:38:26   \n",
       "2  94:b1:0a:de:9b:ca  2016-04-16 02:45:01    PROBING  2016-04-16 02:38:26   \n",
       "3  84:55:a5:70:d1:eb  2016-04-16 07:50:01    PROBING  2016-04-16 07:48:14   \n",
       "4  84:55:a5:70:d1:eb  2016-04-16 07:55:01    PROBING  2016-04-16 07:48:14   \n",
       "\n",
       "       lastlocatedtime  \n",
       "0  2016-04-15 23:57:14  \n",
       "1  2016-04-16 02:38:26  \n",
       "2  2016-04-16 02:38:26  \n",
       "3  2016-04-16 07:48:14  \n",
       "4  2016-04-16 07:48:14  "
      ]
     },
     "execution_count": 62,
     "metadata": {},
     "output_type": "execute_result"
    }
   ],
   "source": [
    "prob_set.head()"
   ]
  },
  {
   "cell_type": "code",
   "execution_count": 76,
   "metadata": {
    "collapsed": true
   },
   "outputs": [],
   "source": [
    "prob_set['sgtime'] = pd.to_datetime(prob_set.sgtime)"
   ]
  },
  {
   "cell_type": "code",
   "execution_count": 91,
   "metadata": {
    "collapsed": false
   },
   "outputs": [
    {
     "data": {
      "text/html": [
       "<div>\n",
       "<table border=\"1\" class=\"dataframe\">\n",
       "  <thead>\n",
       "    <tr style=\"text-align: right;\">\n",
       "      <th></th>\n",
       "      <th>mac</th>\n",
       "      <th>sgtime</th>\n",
       "      <th>statustype</th>\n",
       "      <th>firstlocatedtime</th>\n",
       "      <th>lastlocatedtime</th>\n",
       "    </tr>\n",
       "  </thead>\n",
       "  <tbody>\n",
       "    <tr>\n",
       "      <th>1188</th>\n",
       "      <td>00:ee:bd:77:f1:3c</td>\n",
       "      <td>2016-04-18 19:25:02</td>\n",
       "      <td>PROBING</td>\n",
       "      <td>2016-04-18 19:24:34</td>\n",
       "      <td>2016-04-18 19:24:44</td>\n",
       "    </tr>\n",
       "    <tr>\n",
       "      <th>1259</th>\n",
       "      <td>00:ee:bd:85:37:ce</td>\n",
       "      <td>2016-04-19 06:20:01</td>\n",
       "      <td>PROBING</td>\n",
       "      <td>2016-04-19 06:18:49</td>\n",
       "      <td>2016-04-19 06:18:49</td>\n",
       "    </tr>\n",
       "    <tr>\n",
       "      <th>3433</th>\n",
       "      <td>04:f7:e4:43:35:36</td>\n",
       "      <td>2016-04-20 16:53:01</td>\n",
       "      <td>PROBING</td>\n",
       "      <td>2016-04-20 16:48:30</td>\n",
       "      <td>2016-04-20 16:52:45</td>\n",
       "    </tr>\n",
       "    <tr>\n",
       "      <th>122</th>\n",
       "      <td>0c:1d:af:74:30:0e</td>\n",
       "      <td>2016-04-17 17:05:02</td>\n",
       "      <td>PROBING</td>\n",
       "      <td>2016-04-17 17:03:04</td>\n",
       "      <td>2016-04-17 17:04:04</td>\n",
       "    </tr>\n",
       "    <tr>\n",
       "      <th>123</th>\n",
       "      <td>0c:1d:af:74:30:0e</td>\n",
       "      <td>2016-04-17 17:10:02</td>\n",
       "      <td>PROBING</td>\n",
       "      <td>2016-04-17 17:03:04</td>\n",
       "      <td>2016-04-17 17:04:04</td>\n",
       "    </tr>\n",
       "    <tr>\n",
       "      <th>128</th>\n",
       "      <td>10:30:47:64:32:89</td>\n",
       "      <td>2016-04-17 18:15:02</td>\n",
       "      <td>PROBING</td>\n",
       "      <td>2016-04-17 18:09:02</td>\n",
       "      <td>2016-04-17 18:13:48</td>\n",
       "    </tr>\n",
       "    <tr>\n",
       "      <th>28</th>\n",
       "      <td>10:40:f3:b9:0a:31</td>\n",
       "      <td>2016-04-16 12:05:02</td>\n",
       "      <td>PROBING</td>\n",
       "      <td>2016-04-16 12:02:06</td>\n",
       "      <td>2016-04-16 12:04:23</td>\n",
       "    </tr>\n",
       "    <tr>\n",
       "      <th>29</th>\n",
       "      <td>10:40:f3:b9:0a:31</td>\n",
       "      <td>2016-04-16 12:10:01</td>\n",
       "      <td>PROBING</td>\n",
       "      <td>2016-04-16 12:02:06</td>\n",
       "      <td>2016-04-16 12:06:37</td>\n",
       "    </tr>\n",
       "    <tr>\n",
       "      <th>4568</th>\n",
       "      <td>10:41:7f:d8:09:4c</td>\n",
       "      <td>2016-04-22 07:40:01</td>\n",
       "      <td>UNKNOWN</td>\n",
       "      <td>2016-04-22 07:37:59</td>\n",
       "      <td>2016-04-22 07:38:37</td>\n",
       "    </tr>\n",
       "    <tr>\n",
       "      <th>120</th>\n",
       "      <td>10:a5:d0:42:cf:41</td>\n",
       "      <td>2016-04-17 16:25:02</td>\n",
       "      <td>PROBING</td>\n",
       "      <td>2016-04-17 16:23:15</td>\n",
       "      <td>2016-04-17 16:24:07</td>\n",
       "    </tr>\n",
       "    <tr>\n",
       "      <th>121</th>\n",
       "      <td>10:a5:d0:42:cf:41</td>\n",
       "      <td>2016-04-17 16:30:01</td>\n",
       "      <td>PROBING</td>\n",
       "      <td>2016-04-17 16:23:15</td>\n",
       "      <td>2016-04-17 16:24:07</td>\n",
       "    </tr>\n",
       "    <tr>\n",
       "      <th>4360</th>\n",
       "      <td>18:59:36:22:ba:bd</td>\n",
       "      <td>2016-04-21 16:53:01</td>\n",
       "      <td>PROBING</td>\n",
       "      <td>2016-04-21 16:51:52</td>\n",
       "      <td>2016-04-21 16:52:04</td>\n",
       "    </tr>\n",
       "    <tr>\n",
       "      <th>4361</th>\n",
       "      <td>18:59:36:22:ba:bd</td>\n",
       "      <td>2016-04-21 16:54:01</td>\n",
       "      <td>PROBING</td>\n",
       "      <td>2016-04-21 16:51:52</td>\n",
       "      <td>2016-04-21 16:52:04</td>\n",
       "    </tr>\n",
       "    <tr>\n",
       "      <th>4362</th>\n",
       "      <td>18:59:36:22:ba:bd</td>\n",
       "      <td>2016-04-21 16:55:01</td>\n",
       "      <td>PROBING</td>\n",
       "      <td>2016-04-21 16:51:52</td>\n",
       "      <td>2016-04-21 16:52:04</td>\n",
       "    </tr>\n",
       "    <tr>\n",
       "      <th>4363</th>\n",
       "      <td>18:59:36:22:ba:bd</td>\n",
       "      <td>2016-04-21 16:56:01</td>\n",
       "      <td>PROBING</td>\n",
       "      <td>2016-04-21 16:51:52</td>\n",
       "      <td>2016-04-21 16:52:04</td>\n",
       "    </tr>\n",
       "    <tr>\n",
       "      <th>4364</th>\n",
       "      <td>18:59:36:22:ba:bd</td>\n",
       "      <td>2016-04-21 16:57:01</td>\n",
       "      <td>PROBING</td>\n",
       "      <td>2016-04-21 16:51:52</td>\n",
       "      <td>2016-04-21 16:52:04</td>\n",
       "    </tr>\n",
       "    <tr>\n",
       "      <th>4365</th>\n",
       "      <td>18:59:36:22:ba:bd</td>\n",
       "      <td>2016-04-21 16:58:01</td>\n",
       "      <td>PROBING</td>\n",
       "      <td>2016-04-21 16:51:52</td>\n",
       "      <td>2016-04-21 16:52:04</td>\n",
       "    </tr>\n",
       "    <tr>\n",
       "      <th>4366</th>\n",
       "      <td>18:59:36:22:ba:bd</td>\n",
       "      <td>2016-04-21 16:59:01</td>\n",
       "      <td>PROBING</td>\n",
       "      <td>2016-04-21 16:51:52</td>\n",
       "      <td>2016-04-21 16:52:04</td>\n",
       "    </tr>\n",
       "    <tr>\n",
       "      <th>150</th>\n",
       "      <td>20:82:c0:77:5b:ad</td>\n",
       "      <td>2016-04-18 05:25:01</td>\n",
       "      <td>PROBING</td>\n",
       "      <td>2016-04-18 05:23:35</td>\n",
       "      <td>2016-04-18 05:23:35</td>\n",
       "    </tr>\n",
       "    <tr>\n",
       "      <th>151</th>\n",
       "      <td>20:82:c0:77:5b:ad</td>\n",
       "      <td>2016-04-18 05:30:01</td>\n",
       "      <td>PROBING</td>\n",
       "      <td>2016-04-18 05:23:35</td>\n",
       "      <td>2016-04-18 05:23:35</td>\n",
       "    </tr>\n",
       "    <tr>\n",
       "      <th>1248</th>\n",
       "      <td>20:82:c0:7a:d8:03</td>\n",
       "      <td>2016-04-18 22:30:02</td>\n",
       "      <td>PROBING</td>\n",
       "      <td>2016-04-18 22:28:08</td>\n",
       "      <td>2016-04-18 22:28:08</td>\n",
       "    </tr>\n",
       "    <tr>\n",
       "      <th>49</th>\n",
       "      <td>24:7f:3c:06:be:ef</td>\n",
       "      <td>2016-04-16 17:00:02</td>\n",
       "      <td>UNKNOWN</td>\n",
       "      <td>2016-04-16 16:56:50</td>\n",
       "      <td>2016-04-16 16:59:30</td>\n",
       "    </tr>\n",
       "    <tr>\n",
       "      <th>1611</th>\n",
       "      <td>24:df:6a:84:92:ab</td>\n",
       "      <td>2016-04-19 11:22:02</td>\n",
       "      <td>PROBING</td>\n",
       "      <td>2016-04-19 11:21:03</td>\n",
       "      <td>2016-04-19 11:21:03</td>\n",
       "    </tr>\n",
       "    <tr>\n",
       "      <th>1613</th>\n",
       "      <td>24:df:6a:84:92:ab</td>\n",
       "      <td>2016-04-19 11:23:02</td>\n",
       "      <td>PROBING</td>\n",
       "      <td>2016-04-19 11:21:03</td>\n",
       "      <td>2016-04-19 11:21:03</td>\n",
       "    </tr>\n",
       "    <tr>\n",
       "      <th>1615</th>\n",
       "      <td>24:df:6a:84:92:ab</td>\n",
       "      <td>2016-04-19 11:24:03</td>\n",
       "      <td>PROBING</td>\n",
       "      <td>2016-04-19 11:21:03</td>\n",
       "      <td>2016-04-19 11:21:03</td>\n",
       "    </tr>\n",
       "    <tr>\n",
       "      <th>1617</th>\n",
       "      <td>24:df:6a:84:92:ab</td>\n",
       "      <td>2016-04-19 11:25:02</td>\n",
       "      <td>PROBING</td>\n",
       "      <td>2016-04-19 11:21:03</td>\n",
       "      <td>2016-04-19 11:21:03</td>\n",
       "    </tr>\n",
       "    <tr>\n",
       "      <th>1619</th>\n",
       "      <td>24:df:6a:84:92:ab</td>\n",
       "      <td>2016-04-19 11:26:02</td>\n",
       "      <td>PROBING</td>\n",
       "      <td>2016-04-19 11:21:03</td>\n",
       "      <td>2016-04-19 11:21:03</td>\n",
       "    </tr>\n",
       "    <tr>\n",
       "      <th>1621</th>\n",
       "      <td>24:df:6a:84:92:ab</td>\n",
       "      <td>2016-04-19 11:27:02</td>\n",
       "      <td>PROBING</td>\n",
       "      <td>2016-04-19 11:21:03</td>\n",
       "      <td>2016-04-19 11:21:03</td>\n",
       "    </tr>\n",
       "    <tr>\n",
       "      <th>1623</th>\n",
       "      <td>24:df:6a:84:92:ab</td>\n",
       "      <td>2016-04-19 11:28:02</td>\n",
       "      <td>PROBING</td>\n",
       "      <td>2016-04-19 11:21:03</td>\n",
       "      <td>2016-04-19 11:21:03</td>\n",
       "    </tr>\n",
       "    <tr>\n",
       "      <th>1625</th>\n",
       "      <td>24:df:6a:84:92:ab</td>\n",
       "      <td>2016-04-19 11:29:02</td>\n",
       "      <td>PROBING</td>\n",
       "      <td>2016-04-19 11:21:03</td>\n",
       "      <td>2016-04-19 11:21:03</td>\n",
       "    </tr>\n",
       "    <tr>\n",
       "      <th>...</th>\n",
       "      <td>...</td>\n",
       "      <td>...</td>\n",
       "      <td>...</td>\n",
       "      <td>...</td>\n",
       "      <td>...</td>\n",
       "    </tr>\n",
       "    <tr>\n",
       "      <th>219</th>\n",
       "      <td>ec:cb:30:d6:a4:cb</td>\n",
       "      <td>2016-04-18 08:34:01</td>\n",
       "      <td>PROBING</td>\n",
       "      <td>2016-04-18 08:32:26</td>\n",
       "      <td>2016-04-18 08:32:26</td>\n",
       "    </tr>\n",
       "    <tr>\n",
       "      <th>220</th>\n",
       "      <td>ec:cb:30:d6:a4:cb</td>\n",
       "      <td>2016-04-18 08:35:01</td>\n",
       "      <td>PROBING</td>\n",
       "      <td>2016-04-18 08:32:26</td>\n",
       "      <td>2016-04-18 08:32:26</td>\n",
       "    </tr>\n",
       "    <tr>\n",
       "      <th>222</th>\n",
       "      <td>ec:cb:30:d6:a4:cb</td>\n",
       "      <td>2016-04-18 08:36:02</td>\n",
       "      <td>PROBING</td>\n",
       "      <td>2016-04-18 08:32:26</td>\n",
       "      <td>2016-04-18 08:32:26</td>\n",
       "    </tr>\n",
       "    <tr>\n",
       "      <th>224</th>\n",
       "      <td>ec:cb:30:d6:a4:cb</td>\n",
       "      <td>2016-04-18 08:37:02</td>\n",
       "      <td>PROBING</td>\n",
       "      <td>2016-04-18 08:32:26</td>\n",
       "      <td>2016-04-18 08:32:26</td>\n",
       "    </tr>\n",
       "    <tr>\n",
       "      <th>225</th>\n",
       "      <td>ec:cb:30:d6:a4:cb</td>\n",
       "      <td>2016-04-18 08:38:01</td>\n",
       "      <td>PROBING</td>\n",
       "      <td>2016-04-18 08:32:26</td>\n",
       "      <td>2016-04-18 08:32:26</td>\n",
       "    </tr>\n",
       "    <tr>\n",
       "      <th>226</th>\n",
       "      <td>ec:cb:30:d6:a4:cb</td>\n",
       "      <td>2016-04-18 08:39:02</td>\n",
       "      <td>PROBING</td>\n",
       "      <td>2016-04-18 08:32:26</td>\n",
       "      <td>2016-04-18 08:32:26</td>\n",
       "    </tr>\n",
       "    <tr>\n",
       "      <th>227</th>\n",
       "      <td>ec:cb:30:d6:a4:cb</td>\n",
       "      <td>2016-04-18 08:40:02</td>\n",
       "      <td>PROBING</td>\n",
       "      <td>2016-04-18 08:32:26</td>\n",
       "      <td>2016-04-18 08:32:26</td>\n",
       "    </tr>\n",
       "    <tr>\n",
       "      <th>228</th>\n",
       "      <td>ec:cb:30:d6:a4:cb</td>\n",
       "      <td>2016-04-18 08:41:02</td>\n",
       "      <td>PROBING</td>\n",
       "      <td>2016-04-18 08:32:26</td>\n",
       "      <td>2016-04-18 08:32:26</td>\n",
       "    </tr>\n",
       "    <tr>\n",
       "      <th>231</th>\n",
       "      <td>ec:cb:30:d6:a4:cb</td>\n",
       "      <td>2016-04-18 08:42:02</td>\n",
       "      <td>PROBING</td>\n",
       "      <td>2016-04-18 08:32:26</td>\n",
       "      <td>2016-04-18 08:32:26</td>\n",
       "    </tr>\n",
       "    <tr>\n",
       "      <th>966</th>\n",
       "      <td>f0:25:b7:34:cd:da</td>\n",
       "      <td>2016-04-18 15:43:02</td>\n",
       "      <td>PROBING</td>\n",
       "      <td>2016-04-18 15:42:22</td>\n",
       "      <td>2016-04-18 15:42:22</td>\n",
       "    </tr>\n",
       "    <tr>\n",
       "      <th>967</th>\n",
       "      <td>f0:25:b7:34:cd:da</td>\n",
       "      <td>2016-04-18 15:44:03</td>\n",
       "      <td>PROBING</td>\n",
       "      <td>2016-04-18 15:42:22</td>\n",
       "      <td>2016-04-18 15:42:22</td>\n",
       "    </tr>\n",
       "    <tr>\n",
       "      <th>969</th>\n",
       "      <td>f0:25:b7:34:cd:da</td>\n",
       "      <td>2016-04-18 15:45:02</td>\n",
       "      <td>PROBING</td>\n",
       "      <td>2016-04-18 15:42:22</td>\n",
       "      <td>2016-04-18 15:42:22</td>\n",
       "    </tr>\n",
       "    <tr>\n",
       "      <th>971</th>\n",
       "      <td>f0:25:b7:34:cd:da</td>\n",
       "      <td>2016-04-18 15:46:02</td>\n",
       "      <td>PROBING</td>\n",
       "      <td>2016-04-18 15:42:22</td>\n",
       "      <td>2016-04-18 15:42:22</td>\n",
       "    </tr>\n",
       "    <tr>\n",
       "      <th>973</th>\n",
       "      <td>f0:25:b7:34:cd:da</td>\n",
       "      <td>2016-04-18 15:47:03</td>\n",
       "      <td>PROBING</td>\n",
       "      <td>2016-04-18 15:42:22</td>\n",
       "      <td>2016-04-18 15:42:22</td>\n",
       "    </tr>\n",
       "    <tr>\n",
       "      <th>2518</th>\n",
       "      <td>f0:25:b7:35:f9:84</td>\n",
       "      <td>2016-04-19 22:00:02</td>\n",
       "      <td>PROBING</td>\n",
       "      <td>2016-04-19 21:56:05</td>\n",
       "      <td>2016-04-19 21:57:22</td>\n",
       "    </tr>\n",
       "    <tr>\n",
       "      <th>2519</th>\n",
       "      <td>f0:25:b7:35:f9:84</td>\n",
       "      <td>2016-04-19 22:05:01</td>\n",
       "      <td>PROBING</td>\n",
       "      <td>2016-04-19 21:56:05</td>\n",
       "      <td>2016-04-19 21:57:22</td>\n",
       "    </tr>\n",
       "    <tr>\n",
       "      <th>65</th>\n",
       "      <td>f0:25:b7:70:97:e3</td>\n",
       "      <td>2016-04-16 19:50:01</td>\n",
       "      <td>PROBING</td>\n",
       "      <td>2016-04-16 19:47:30</td>\n",
       "      <td>2016-04-16 19:47:30</td>\n",
       "    </tr>\n",
       "    <tr>\n",
       "      <th>27</th>\n",
       "      <td>f0:25:b7:7b:16:61</td>\n",
       "      <td>2016-04-16 11:55:01</td>\n",
       "      <td>PROBING</td>\n",
       "      <td>2016-04-16 11:54:31</td>\n",
       "      <td>2016-04-16 11:54:31</td>\n",
       "    </tr>\n",
       "    <tr>\n",
       "      <th>6</th>\n",
       "      <td>f0:27:65:16:fd:e0</td>\n",
       "      <td>2016-04-16 09:35:02</td>\n",
       "      <td>PROBING</td>\n",
       "      <td>2016-04-16 09:34:45</td>\n",
       "      <td>2016-04-16 09:34:45</td>\n",
       "    </tr>\n",
       "    <tr>\n",
       "      <th>7</th>\n",
       "      <td>f0:27:65:16:fd:e0</td>\n",
       "      <td>2016-04-16 09:40:01</td>\n",
       "      <td>PROBING</td>\n",
       "      <td>2016-04-16 09:34:45</td>\n",
       "      <td>2016-04-16 09:34:45</td>\n",
       "    </tr>\n",
       "    <tr>\n",
       "      <th>45</th>\n",
       "      <td>f0:27:65:25:99:89</td>\n",
       "      <td>2016-04-16 16:05:02</td>\n",
       "      <td>PROBING</td>\n",
       "      <td>2016-04-16 16:01:04</td>\n",
       "      <td>2016-04-16 16:01:14</td>\n",
       "    </tr>\n",
       "    <tr>\n",
       "      <th>4555</th>\n",
       "      <td>f4:09:d8:44:97:dd</td>\n",
       "      <td>2016-04-21 23:10:01</td>\n",
       "      <td>PROBING</td>\n",
       "      <td>2016-04-21 23:09:32</td>\n",
       "      <td>2016-04-21 23:09:40</td>\n",
       "    </tr>\n",
       "    <tr>\n",
       "      <th>4556</th>\n",
       "      <td>f4:09:d8:44:97:dd</td>\n",
       "      <td>2016-04-21 23:15:01</td>\n",
       "      <td>PROBING</td>\n",
       "      <td>2016-04-21 23:09:32</td>\n",
       "      <td>2016-04-21 23:10:01</td>\n",
       "    </tr>\n",
       "    <tr>\n",
       "      <th>76</th>\n",
       "      <td>f4:0e:22:d1:6d:81</td>\n",
       "      <td>2016-04-17 08:15:01</td>\n",
       "      <td>PROBING</td>\n",
       "      <td>2016-04-17 08:14:37</td>\n",
       "      <td>2016-04-17 08:14:37</td>\n",
       "    </tr>\n",
       "    <tr>\n",
       "      <th>77</th>\n",
       "      <td>f4:0e:22:d1:6d:81</td>\n",
       "      <td>2016-04-17 08:20:01</td>\n",
       "      <td>PROBING</td>\n",
       "      <td>2016-04-17 08:14:37</td>\n",
       "      <td>2016-04-17 08:14:37</td>\n",
       "    </tr>\n",
       "    <tr>\n",
       "      <th>5184</th>\n",
       "      <td>f4:8b:32:a6:70:62</td>\n",
       "      <td>2016-04-22 14:24:01</td>\n",
       "      <td>PROBING</td>\n",
       "      <td>2016-04-22 14:23:37</td>\n",
       "      <td>2016-04-22 14:23:53</td>\n",
       "    </tr>\n",
       "    <tr>\n",
       "      <th>52</th>\n",
       "      <td>f8:84:f2:d2:47:58</td>\n",
       "      <td>2016-04-16 17:25:01</td>\n",
       "      <td>PROBING</td>\n",
       "      <td>2016-04-16 17:24:20</td>\n",
       "      <td>2016-04-16 17:24:20</td>\n",
       "    </tr>\n",
       "    <tr>\n",
       "      <th>53</th>\n",
       "      <td>f8:84:f2:d2:47:58</td>\n",
       "      <td>2016-04-16 17:30:02</td>\n",
       "      <td>PROBING</td>\n",
       "      <td>2016-04-16 17:24:20</td>\n",
       "      <td>2016-04-16 17:24:20</td>\n",
       "    </tr>\n",
       "    <tr>\n",
       "      <th>12</th>\n",
       "      <td>fc:64:ba:5d:a6:29</td>\n",
       "      <td>2016-04-16 10:25:01</td>\n",
       "      <td>PROBING</td>\n",
       "      <td>2016-04-16 10:18:16</td>\n",
       "      <td>2016-04-16 10:24:28</td>\n",
       "    </tr>\n",
       "    <tr>\n",
       "      <th>15</th>\n",
       "      <td>fc:64:ba:5d:a6:29</td>\n",
       "      <td>2016-04-16 10:30:02</td>\n",
       "      <td>PROBING</td>\n",
       "      <td>2016-04-16 10:18:16</td>\n",
       "      <td>2016-04-16 10:24:28</td>\n",
       "    </tr>\n",
       "  </tbody>\n",
       "</table>\n",
       "<p>1054 rows × 5 columns</p>\n",
       "</div>"
      ],
      "text/plain": [
       "                    mac              sgtime statustype     firstlocatedtime  \\\n",
       "1188  00:ee:bd:77:f1:3c 2016-04-18 19:25:02    PROBING  2016-04-18 19:24:34   \n",
       "1259  00:ee:bd:85:37:ce 2016-04-19 06:20:01    PROBING  2016-04-19 06:18:49   \n",
       "3433  04:f7:e4:43:35:36 2016-04-20 16:53:01    PROBING  2016-04-20 16:48:30   \n",
       "122   0c:1d:af:74:30:0e 2016-04-17 17:05:02    PROBING  2016-04-17 17:03:04   \n",
       "123   0c:1d:af:74:30:0e 2016-04-17 17:10:02    PROBING  2016-04-17 17:03:04   \n",
       "128   10:30:47:64:32:89 2016-04-17 18:15:02    PROBING  2016-04-17 18:09:02   \n",
       "28    10:40:f3:b9:0a:31 2016-04-16 12:05:02    PROBING  2016-04-16 12:02:06   \n",
       "29    10:40:f3:b9:0a:31 2016-04-16 12:10:01    PROBING  2016-04-16 12:02:06   \n",
       "4568  10:41:7f:d8:09:4c 2016-04-22 07:40:01    UNKNOWN  2016-04-22 07:37:59   \n",
       "120   10:a5:d0:42:cf:41 2016-04-17 16:25:02    PROBING  2016-04-17 16:23:15   \n",
       "121   10:a5:d0:42:cf:41 2016-04-17 16:30:01    PROBING  2016-04-17 16:23:15   \n",
       "4360  18:59:36:22:ba:bd 2016-04-21 16:53:01    PROBING  2016-04-21 16:51:52   \n",
       "4361  18:59:36:22:ba:bd 2016-04-21 16:54:01    PROBING  2016-04-21 16:51:52   \n",
       "4362  18:59:36:22:ba:bd 2016-04-21 16:55:01    PROBING  2016-04-21 16:51:52   \n",
       "4363  18:59:36:22:ba:bd 2016-04-21 16:56:01    PROBING  2016-04-21 16:51:52   \n",
       "4364  18:59:36:22:ba:bd 2016-04-21 16:57:01    PROBING  2016-04-21 16:51:52   \n",
       "4365  18:59:36:22:ba:bd 2016-04-21 16:58:01    PROBING  2016-04-21 16:51:52   \n",
       "4366  18:59:36:22:ba:bd 2016-04-21 16:59:01    PROBING  2016-04-21 16:51:52   \n",
       "150   20:82:c0:77:5b:ad 2016-04-18 05:25:01    PROBING  2016-04-18 05:23:35   \n",
       "151   20:82:c0:77:5b:ad 2016-04-18 05:30:01    PROBING  2016-04-18 05:23:35   \n",
       "1248  20:82:c0:7a:d8:03 2016-04-18 22:30:02    PROBING  2016-04-18 22:28:08   \n",
       "49    24:7f:3c:06:be:ef 2016-04-16 17:00:02    UNKNOWN  2016-04-16 16:56:50   \n",
       "1611  24:df:6a:84:92:ab 2016-04-19 11:22:02    PROBING  2016-04-19 11:21:03   \n",
       "1613  24:df:6a:84:92:ab 2016-04-19 11:23:02    PROBING  2016-04-19 11:21:03   \n",
       "1615  24:df:6a:84:92:ab 2016-04-19 11:24:03    PROBING  2016-04-19 11:21:03   \n",
       "1617  24:df:6a:84:92:ab 2016-04-19 11:25:02    PROBING  2016-04-19 11:21:03   \n",
       "1619  24:df:6a:84:92:ab 2016-04-19 11:26:02    PROBING  2016-04-19 11:21:03   \n",
       "1621  24:df:6a:84:92:ab 2016-04-19 11:27:02    PROBING  2016-04-19 11:21:03   \n",
       "1623  24:df:6a:84:92:ab 2016-04-19 11:28:02    PROBING  2016-04-19 11:21:03   \n",
       "1625  24:df:6a:84:92:ab 2016-04-19 11:29:02    PROBING  2016-04-19 11:21:03   \n",
       "...                 ...                 ...        ...                  ...   \n",
       "219   ec:cb:30:d6:a4:cb 2016-04-18 08:34:01    PROBING  2016-04-18 08:32:26   \n",
       "220   ec:cb:30:d6:a4:cb 2016-04-18 08:35:01    PROBING  2016-04-18 08:32:26   \n",
       "222   ec:cb:30:d6:a4:cb 2016-04-18 08:36:02    PROBING  2016-04-18 08:32:26   \n",
       "224   ec:cb:30:d6:a4:cb 2016-04-18 08:37:02    PROBING  2016-04-18 08:32:26   \n",
       "225   ec:cb:30:d6:a4:cb 2016-04-18 08:38:01    PROBING  2016-04-18 08:32:26   \n",
       "226   ec:cb:30:d6:a4:cb 2016-04-18 08:39:02    PROBING  2016-04-18 08:32:26   \n",
       "227   ec:cb:30:d6:a4:cb 2016-04-18 08:40:02    PROBING  2016-04-18 08:32:26   \n",
       "228   ec:cb:30:d6:a4:cb 2016-04-18 08:41:02    PROBING  2016-04-18 08:32:26   \n",
       "231   ec:cb:30:d6:a4:cb 2016-04-18 08:42:02    PROBING  2016-04-18 08:32:26   \n",
       "966   f0:25:b7:34:cd:da 2016-04-18 15:43:02    PROBING  2016-04-18 15:42:22   \n",
       "967   f0:25:b7:34:cd:da 2016-04-18 15:44:03    PROBING  2016-04-18 15:42:22   \n",
       "969   f0:25:b7:34:cd:da 2016-04-18 15:45:02    PROBING  2016-04-18 15:42:22   \n",
       "971   f0:25:b7:34:cd:da 2016-04-18 15:46:02    PROBING  2016-04-18 15:42:22   \n",
       "973   f0:25:b7:34:cd:da 2016-04-18 15:47:03    PROBING  2016-04-18 15:42:22   \n",
       "2518  f0:25:b7:35:f9:84 2016-04-19 22:00:02    PROBING  2016-04-19 21:56:05   \n",
       "2519  f0:25:b7:35:f9:84 2016-04-19 22:05:01    PROBING  2016-04-19 21:56:05   \n",
       "65    f0:25:b7:70:97:e3 2016-04-16 19:50:01    PROBING  2016-04-16 19:47:30   \n",
       "27    f0:25:b7:7b:16:61 2016-04-16 11:55:01    PROBING  2016-04-16 11:54:31   \n",
       "6     f0:27:65:16:fd:e0 2016-04-16 09:35:02    PROBING  2016-04-16 09:34:45   \n",
       "7     f0:27:65:16:fd:e0 2016-04-16 09:40:01    PROBING  2016-04-16 09:34:45   \n",
       "45    f0:27:65:25:99:89 2016-04-16 16:05:02    PROBING  2016-04-16 16:01:04   \n",
       "4555  f4:09:d8:44:97:dd 2016-04-21 23:10:01    PROBING  2016-04-21 23:09:32   \n",
       "4556  f4:09:d8:44:97:dd 2016-04-21 23:15:01    PROBING  2016-04-21 23:09:32   \n",
       "76    f4:0e:22:d1:6d:81 2016-04-17 08:15:01    PROBING  2016-04-17 08:14:37   \n",
       "77    f4:0e:22:d1:6d:81 2016-04-17 08:20:01    PROBING  2016-04-17 08:14:37   \n",
       "5184  f4:8b:32:a6:70:62 2016-04-22 14:24:01    PROBING  2016-04-22 14:23:37   \n",
       "52    f8:84:f2:d2:47:58 2016-04-16 17:25:01    PROBING  2016-04-16 17:24:20   \n",
       "53    f8:84:f2:d2:47:58 2016-04-16 17:30:02    PROBING  2016-04-16 17:24:20   \n",
       "12    fc:64:ba:5d:a6:29 2016-04-16 10:25:01    PROBING  2016-04-16 10:18:16   \n",
       "15    fc:64:ba:5d:a6:29 2016-04-16 10:30:02    PROBING  2016-04-16 10:18:16   \n",
       "\n",
       "          lastlocatedtime  \n",
       "1188  2016-04-18 19:24:44  \n",
       "1259  2016-04-19 06:18:49  \n",
       "3433  2016-04-20 16:52:45  \n",
       "122   2016-04-17 17:04:04  \n",
       "123   2016-04-17 17:04:04  \n",
       "128   2016-04-17 18:13:48  \n",
       "28    2016-04-16 12:04:23  \n",
       "29    2016-04-16 12:06:37  \n",
       "4568  2016-04-22 07:38:37  \n",
       "120   2016-04-17 16:24:07  \n",
       "121   2016-04-17 16:24:07  \n",
       "4360  2016-04-21 16:52:04  \n",
       "4361  2016-04-21 16:52:04  \n",
       "4362  2016-04-21 16:52:04  \n",
       "4363  2016-04-21 16:52:04  \n",
       "4364  2016-04-21 16:52:04  \n",
       "4365  2016-04-21 16:52:04  \n",
       "4366  2016-04-21 16:52:04  \n",
       "150   2016-04-18 05:23:35  \n",
       "151   2016-04-18 05:23:35  \n",
       "1248  2016-04-18 22:28:08  \n",
       "49    2016-04-16 16:59:30  \n",
       "1611  2016-04-19 11:21:03  \n",
       "1613  2016-04-19 11:21:03  \n",
       "1615  2016-04-19 11:21:03  \n",
       "1617  2016-04-19 11:21:03  \n",
       "1619  2016-04-19 11:21:03  \n",
       "1621  2016-04-19 11:21:03  \n",
       "1623  2016-04-19 11:21:03  \n",
       "1625  2016-04-19 11:21:03  \n",
       "...                   ...  \n",
       "219   2016-04-18 08:32:26  \n",
       "220   2016-04-18 08:32:26  \n",
       "222   2016-04-18 08:32:26  \n",
       "224   2016-04-18 08:32:26  \n",
       "225   2016-04-18 08:32:26  \n",
       "226   2016-04-18 08:32:26  \n",
       "227   2016-04-18 08:32:26  \n",
       "228   2016-04-18 08:32:26  \n",
       "231   2016-04-18 08:32:26  \n",
       "966   2016-04-18 15:42:22  \n",
       "967   2016-04-18 15:42:22  \n",
       "969   2016-04-18 15:42:22  \n",
       "971   2016-04-18 15:42:22  \n",
       "973   2016-04-18 15:42:22  \n",
       "2518  2016-04-19 21:57:22  \n",
       "2519  2016-04-19 21:57:22  \n",
       "65    2016-04-16 19:47:30  \n",
       "27    2016-04-16 11:54:31  \n",
       "6     2016-04-16 09:34:45  \n",
       "7     2016-04-16 09:34:45  \n",
       "45    2016-04-16 16:01:14  \n",
       "4555  2016-04-21 23:09:40  \n",
       "4556  2016-04-21 23:10:01  \n",
       "76    2016-04-17 08:14:37  \n",
       "77    2016-04-17 08:14:37  \n",
       "5184  2016-04-22 14:23:53  \n",
       "52    2016-04-16 17:24:20  \n",
       "53    2016-04-16 17:24:20  \n",
       "12    2016-04-16 10:24:28  \n",
       "15    2016-04-16 10:24:28  \n",
       "\n",
       "[1054 rows x 5 columns]"
      ]
     },
     "execution_count": 91,
     "metadata": {},
     "output_type": "execute_result"
    }
   ],
   "source": [
    "mac_list = prob_set[prob_set.sgtime.isin(tlist)].mac.unique()\n",
    "prob_set[prob_set.mac.isin(mac_list)].sort_values(by=['mac','firstlocatedtime'])"
   ]
  },
  {
   "cell_type": "markdown",
   "metadata": {},
   "source": [
    "### check the long record to see the records' creating rules"
   ]
  },
  {
   "cell_type": "code",
   "execution_count": 87,
   "metadata": {
    "collapsed": false
   },
   "outputs": [
    {
     "data": {
      "text/html": [
       "<div>\n",
       "<table border=\"1\" class=\"dataframe\">\n",
       "  <thead>\n",
       "    <tr style=\"text-align: right;\">\n",
       "      <th></th>\n",
       "      <th>mac</th>\n",
       "      <th>sgtime</th>\n",
       "      <th>bldid</th>\n",
       "      <th>xcor</th>\n",
       "      <th>ycor</th>\n",
       "      <th>firstlocatedtime</th>\n",
       "      <th>lastlocatedtime</th>\n",
       "      <th>statustype</th>\n",
       "    </tr>\n",
       "  </thead>\n",
       "  <tbody>\n",
       "    <tr>\n",
       "      <th>5131</th>\n",
       "      <td>7c:7a:91:67:87:a7</td>\n",
       "      <td>2016-04-20 02:25:01</td>\n",
       "      <td>SDE3-04</td>\n",
       "      <td>74.81</td>\n",
       "      <td>111.11</td>\n",
       "      <td>2016-04-15 09:55:20</td>\n",
       "      <td>2016-04-20 02:24:56</td>\n",
       "      <td>UNKNOWN</td>\n",
       "    </tr>\n",
       "    <tr>\n",
       "      <th>5132</th>\n",
       "      <td>7c:7a:91:67:87:a7</td>\n",
       "      <td>2016-04-20 10:23:01</td>\n",
       "      <td>SDE3-04</td>\n",
       "      <td>75.79</td>\n",
       "      <td>129.66</td>\n",
       "      <td>2016-04-15 09:55:20</td>\n",
       "      <td>2016-04-20 10:22:46</td>\n",
       "      <td>UNKNOWN</td>\n",
       "    </tr>\n",
       "    <tr>\n",
       "      <th>5133</th>\n",
       "      <td>7c:7a:91:67:87:a7</td>\n",
       "      <td>2016-04-20 13:57:01</td>\n",
       "      <td>SDE3-04</td>\n",
       "      <td>77.68</td>\n",
       "      <td>127.61</td>\n",
       "      <td>2016-04-15 09:55:20</td>\n",
       "      <td>2016-04-20 13:56:52</td>\n",
       "      <td>PROBING</td>\n",
       "    </tr>\n",
       "    <tr>\n",
       "      <th>5134</th>\n",
       "      <td>7c:7a:91:67:87:a7</td>\n",
       "      <td>2016-04-20 15:18:01</td>\n",
       "      <td>SDE3-04</td>\n",
       "      <td>76.69</td>\n",
       "      <td>121.26</td>\n",
       "      <td>2016-04-15 09:55:20</td>\n",
       "      <td>2016-04-20 15:17:45</td>\n",
       "      <td>PROBING</td>\n",
       "    </tr>\n",
       "    <tr>\n",
       "      <th>5135</th>\n",
       "      <td>7c:7a:91:67:87:a7</td>\n",
       "      <td>2016-04-22 16:48:01</td>\n",
       "      <td>SDE3-04</td>\n",
       "      <td>67.42</td>\n",
       "      <td>127.62</td>\n",
       "      <td>2016-04-15 09:55:20</td>\n",
       "      <td>2016-04-22 16:47:48</td>\n",
       "      <td>PROBING</td>\n",
       "    </tr>\n",
       "  </tbody>\n",
       "</table>\n",
       "</div>"
      ],
      "text/plain": [
       "                    mac               sgtime    bldid   xcor    ycor  \\\n",
       "5131  7c:7a:91:67:87:a7  2016-04-20 02:25:01  SDE3-04  74.81  111.11   \n",
       "5132  7c:7a:91:67:87:a7  2016-04-20 10:23:01  SDE3-04  75.79  129.66   \n",
       "5133  7c:7a:91:67:87:a7  2016-04-20 13:57:01  SDE3-04  77.68  127.61   \n",
       "5134  7c:7a:91:67:87:a7  2016-04-20 15:18:01  SDE3-04  76.69  121.26   \n",
       "5135  7c:7a:91:67:87:a7  2016-04-22 16:48:01  SDE3-04  67.42  127.62   \n",
       "\n",
       "         firstlocatedtime      lastlocatedtime statustype  \n",
       "5131  2016-04-15 09:55:20  2016-04-20 02:24:56    UNKNOWN  \n",
       "5132  2016-04-15 09:55:20  2016-04-20 10:22:46    UNKNOWN  \n",
       "5133  2016-04-15 09:55:20  2016-04-20 13:56:52    PROBING  \n",
       "5134  2016-04-15 09:55:20  2016-04-20 15:17:45    PROBING  \n",
       "5135  2016-04-15 09:55:20  2016-04-22 16:47:48    PROBING  "
      ]
     },
     "execution_count": 87,
     "metadata": {},
     "output_type": "execute_result"
    }
   ],
   "source": [
    "misk = pd.read_sql_query('SELECT mac,sgtime,bldid,xcor,ycor,firstlocatedtime,lastlocatedtime,status FROM wifi WHERE mac = \"7c:7a:91:67:87:a7\"',disk_engine)\n",
    "misk[-5:]"
   ]
  },
  {
   "cell_type": "markdown",
   "metadata": {},
   "source": [
    "> Create with status change: \n",
    "\n",
    ">* if no device, no records; \n",
    ">* \"old\" device change status, only update location, last seen time, and status"
   ]
  },
  {
   "cell_type": "code",
   "execution_count": 16,
   "metadata": {
    "collapsed": true
   },
   "outputs": [],
   "source": [
    "u_mac2 = pd.read_sql_query('SELECT DISTINCT mac,COUNT(*),sgtime FROM wifi WHERE bldid = \"SDE1-05\" GROUP BY sgtime',disk_engine)"
   ]
  },
  {
   "cell_type": "code",
   "execution_count": 17,
   "metadata": {
    "collapsed": false
   },
   "outputs": [
    {
     "name": "stdout",
     "output_type": "stream",
     "text": [
      "                 mac  COUNT(*)               sgtime\n",
      "0  f4:f2:6d:17:7e:95         2  2016-04-16 00:00:01\n",
      "1  f4:f2:6d:17:7e:95         2  2016-04-16 00:05:01\n",
      "2  f4:f2:6d:17:7e:95         2  2016-04-16 00:10:01\n",
      "3  f4:f2:6d:17:7e:95         2  2016-04-16 00:15:02\n",
      "4  f4:f2:6d:17:7e:95         2  2016-04-16 00:20:01\n",
      "(5134, 3)\n"
     ]
    }
   ],
   "source": [
    "print u_mac2.head()\n",
    "print u_mac2.shape"
   ]
  },
  {
   "cell_type": "code",
   "execution_count": 90,
   "metadata": {
    "collapsed": false
   },
   "outputs": [
    {
     "name": "stdout",
     "output_type": "stream",
     "text": [
      "2016-04-16 00:00:01\n"
     ]
    }
   ],
   "source": [
    "t1= pd.to_datetime(t.sgtime)\n",
    "start = t1[0]\n",
    "print start\n",
    "t2 = ((t1-start).map(timedelta.total_seconds))/150"
   ]
  },
  {
   "cell_type": "code",
   "execution_count": 111,
   "metadata": {
    "collapsed": false
   },
   "outputs": [],
   "source": [
    "type(t2.unique())\n",
    "miss = np.setdiff1d(np.arange(4030),t2.unique())"
   ]
  },
  {
   "cell_type": "code",
   "execution_count": 123,
   "metadata": {
    "collapsed": false
   },
   "outputs": [],
   "source": [
    "k = np.arange(miss.shape[0])"
   ]
  },
  {
   "cell_type": "code",
   "execution_count": 124,
   "metadata": {
    "collapsed": false
   },
   "outputs": [],
   "source": [
    "import matplotlib.pyplot as plt\n",
    "fig = plt.figure()\n",
    "plt.scatter(miss,k)\n",
    "plt.show()"
   ]
  },
  {
   "cell_type": "markdown",
   "metadata": {},
   "source": [
    "### Summary by hours\n",
    "* create time index for summary"
   ]
  },
  {
   "cell_type": "code",
   "execution_count": 3,
   "metadata": {
    "collapsed": false
   },
   "outputs": [
    {
     "name": "stdout",
     "output_type": "stream",
     "text": [
      "CPU times: user 16.4 s, sys: 2.09 s, total: 18.5 s\n",
      "Wall time: 19.8 s\n"
     ]
    }
   ],
   "source": [
    "%%time\n",
    "new = pd.read_sql_query('SELECT sgtime, mac, bldid,xcor,ycor,interval,movement,distance,out FROM newwifi',disk_engine)"
   ]
  },
  {
   "cell_type": "code",
   "execution_count": 26,
   "metadata": {
    "collapsed": false
   },
   "outputs": [
    {
     "data": {
      "text/plain": [
       "2765"
      ]
     },
     "execution_count": 26,
     "metadata": {},
     "output_type": "execute_result"
    }
   ],
   "source": [
    "len(lost)"
   ]
  },
  {
   "cell_type": "code",
   "execution_count": 13,
   "metadata": {
    "collapsed": true
   },
   "outputs": [],
   "source": [
    "lost = pd.read_sql_query('SELECT mac FROM lost',disk_engine).mac.unique()"
   ]
  },
  {
   "cell_type": "code",
   "execution_count": 11,
   "metadata": {
    "collapsed": false
   },
   "outputs": [
    {
     "data": {
      "text/html": [
       "<div>\n",
       "<table border=\"1\" class=\"dataframe\">\n",
       "  <thead>\n",
       "    <tr style=\"text-align: right;\">\n",
       "      <th></th>\n",
       "      <th>sgtime</th>\n",
       "      <th>mac</th>\n",
       "      <th>bldid</th>\n",
       "      <th>xcor</th>\n",
       "      <th>ycor</th>\n",
       "      <th>interval</th>\n",
       "      <th>movement</th>\n",
       "      <th>distance</th>\n",
       "      <th>out</th>\n",
       "    </tr>\n",
       "  </thead>\n",
       "  <tbody>\n",
       "    <tr>\n",
       "      <th>0</th>\n",
       "      <td>2016-04-16 00:00:01</td>\n",
       "      <td>68:3e:34:07:7f:b4</td>\n",
       "      <td>SDE3-02</td>\n",
       "      <td>1377.65</td>\n",
       "      <td>708.20</td>\n",
       "      <td>0</td>\n",
       "      <td>first</td>\n",
       "      <td>NaN</td>\n",
       "      <td>0</td>\n",
       "    </tr>\n",
       "    <tr>\n",
       "      <th>1</th>\n",
       "      <td>2016-04-16 00:00:01</td>\n",
       "      <td>f4:f2:6d:17:cc:6c</td>\n",
       "      <td>SDE3-03</td>\n",
       "      <td>876.84</td>\n",
       "      <td>426.49</td>\n",
       "      <td>0</td>\n",
       "      <td>first</td>\n",
       "      <td>NaN</td>\n",
       "      <td>0</td>\n",
       "    </tr>\n",
       "    <tr>\n",
       "      <th>2</th>\n",
       "      <td>2016-04-16 00:00:01</td>\n",
       "      <td>f4:f2:6d:17:2a:26</td>\n",
       "      <td>SDE1-04</td>\n",
       "      <td>810.42</td>\n",
       "      <td>653.53</td>\n",
       "      <td>0</td>\n",
       "      <td>first</td>\n",
       "      <td>NaN</td>\n",
       "      <td>0</td>\n",
       "    </tr>\n",
       "    <tr>\n",
       "      <th>3</th>\n",
       "      <td>2016-04-16 00:00:01</td>\n",
       "      <td>f4:f2:6d:11:00:c3</td>\n",
       "      <td>SDE3-01</td>\n",
       "      <td>995.23</td>\n",
       "      <td>406.91</td>\n",
       "      <td>0</td>\n",
       "      <td>first</td>\n",
       "      <td>NaN</td>\n",
       "      <td>0</td>\n",
       "    </tr>\n",
       "    <tr>\n",
       "      <th>4</th>\n",
       "      <td>2016-04-16 00:00:01</td>\n",
       "      <td>f4:f2:6d:17:28:dd</td>\n",
       "      <td>SDE1-03</td>\n",
       "      <td>204.33</td>\n",
       "      <td>23.17</td>\n",
       "      <td>0</td>\n",
       "      <td>first</td>\n",
       "      <td>NaN</td>\n",
       "      <td>0</td>\n",
       "    </tr>\n",
       "  </tbody>\n",
       "</table>\n",
       "</div>"
      ],
      "text/plain": [
       "                sgtime                mac    bldid     xcor    ycor  interval  \\\n",
       "0  2016-04-16 00:00:01  68:3e:34:07:7f:b4  SDE3-02  1377.65  708.20         0   \n",
       "1  2016-04-16 00:00:01  f4:f2:6d:17:cc:6c  SDE3-03   876.84  426.49         0   \n",
       "2  2016-04-16 00:00:01  f4:f2:6d:17:2a:26  SDE1-04   810.42  653.53         0   \n",
       "3  2016-04-16 00:00:01  f4:f2:6d:11:00:c3  SDE3-01   995.23  406.91         0   \n",
       "4  2016-04-16 00:00:01  f4:f2:6d:17:28:dd  SDE1-03   204.33   23.17         0   \n",
       "\n",
       "  movement  distance  out  \n",
       "0    first       NaN    0  \n",
       "1    first       NaN    0  \n",
       "2    first       NaN    0  \n",
       "3    first       NaN    0  \n",
       "4    first       NaN    0  "
      ]
     },
     "execution_count": 11,
     "metadata": {},
     "output_type": "execute_result"
    }
   ],
   "source": [
    "new.head()"
   ]
  },
  {
   "cell_type": "code",
   "execution_count": 12,
   "metadata": {
    "collapsed": false
   },
   "outputs": [
    {
     "data": {
      "text/plain": [
       "Timestamp('2016-04-16 00:00:01')"
      ]
     },
     "execution_count": 12,
     "metadata": {},
     "output_type": "execute_result"
    }
   ],
   "source": [
    "t = pd.to_datetime(new['sgtime'])\n",
    "start = t[0]\n",
    "start"
   ]
  },
  {
   "cell_type": "markdown",
   "metadata": {},
   "source": [
    "### Interval & distance summary"
   ]
  },
  {
   "cell_type": "code",
   "execution_count": 4,
   "metadata": {
    "collapsed": false
   },
   "outputs": [
    {
     "data": {
      "text/html": [
       "<div>\n",
       "<table border=\"1\" class=\"dataframe\">\n",
       "  <thead>\n",
       "    <tr style=\"text-align: right;\">\n",
       "      <th></th>\n",
       "      <th>mac</th>\n",
       "      <th>interval_mean</th>\n",
       "      <th>interval_median</th>\n",
       "    </tr>\n",
       "  </thead>\n",
       "  <tbody>\n",
       "    <tr>\n",
       "      <th>0</th>\n",
       "      <td>00:00:da:6a:c6:da</td>\n",
       "      <td>1.0000</td>\n",
       "      <td>0.0</td>\n",
       "    </tr>\n",
       "    <tr>\n",
       "      <th>1</th>\n",
       "      <td>00:02:13:21:0f:5b</td>\n",
       "      <td>5339.8125</td>\n",
       "      <td>0.0</td>\n",
       "    </tr>\n",
       "    <tr>\n",
       "      <th>2</th>\n",
       "      <td>00:02:2e:b3:cd:2c</td>\n",
       "      <td>86135.0000</td>\n",
       "      <td>43156.0</td>\n",
       "    </tr>\n",
       "    <tr>\n",
       "      <th>3</th>\n",
       "      <td>00:02:49:de:0e:f0</td>\n",
       "      <td>0.0000</td>\n",
       "      <td>0.0</td>\n",
       "    </tr>\n",
       "    <tr>\n",
       "      <th>4</th>\n",
       "      <td>00:02:58:8d:93:d0</td>\n",
       "      <td>0.0000</td>\n",
       "      <td>0.0</td>\n",
       "    </tr>\n",
       "  </tbody>\n",
       "</table>\n",
       "</div>"
      ],
      "text/plain": [
       "                 mac  interval_mean  interval_median\n",
       "0  00:00:da:6a:c6:da         1.0000              0.0\n",
       "1  00:02:13:21:0f:5b      5339.8125              0.0\n",
       "2  00:02:2e:b3:cd:2c     86135.0000          43156.0\n",
       "3  00:02:49:de:0e:f0         0.0000              0.0\n",
       "4  00:02:58:8d:93:d0         0.0000              0.0"
      ]
     },
     "execution_count": 4,
     "metadata": {},
     "output_type": "execute_result"
    }
   ],
   "source": [
    "int_mean = new.groupby(\"mac\",as_index=False).agg({\"interval\":\"mean\"})\n",
    "int_median =new.groupby(\"mac\",as_index=False).agg({\"interval\":\"median\"})\n",
    "#mov_all = int_mean.join(int_median,on=\"mac\",right_index=False)\n",
    "int_all = pd.merge(int_mean, int_median, on=\"mac\", how = \"left\",suffixes=('_mean', '_median'))\n",
    "\n",
    "int_all.head()"
   ]
  },
  {
   "cell_type": "code",
   "execution_count": 5,
   "metadata": {
    "collapsed": false
   },
   "outputs": [
    {
     "data": {
      "text/plain": [
       "29839"
      ]
     },
     "execution_count": 5,
     "metadata": {},
     "output_type": "execute_result"
    }
   ],
   "source": [
    "len(int_all[int_all[\"interval_mean\"]<=0])"
   ]
  },
  {
   "cell_type": "code",
   "execution_count": 48,
   "metadata": {
    "collapsed": false
   },
   "outputs": [
    {
     "data": {
      "text/html": [
       "<div>\n",
       "<table border=\"1\" class=\"dataframe\">\n",
       "  <thead>\n",
       "    <tr style=\"text-align: right;\">\n",
       "      <th></th>\n",
       "      <th>mac</th>\n",
       "      <th>distance_mean</th>\n",
       "      <th>distance_median</th>\n",
       "    </tr>\n",
       "  </thead>\n",
       "  <tbody>\n",
       "    <tr>\n",
       "      <th>0</th>\n",
       "      <td>00:00:da:6a:c6:da</td>\n",
       "      <td>0.0</td>\n",
       "      <td>0.0</td>\n",
       "    </tr>\n",
       "    <tr>\n",
       "      <th>1</th>\n",
       "      <td>00:02:13:21:0f:5b</td>\n",
       "      <td>0.0</td>\n",
       "      <td>0.0</td>\n",
       "    </tr>\n",
       "    <tr>\n",
       "      <th>2</th>\n",
       "      <td>00:02:2e:b3:cd:2c</td>\n",
       "      <td>0.0</td>\n",
       "      <td>0.0</td>\n",
       "    </tr>\n",
       "    <tr>\n",
       "      <th>3</th>\n",
       "      <td>00:02:49:de:0e:f0</td>\n",
       "      <td>NaN</td>\n",
       "      <td>NaN</td>\n",
       "    </tr>\n",
       "    <tr>\n",
       "      <th>4</th>\n",
       "      <td>00:02:58:8d:93:d0</td>\n",
       "      <td>NaN</td>\n",
       "      <td>NaN</td>\n",
       "    </tr>\n",
       "  </tbody>\n",
       "</table>\n",
       "</div>"
      ],
      "text/plain": [
       "                 mac  distance_mean  distance_median\n",
       "0  00:00:da:6a:c6:da            0.0              0.0\n",
       "1  00:02:13:21:0f:5b            0.0              0.0\n",
       "2  00:02:2e:b3:cd:2c            0.0              0.0\n",
       "3  00:02:49:de:0e:f0            NaN              NaN\n",
       "4  00:02:58:8d:93:d0            NaN              NaN"
      ]
     },
     "execution_count": 48,
     "metadata": {},
     "output_type": "execute_result"
    }
   ],
   "source": [
    "dis_mean = new.groupby(\"mac\",as_index=False).agg({\"distance\":\"mean\"})\n",
    "dis_median =new.groupby(\"mac\",as_index=False).agg({\"distance\":\"median\"})\n",
    "#mov_all = int_mean.join(int_median,on=\"mac\",right_index=False)\n",
    "dis_all = pd.merge(dis_mean, dis_median, on=\"mac\", how = \"left\",suffixes=('_mean', '_median'))\n",
    "dis_all.head()"
   ]
  },
  {
   "cell_type": "code",
   "execution_count": 53,
   "metadata": {
    "collapsed": false
   },
   "outputs": [
    {
     "data": {
      "text/plain": [
       "49200"
      ]
     },
     "execution_count": 53,
     "metadata": {},
     "output_type": "execute_result"
    }
   ],
   "source": [
    "len(new[new[\"movement\"]==\"stay\"].mac.unique())"
   ]
  },
  {
   "cell_type": "code",
   "execution_count": 54,
   "metadata": {
    "collapsed": false
   },
   "outputs": [
    {
     "data": {
      "text/plain": [
       "8364"
      ]
     },
     "execution_count": 54,
     "metadata": {},
     "output_type": "execute_result"
    }
   ],
   "source": [
    "len(new[new[\"movement\"]==\"left\"].mac.unique())"
   ]
  },
  {
   "cell_type": "code",
   "execution_count": 8,
   "metadata": {
    "collapsed": false
   },
   "outputs": [
    {
     "data": {
      "text/plain": [
       "22399"
      ]
     },
     "execution_count": 8,
     "metadata": {},
     "output_type": "execute_result"
    }
   ],
   "source": [
    "len(new[-new[\"movement\"].isin([\"left\",\"first\",\"stay\"])].mac.unique())#changed floor"
   ]
  },
  {
   "cell_type": "code",
   "execution_count": 10,
   "metadata": {
    "collapsed": false
   },
   "outputs": [
    {
     "data": {
      "text/plain": [
       "0.39353104466074"
      ]
     },
     "execution_count": 10,
     "metadata": {},
     "output_type": "execute_result"
    }
   ],
   "source": [
    "22399./56918."
   ]
  },
  {
   "cell_type": "code",
   "execution_count": 40,
   "metadata": {
    "collapsed": true
   },
   "outputs": [],
   "source": [
    "% matplotlib inline\n",
    "import matplotlib as plt\n",
    "plt.style.use(\"ggplot\")"
   ]
  },
  {
   "cell_type": "code",
   "execution_count": 49,
   "metadata": {
    "collapsed": false
   },
   "outputs": [],
   "source": [
    "mov_all.to_csv(\"mov mac.csv\",index=False)\n",
    "dis_all.to_csv(\"dis mac.csv\",index=False)"
   ]
  },
  {
   "cell_type": "code",
   "execution_count": null,
   "metadata": {
    "collapsed": true
   },
   "outputs": [],
   "source": [
    "tt = []\n",
    "for i, row in enumerate(new.values):\n",
    "    t = int(timedelta.total_seconds(row[0]-start)/1800)#30mins\n",
    "    tt.append(t)\n",
    "new[\"t_grp\"]=tt\n"
   ]
  },
  {
   "cell_type": "code",
   "execution_count": 6,
   "metadata": {
    "collapsed": false
   },
   "outputs": [
    {
     "name": "stdout",
     "output_type": "stream",
     "text": [
      "CPU times: user 18.3 s, sys: 542 ms, total: 18.9 s\n",
      "Wall time: 18.8 s\n"
     ]
    }
   ],
   "source": [
    "%%time\n",
    "t1 = ((t-start).map(timedelta.total_seconds))/1800 #0.5 hr sum 18sec"
   ]
  },
  {
   "cell_type": "code",
   "execution_count": 6,
   "metadata": {
    "collapsed": false
   },
   "outputs": [],
   "source": [
    "new['t_grp'] = t1.astype(int) # make the index to be integers"
   ]
  },
  {
   "cell_type": "code",
   "execution_count": 30,
   "metadata": {
    "collapsed": false
   },
   "outputs": [
    {
     "data": {
      "text/html": [
       "<div>\n",
       "<table border=\"1\" class=\"dataframe\">\n",
       "  <thead>\n",
       "    <tr style=\"text-align: right;\">\n",
       "      <th></th>\n",
       "      <th>sgtime</th>\n",
       "      <th>mac</th>\n",
       "      <th>status_info</th>\n",
       "      <th>bldid</th>\n",
       "      <th>xcor</th>\n",
       "      <th>ycor</th>\n",
       "      <th>firstlocatedtime</th>\n",
       "      <th>lastlocatedtime</th>\n",
       "      <th>interval</th>\n",
       "      <th>hrfir</th>\n",
       "      <th>hrlas</th>\n",
       "      <th>out</th>\n",
       "    </tr>\n",
       "  </thead>\n",
       "  <tbody>\n",
       "    <tr>\n",
       "      <th>0</th>\n",
       "      <td>2016-04-16 00:00:01</td>\n",
       "      <td>e8:50:8b:94:67:3b</td>\n",
       "      <td>0</td>\n",
       "      <td>SDE1-02</td>\n",
       "      <td>1588.27</td>\n",
       "      <td>382.58</td>\n",
       "      <td>2016-04-15 23:56:54</td>\n",
       "      <td>2016-04-15 23:57:14</td>\n",
       "      <td>20.0</td>\n",
       "      <td>23</td>\n",
       "      <td>23</td>\n",
       "      <td>1</td>\n",
       "    </tr>\n",
       "    <tr>\n",
       "      <th>1</th>\n",
       "      <td>2016-04-16 02:40:01</td>\n",
       "      <td>94:b1:0a:de:9b:ca</td>\n",
       "      <td>0</td>\n",
       "      <td>SDE1-02</td>\n",
       "      <td>1588.27</td>\n",
       "      <td>382.58</td>\n",
       "      <td>2016-04-16 02:38:26</td>\n",
       "      <td>2016-04-16 02:38:26</td>\n",
       "      <td>0.0</td>\n",
       "      <td>2</td>\n",
       "      <td>2</td>\n",
       "      <td>1</td>\n",
       "    </tr>\n",
       "    <tr>\n",
       "      <th>2</th>\n",
       "      <td>2016-04-16 02:45:01</td>\n",
       "      <td>94:b1:0a:de:9b:ca</td>\n",
       "      <td>0</td>\n",
       "      <td>SDE1-02</td>\n",
       "      <td>1588.27</td>\n",
       "      <td>382.58</td>\n",
       "      <td>2016-04-16 02:38:26</td>\n",
       "      <td>2016-04-16 02:38:26</td>\n",
       "      <td>0.0</td>\n",
       "      <td>2</td>\n",
       "      <td>2</td>\n",
       "      <td>1</td>\n",
       "    </tr>\n",
       "    <tr>\n",
       "      <th>3</th>\n",
       "      <td>2016-04-16 07:50:01</td>\n",
       "      <td>84:55:a5:70:d1:eb</td>\n",
       "      <td>0</td>\n",
       "      <td>SDE1-02</td>\n",
       "      <td>1582.69</td>\n",
       "      <td>382.87</td>\n",
       "      <td>2016-04-16 07:48:14</td>\n",
       "      <td>2016-04-16 07:48:14</td>\n",
       "      <td>0.0</td>\n",
       "      <td>7</td>\n",
       "      <td>7</td>\n",
       "      <td>1</td>\n",
       "    </tr>\n",
       "    <tr>\n",
       "      <th>4</th>\n",
       "      <td>2016-04-16 07:55:01</td>\n",
       "      <td>84:55:a5:70:d1:eb</td>\n",
       "      <td>0</td>\n",
       "      <td>SDE1-02</td>\n",
       "      <td>1582.69</td>\n",
       "      <td>382.87</td>\n",
       "      <td>2016-04-16 07:48:14</td>\n",
       "      <td>2016-04-16 07:48:14</td>\n",
       "      <td>0.0</td>\n",
       "      <td>7</td>\n",
       "      <td>7</td>\n",
       "      <td>1</td>\n",
       "    </tr>\n",
       "  </tbody>\n",
       "</table>\n",
       "</div>"
      ],
      "text/plain": [
       "                sgtime                mac  status_info    bldid     xcor  \\\n",
       "0  2016-04-16 00:00:01  e8:50:8b:94:67:3b            0  SDE1-02  1588.27   \n",
       "1  2016-04-16 02:40:01  94:b1:0a:de:9b:ca            0  SDE1-02  1588.27   \n",
       "2  2016-04-16 02:45:01  94:b1:0a:de:9b:ca            0  SDE1-02  1588.27   \n",
       "3  2016-04-16 07:50:01  84:55:a5:70:d1:eb            0  SDE1-02  1582.69   \n",
       "4  2016-04-16 07:55:01  84:55:a5:70:d1:eb            0  SDE1-02  1582.69   \n",
       "\n",
       "     ycor     firstlocatedtime      lastlocatedtime  interval  hrfir  hrlas  \\\n",
       "0  382.58  2016-04-15 23:56:54  2016-04-15 23:57:14      20.0     23     23   \n",
       "1  382.58  2016-04-16 02:38:26  2016-04-16 02:38:26       0.0      2      2   \n",
       "2  382.58  2016-04-16 02:38:26  2016-04-16 02:38:26       0.0      2      2   \n",
       "3  382.87  2016-04-16 07:48:14  2016-04-16 07:48:14       0.0      7      7   \n",
       "4  382.87  2016-04-16 07:48:14  2016-04-16 07:48:14       0.0      7      7   \n",
       "\n",
       "   out  \n",
       "0    1  \n",
       "1    1  \n",
       "2    1  \n",
       "3    1  \n",
       "4    1  "
      ]
     },
     "execution_count": 30,
     "metadata": {},
     "output_type": "execute_result"
    }
   ],
   "source": [
    "new.head()"
   ]
  },
  {
   "cell_type": "markdown",
   "metadata": {},
   "source": [
    "### summary cross time or devices\n",
    "**1. summarize by time**"
   ]
  },
  {
   "cell_type": "code",
   "execution_count": 9,
   "metadata": {
    "collapsed": false
   },
   "outputs": [],
   "source": [
    "# unique mac id number, latest time spotted, std of x/y\n",
    "aggreg1 ={'mac':lambda x: len(x.unique()),'sgtime':'max','interval':'median','xcor':'std','ycor':'std'}"
   ]
  },
  {
   "cell_type": "code",
   "execution_count": 5,
   "metadata": {
    "collapsed": true
   },
   "outputs": [],
   "source": [
    "sort_5min = new.groupby(['bldid','sgtime']).agg(aggreg)"
   ]
  },
  {
   "cell_type": "code",
   "execution_count": 10,
   "metadata": {
    "collapsed": true
   },
   "outputs": [],
   "source": [
    "sort_30min = new.groupby(['bldid','t_grp']).agg(aggreg1)"
   ]
  },
  {
   "cell_type": "code",
   "execution_count": 12,
   "metadata": {
    "collapsed": false
   },
   "outputs": [],
   "source": [
    "sort_30min.to_csv('/Users/AAA218/Desktop/ami_sg/p_30min.csv',na_rep = 'NA')"
   ]
  },
  {
   "cell_type": "markdown",
   "metadata": {},
   "source": [
    "**2. summarize by devices**"
   ]
  },
  {
   "cell_type": "code",
   "execution_count": 7,
   "metadata": {
    "collapsed": false
   },
   "outputs": [
    {
     "name": "stdout",
     "output_type": "stream",
     "text": [
      "CPU times: user 7.38 s, sys: 313 ms, total: 7.7 s\n",
      "Wall time: 7.56 s\n"
     ]
    }
   ],
   "source": [
    "%%time\n",
    "aggmac = {\"sgtime\": lambda t: len(t.unique()),\"bldid\": lambda l: len(l.unique()),'interval':'median','xcor':'std','ycor':'std'}\n",
    "sort_mac = new.groupby(['mac']).agg(aggmac)"
   ]
  },
  {
   "cell_type": "markdown",
   "metadata": {},
   "source": [
    "* Mark the devices sd within 15 meters and time median longer than 2 hrs"
   ]
  },
  {
   "cell_type": "code",
   "execution_count": 8,
   "metadata": {
    "collapsed": false
   },
   "outputs": [
    {
     "data": {
      "text/plain": [
       "97"
      ]
     },
     "execution_count": 8,
     "metadata": {},
     "output_type": "execute_result"
    }
   ],
   "source": [
    "station1 = sort_mac[((sort_mac['xcor']<=55) |(sort_mac[\"ycor\"]<=55))& (sort_mac[\"interval\"]>=7200) ].index\n",
    "len(station1)"
   ]
  },
  {
   "cell_type": "code",
   "execution_count": 11,
   "metadata": {
    "collapsed": false
   },
   "outputs": [],
   "source": [
    "DataFrame(station1).to_csv('/Users/AAA218/Desktop/ami_sg/stationid.csv',index=False)"
   ]
  },
  {
   "cell_type": "code",
   "execution_count": 15,
   "metadata": {
    "collapsed": false
   },
   "outputs": [
    {
     "data": {
      "text/html": [
       "<div>\n",
       "<table border=\"1\" class=\"dataframe\">\n",
       "  <thead>\n",
       "    <tr style=\"text-align: right;\">\n",
       "      <th></th>\n",
       "      <th>interval</th>\n",
       "      <th>xcor</th>\n",
       "      <th>ycor</th>\n",
       "      <th>sgtime</th>\n",
       "    </tr>\n",
       "    <tr>\n",
       "      <th>mac</th>\n",
       "      <th></th>\n",
       "      <th></th>\n",
       "      <th></th>\n",
       "      <th></th>\n",
       "    </tr>\n",
       "  </thead>\n",
       "  <tbody>\n",
       "    <tr>\n",
       "      <th>7c:7a:91:67:87:a7</th>\n",
       "      <td>429364.0</td>\n",
       "      <td>25.760004</td>\n",
       "      <td>17.179696</td>\n",
       "      <td>5136</td>\n",
       "    </tr>\n",
       "  </tbody>\n",
       "</table>\n",
       "</div>"
      ],
      "text/plain": [
       "                   interval       xcor       ycor  sgtime\n",
       "mac                                                      \n",
       "7c:7a:91:67:87:a7  429364.0  25.760004  17.179696    5136"
      ]
     },
     "execution_count": 15,
     "metadata": {},
     "output_type": "execute_result"
    }
   ],
   "source": [
    "sort_mac.loc[sort_mac.sgtime==5136,] # appears all the time"
   ]
  },
  {
   "cell_type": "code",
   "execution_count": 6,
   "metadata": {
    "collapsed": false
   },
   "outputs": [
    {
     "data": {
      "text/html": [
       "<div>\n",
       "<table border=\"1\" class=\"dataframe\">\n",
       "  <thead>\n",
       "    <tr style=\"text-align: right;\">\n",
       "      <th></th>\n",
       "      <th>xcor</th>\n",
       "      <th>interval</th>\n",
       "      <th>bldid</th>\n",
       "      <th>ycor</th>\n",
       "      <th>sgtime</th>\n",
       "    </tr>\n",
       "    <tr>\n",
       "      <th>mac</th>\n",
       "      <th></th>\n",
       "      <th></th>\n",
       "      <th></th>\n",
       "      <th></th>\n",
       "      <th></th>\n",
       "    </tr>\n",
       "  </thead>\n",
       "  <tbody>\n",
       "    <tr>\n",
       "      <th>48:5a:3f:25:99:06</th>\n",
       "      <td>502.143837</td>\n",
       "      <td>4234.0</td>\n",
       "      <td>11</td>\n",
       "      <td>241.159421</td>\n",
       "      <td>2197</td>\n",
       "    </tr>\n",
       "    <tr>\n",
       "      <th>50:3c:c4:70:3d:42</th>\n",
       "      <td>485.667348</td>\n",
       "      <td>761.0</td>\n",
       "      <td>11</td>\n",
       "      <td>184.409145</td>\n",
       "      <td>2157</td>\n",
       "    </tr>\n",
       "    <tr>\n",
       "      <th>ac:bc:32:81:9a:bd</th>\n",
       "      <td>165.886742</td>\n",
       "      <td>6846.0</td>\n",
       "      <td>11</td>\n",
       "      <td>62.205051</td>\n",
       "      <td>1158</td>\n",
       "    </tr>\n",
       "    <tr>\n",
       "      <th>e8:50:8b:17:d5:f2</th>\n",
       "      <td>377.113022</td>\n",
       "      <td>1448.0</td>\n",
       "      <td>11</td>\n",
       "      <td>163.161793</td>\n",
       "      <td>1745</td>\n",
       "    </tr>\n",
       "  </tbody>\n",
       "</table>\n",
       "</div>"
      ],
      "text/plain": [
       "                         xcor  interval  bldid        ycor  sgtime\n",
       "mac                                                               \n",
       "48:5a:3f:25:99:06  502.143837    4234.0     11  241.159421    2197\n",
       "50:3c:c4:70:3d:42  485.667348     761.0     11  184.409145    2157\n",
       "ac:bc:32:81:9a:bd  165.886742    6846.0     11   62.205051    1158\n",
       "e8:50:8b:17:d5:f2  377.113022    1448.0     11  163.161793    1745"
      ]
     },
     "execution_count": 6,
     "metadata": {},
     "output_type": "execute_result"
    }
   ],
   "source": [
    "sort_mac.loc[sort_mac.bldid==11,] # appears every building"
   ]
  },
  {
   "cell_type": "code",
   "execution_count": 5,
   "metadata": {
    "collapsed": true
   },
   "outputs": [],
   "source": [
    "sort_mac.to_csv('/Users/AAA218/Desktop/ami_sg/mac_count.csv',na_rep = 'NA')"
   ]
  },
  {
   "cell_type": "markdown",
   "metadata": {},
   "source": [
    "### Explore unique macAdd across time"
   ]
  },
  {
   "cell_type": "code",
   "execution_count": 144,
   "metadata": {
    "collapsed": false
   },
   "outputs": [
    {
     "name": "stdout",
     "output_type": "stream",
     "text": [
      "CPU times: user 38.2 s, sys: 5.69 s, total: 43.9 s\n",
      "Wall time: 45 s\n"
     ]
    }
   ],
   "source": [
    "%%time\n",
    "sort_n = new.pivot(index='sgtime',columns='mac',values='bldid') # a df of 5136*56918\n",
    "a= sort_n.count() # a Series with index as time"
   ]
  },
  {
   "cell_type": "markdown",
   "metadata": {},
   "source": [
    "* possible ios users' ids: 6694"
   ]
  },
  {
   "cell_type": "code",
   "execution_count": 10,
   "metadata": {
    "collapsed": false
   },
   "outputs": [
    {
     "data": {
      "text/plain": [
       "6694"
      ]
     },
     "execution_count": 10,
     "metadata": {},
     "output_type": "execute_result"
    }
   ],
   "source": [
    "ios_1 = sort_mac.loc[sort_mac.sgtime==1,].index\n",
    "len(ios_1)"
   ]
  },
  {
   "cell_type": "markdown",
   "metadata": {
    "collapsed": false
   },
   "source": [
    "### Statinary identify"
   ]
  },
  {
   "cell_type": "code",
   "execution_count": 102,
   "metadata": {
    "collapsed": false
   },
   "outputs": [],
   "source": [
    "from collections import Counter \n",
    "def station(df):\n",
    "    unusual = df[(df.loc[:,\"interval\"]>=50400)&((df.loc[:,\"hrfir\"]<8)|(df.loc[:,\"hrfir\"]>21)|(df.loc[:,\"hrlas\"]<8)|(df.loc[:,\"hrlas\"]>21))]\n",
    "    un_1 = unusual['mac'].unique() # 53 ids\n",
    "    print len(un_1)\n",
    "    unusual = df[(df.loc[:,\"interval\"]>=28800)&(df.loc[:,\"interval\"]<50400)]\n",
    "    un_2 = unusual['mac'].unique()\n",
    "    tes = df[['xcor','ycor','mac']][df['mac'].isin(un_2)]\n",
    "    te1 = tes.groupby(\"mac\").std()\n",
    "    sub2 = te1[(te1[\"xcor\"]<=55)|(te1[\"ycor\"]<=55)].index # one axis moving std within arround 15 meters\n",
    "    print len(sub2)#,sub2\n",
    "    final = np.append(un_1,sub2)\n",
    "    return np.unique(final)"
   ]
  },
  {
   "cell_type": "code",
   "execution_count": 112,
   "metadata": {
    "collapsed": false
   },
   "outputs": [
    {
     "name": "stdout",
     "output_type": "stream",
     "text": [
      "53\n",
      "96\n",
      "26\n",
      "67\n",
      "36\n",
      "66\n",
      "CPU times: user 558 ms, sys: 142 ms, total: 701 ms\n",
      "Wall time: 707 ms\n"
     ]
    }
   ],
   "source": [
    "%%time\n",
    "t1 = station(new)\n",
    "mark2 = station(prob)\n",
    "mark3 = station(associate)"
   ]
  },
  {
   "cell_type": "code",
   "execution_count": 113,
   "metadata": {
    "collapsed": false
   },
   "outputs": [
    {
     "name": "stdout",
     "output_type": "stream",
     "text": [
      "all stationary---- 128\n",
      "PROBING stationary---- 80\n",
      "CONNECTED stationary---- 91\n",
      "identified stationary:   141 total users:  56918\n"
     ]
    }
   ],
   "source": [
    "print \"all stationary----\",len(t1)\n",
    "print \"PROBING stationary----\",len(mark2)\n",
    "print \"CONNECTED stationary----\",len(mark3)\n",
    "print \"identified stationary:  \",len(np.unique(np.append(mark2,mark3))),'total users: ',len(new['mac'].unique())"
   ]
  },
  {
   "cell_type": "markdown",
   "metadata": {},
   "source": [
    "### The marked stationary devices write"
   ]
  },
  {
   "cell_type": "code",
   "execution_count": 106,
   "metadata": {
    "collapsed": false
   },
   "outputs": [
    {
     "name": "stdout",
     "output_type": "stream",
     "text": [
      "             xcor        ycor\n",
      "count  128.000000  128.000000\n",
      "mean   106.601999   46.659384\n",
      "std    115.711762   49.171368\n",
      "min      0.238012    0.141003\n",
      "25%     23.865650   11.191882\n",
      "50%     63.336823   32.172223\n",
      "75%    147.341405   52.351189\n",
      "max    554.554306  201.094631\n"
     ]
    }
   ],
   "source": [
    "tes = new[['sgtime',\"bldid\",'xcor','ycor','mac']][new['mac'].isin(t1)]\n",
    "te1 = tes.groupby(\"mac\").std()\n",
    "print te1.describe()"
   ]
  },
  {
   "cell_type": "code",
   "execution_count": 115,
   "metadata": {
    "collapsed": true
   },
   "outputs": [],
   "source": [
    "tes1 = new[['sgtime',\"bldid\",'xcor','ycor','mac']][new['mac'].isin(t1)]\n",
    "tes1.to_csv('/Users/AAA218/Desktop/ami_sg/plot.csv',index=False)"
   ]
  },
  {
   "cell_type": "code",
   "execution_count": 73,
   "metadata": {
    "collapsed": false
   },
   "outputs": [
    {
     "data": {
      "text/plain": [
       "90"
      ]
     },
     "execution_count": 73,
     "metadata": {},
     "output_type": "execute_result"
    }
   ],
   "source": [
    "len(np.append(l,sub2))"
   ]
  },
  {
   "cell_type": "code",
   "execution_count": 70,
   "metadata": {
    "collapsed": false
   },
   "outputs": [
    {
     "data": {
      "text/plain": [
       "count          75604\n",
       "unique             2\n",
       "top       ASSOCIATED\n",
       "freq           49177\n",
       "Name: status_info, dtype: object"
      ]
     },
     "execution_count": 70,
     "metadata": {},
     "output_type": "execute_result"
    }
   ],
   "source": [
    "new[\"status_info\"][new['mac'].isin(sub2)].describe()"
   ]
  },
  {
   "cell_type": "markdown",
   "metadata": {},
   "source": [
    "### out of boundary spots"
   ]
  },
  {
   "cell_type": "code",
   "execution_count": 17,
   "metadata": {
    "collapsed": false
   },
   "outputs": [
    {
     "data": {
      "text/html": [
       "<div>\n",
       "<table border=\"1\" class=\"dataframe\">\n",
       "  <thead>\n",
       "    <tr style=\"text-align: right;\">\n",
       "      <th></th>\n",
       "      <th>sgtime</th>\n",
       "      <th>mac</th>\n",
       "      <th>xcor</th>\n",
       "      <th>ycor</th>\n",
       "      <th>firstlocatedtime</th>\n",
       "      <th>lastlocatedtime</th>\n",
       "    </tr>\n",
       "    <tr>\n",
       "      <th>bldid</th>\n",
       "      <th></th>\n",
       "      <th></th>\n",
       "      <th></th>\n",
       "      <th></th>\n",
       "      <th></th>\n",
       "      <th></th>\n",
       "    </tr>\n",
       "  </thead>\n",
       "  <tbody>\n",
       "    <tr>\n",
       "      <th>SDE1-03</th>\n",
       "      <td>13103</td>\n",
       "      <td>13103</td>\n",
       "      <td>13103</td>\n",
       "      <td>13103</td>\n",
       "      <td>13103</td>\n",
       "      <td>13103</td>\n",
       "    </tr>\n",
       "    <tr>\n",
       "      <th>SDE3-04</th>\n",
       "      <td>16</td>\n",
       "      <td>16</td>\n",
       "      <td>16</td>\n",
       "      <td>16</td>\n",
       "      <td>16</td>\n",
       "      <td>16</td>\n",
       "    </tr>\n",
       "  </tbody>\n",
       "</table>\n",
       "</div>"
      ],
      "text/plain": [
       "         sgtime    mac   xcor   ycor  firstlocatedtime  lastlocatedtime\n",
       "bldid                                                                  \n",
       "SDE1-03   13103  13103  13103  13103             13103            13103\n",
       "SDE3-04      16     16     16     16                16               16"
      ]
     },
     "execution_count": 17,
     "metadata": {},
     "output_type": "execute_result"
    }
   ],
   "source": [
    "out_b = pd.read_sql_query('SELECT sgtime,mac, bldid,xcor, ycor, firstlocatedtime, lastlocatedtime from newwifi WHERE out = 1',disk_engine)\n",
    "out_b.groupby('bldid').count()"
   ]
  },
  {
   "cell_type": "code",
   "execution_count": 19,
   "metadata": {
    "collapsed": false
   },
   "outputs": [
    {
     "name": "stdout",
     "output_type": "stream",
     "text": [
      "                        mac        \n",
      "bldid               SDE1-03 SDE3-04\n",
      "sgtime                             \n",
      "2016-04-16 00:45:01     1.0     NaN\n",
      "2016-04-16 00:50:02     1.0     NaN\n",
      "2016-04-16 02:40:01     1.0     NaN\n",
      "2016-04-16 05:05:01     1.0     NaN\n",
      "2016-04-16 05:10:01     1.0     NaN\n",
      "2016-04-16 07:00:01     1.0     NaN\n",
      "2016-04-16 07:10:01     1.0     NaN\n",
      "2016-04-16 07:55:01     1.0     NaN\n",
      "2016-04-16 08:15:02     1.0     NaN\n",
      "2016-04-16 08:20:01     2.0     NaN\n",
      "2016-04-16 08:25:01     1.0     NaN\n",
      "2016-04-16 08:30:02     1.0     NaN\n",
      "2016-04-16 08:35:01     4.0     NaN\n",
      "2016-04-16 08:40:01     1.0     NaN\n",
      "2016-04-16 09:10:02     1.0     NaN\n",
      "2016-04-16 09:15:01     1.0     NaN\n",
      "2016-04-16 09:20:01     1.0     NaN\n",
      "2016-04-16 09:40:01     1.0     NaN\n",
      "2016-04-16 09:50:01     1.0     NaN\n",
      "2016-04-16 09:55:01     4.0     NaN\n",
      "each building:\n",
      "     bldid  \n",
      "mac  SDE1-03    4028\n",
      "     SDE3-04      16\n",
      "dtype: int64\n"
     ]
    }
   ],
   "source": [
    "agg1 ={\"mac\": lambda x: len(x.unique())}\n",
    "out_summ = prob.groupby(['bldid','sgtime']).agg(agg1)\n",
    "p = out_summ.unstack(level=0)\n",
    "print p[0:20]\n",
    "print \"each building:\\n\",p.count()"
   ]
  },
  {
   "cell_type": "code",
   "execution_count": 16,
   "metadata": {
    "collapsed": false
   },
   "outputs": [
    {
     "data": {
      "text/plain": [
       "array([<matplotlib.axes._subplots.AxesSubplot object at 0x000000000A2A26D8>,\n",
       "       <matplotlib.axes._subplots.AxesSubplot object at 0x000000000B6C6240>], dtype=object)"
      ]
     },
     "execution_count": 16,
     "metadata": {},
     "output_type": "execute_result"
    },
    {
     "data": {
      "image/png": "[encoded data removed]",
      "text/plain": [
       "<matplotlib.figure.Figure at 0x9c20f60>"
      ]
     },
     "metadata": {},
     "output_type": "display_data"
    }
   ],
   "source": [
    "% matplotlib inline\n",
    "import matplotlib.pyplot as plt\n",
    "p.plot(kind= 'line',subplots=True,color='k')"
   ]
  },
  {
   "cell_type": "code",
   "execution_count": 5,
   "metadata": {
    "collapsed": false
   },
   "outputs": [
    {
     "data": {
      "text/html": [
       "<div>\n",
       "<table border=\"1\" class=\"dataframe\">\n",
       "  <thead>\n",
       "    <tr style=\"text-align: right;\">\n",
       "      <th></th>\n",
       "      <th>mac</th>\n",
       "      <th>xcor</th>\n",
       "      <th>ycor</th>\n",
       "      <th>firstlocatedtime</th>\n",
       "      <th>lastlocatedtime</th>\n",
       "      <th>interval</th>\n",
       "      <th>out</th>\n",
       "    </tr>\n",
       "    <tr>\n",
       "      <th>bldid</th>\n",
       "      <th></th>\n",
       "      <th></th>\n",
       "      <th></th>\n",
       "      <th></th>\n",
       "      <th></th>\n",
       "      <th></th>\n",
       "      <th></th>\n",
       "    </tr>\n",
       "  </thead>\n",
       "  <tbody>\n",
       "    <tr>\n",
       "      <th>SDE1-03</th>\n",
       "      <td>8041</td>\n",
       "      <td>8041</td>\n",
       "      <td>8041</td>\n",
       "      <td>8041</td>\n",
       "      <td>8041</td>\n",
       "      <td>8041</td>\n",
       "      <td>8041</td>\n",
       "    </tr>\n",
       "    <tr>\n",
       "      <th>SDE3-04</th>\n",
       "      <td>6</td>\n",
       "      <td>6</td>\n",
       "      <td>6</td>\n",
       "      <td>6</td>\n",
       "      <td>6</td>\n",
       "      <td>6</td>\n",
       "      <td>6</td>\n",
       "    </tr>\n",
       "  </tbody>\n",
       "</table>\n",
       "</div>"
      ],
      "text/plain": [
       "          mac  xcor  ycor  firstlocatedtime  lastlocatedtime  interval   out\n",
       "bldid                                                                       \n",
       "SDE1-03  8041  8041  8041              8041             8041      8041  8041\n",
       "SDE3-04     6     6     6                 6                6         6     6"
      ]
     },
     "execution_count": 5,
     "metadata": {},
     "output_type": "execute_result"
    }
   ],
   "source": [
    "associate[associate['out']==1].groupby('bldid').count()"
   ]
  },
  {
   "cell_type": "code",
   "execution_count": 30,
   "metadata": {
    "collapsed": false
   },
   "outputs": [
    {
     "name": "stdout",
     "output_type": "stream",
     "text": [
      "associated size:  (1584342, 11)\n"
     ]
    }
   ],
   "source": [
    "#print prob.sort_values(by='interval',ascending=False) 960000+sec\n",
    "print \"associated size: \",associate.shape"
   ]
  },
  {
   "cell_type": "code",
   "execution_count": 31,
   "metadata": {
    "collapsed": false
   },
   "outputs": [
    {
     "data": {
      "text/html": [
       "<div>\n",
       "<table border=\"1\" class=\"dataframe\">\n",
       "  <thead>\n",
       "    <tr style=\"text-align: right;\">\n",
       "      <th></th>\n",
       "      <th>sgtime</th>\n",
       "      <th>mac</th>\n",
       "      <th>bldid</th>\n",
       "      <th>xcor</th>\n",
       "      <th>ycor</th>\n",
       "      <th>firstlocatedtime</th>\n",
       "      <th>lastlocatedtime</th>\n",
       "      <th>interval</th>\n",
       "      <th>out</th>\n",
       "      <th>hrfir</th>\n",
       "      <th>hrlas</th>\n",
       "    </tr>\n",
       "  </thead>\n",
       "  <tbody>\n",
       "    <tr>\n",
       "      <th>378132</th>\n",
       "      <td>2016-04-22 23:55:01</td>\n",
       "      <td>84:3a:4b:2b:5f:14</td>\n",
       "      <td>SDE1-05</td>\n",
       "      <td>632.49</td>\n",
       "      <td>326.89</td>\n",
       "      <td>2016-04-14 02:45:50</td>\n",
       "      <td>2016-04-22 23:54:46</td>\n",
       "      <td>767336.0</td>\n",
       "      <td>1</td>\n",
       "      <td>2</td>\n",
       "      <td>23</td>\n",
       "    </tr>\n",
       "    <tr>\n",
       "      <th>378127</th>\n",
       "      <td>2016-04-22 23:50:01</td>\n",
       "      <td>84:3a:4b:2b:5f:14</td>\n",
       "      <td>SDE1-05</td>\n",
       "      <td>632.98</td>\n",
       "      <td>327.35</td>\n",
       "      <td>2016-04-14 02:45:50</td>\n",
       "      <td>2016-04-22 23:49:04</td>\n",
       "      <td>766994.0</td>\n",
       "      <td>1</td>\n",
       "      <td>2</td>\n",
       "      <td>23</td>\n",
       "    </tr>\n",
       "    <tr>\n",
       "      <th>378124</th>\n",
       "      <td>2016-04-22 23:45:01</td>\n",
       "      <td>84:3a:4b:2b:5f:14</td>\n",
       "      <td>SDE1-05</td>\n",
       "      <td>632.24</td>\n",
       "      <td>325.94</td>\n",
       "      <td>2016-04-14 02:45:50</td>\n",
       "      <td>2016-04-22 23:44:33</td>\n",
       "      <td>766723.0</td>\n",
       "      <td>1</td>\n",
       "      <td>2</td>\n",
       "      <td>23</td>\n",
       "    </tr>\n",
       "    <tr>\n",
       "      <th>378120</th>\n",
       "      <td>2016-04-22 23:40:01</td>\n",
       "      <td>84:3a:4b:2b:5f:14</td>\n",
       "      <td>SDE1-05</td>\n",
       "      <td>632.19</td>\n",
       "      <td>327.29</td>\n",
       "      <td>2016-04-14 02:45:50</td>\n",
       "      <td>2016-04-22 23:38:51</td>\n",
       "      <td>766381.0</td>\n",
       "      <td>1</td>\n",
       "      <td>2</td>\n",
       "      <td>23</td>\n",
       "    </tr>\n",
       "    <tr>\n",
       "      <th>378117</th>\n",
       "      <td>2016-04-22 23:35:01</td>\n",
       "      <td>84:3a:4b:2b:5f:14</td>\n",
       "      <td>SDE1-05</td>\n",
       "      <td>660.75</td>\n",
       "      <td>319.42</td>\n",
       "      <td>2016-04-14 02:45:50</td>\n",
       "      <td>2016-04-22 23:34:20</td>\n",
       "      <td>766110.0</td>\n",
       "      <td>1</td>\n",
       "      <td>2</td>\n",
       "      <td>23</td>\n",
       "    </tr>\n",
       "    <tr>\n",
       "      <th>378114</th>\n",
       "      <td>2016-04-22 23:30:01</td>\n",
       "      <td>84:3a:4b:2b:5f:14</td>\n",
       "      <td>SDE1-05</td>\n",
       "      <td>630.50</td>\n",
       "      <td>327.87</td>\n",
       "      <td>2016-04-14 02:45:50</td>\n",
       "      <td>2016-04-22 23:29:43</td>\n",
       "      <td>765833.0</td>\n",
       "      <td>1</td>\n",
       "      <td>2</td>\n",
       "      <td>23</td>\n",
       "    </tr>\n",
       "    <tr>\n",
       "      <th>378110</th>\n",
       "      <td>2016-04-22 23:25:01</td>\n",
       "      <td>84:3a:4b:2b:5f:14</td>\n",
       "      <td>SDE1-05</td>\n",
       "      <td>628.96</td>\n",
       "      <td>328.86</td>\n",
       "      <td>2016-04-14 02:45:50</td>\n",
       "      <td>2016-04-22 23:24:01</td>\n",
       "      <td>765491.0</td>\n",
       "      <td>1</td>\n",
       "      <td>2</td>\n",
       "      <td>23</td>\n",
       "    </tr>\n",
       "    <tr>\n",
       "      <th>378107</th>\n",
       "      <td>2016-04-22 23:20:01</td>\n",
       "      <td>84:3a:4b:2b:5f:14</td>\n",
       "      <td>SDE1-05</td>\n",
       "      <td>629.19</td>\n",
       "      <td>328.97</td>\n",
       "      <td>2016-04-14 02:45:50</td>\n",
       "      <td>2016-04-22 23:19:30</td>\n",
       "      <td>765220.0</td>\n",
       "      <td>1</td>\n",
       "      <td>2</td>\n",
       "      <td>23</td>\n",
       "    </tr>\n",
       "    <tr>\n",
       "      <th>378103</th>\n",
       "      <td>2016-04-22 23:15:01</td>\n",
       "      <td>84:3a:4b:2b:5f:14</td>\n",
       "      <td>SDE1-05</td>\n",
       "      <td>652.10</td>\n",
       "      <td>324.26</td>\n",
       "      <td>2016-04-14 02:45:50</td>\n",
       "      <td>2016-04-22 23:13:52</td>\n",
       "      <td>764882.0</td>\n",
       "      <td>1</td>\n",
       "      <td>2</td>\n",
       "      <td>23</td>\n",
       "    </tr>\n",
       "    <tr>\n",
       "      <th>378099</th>\n",
       "      <td>2016-04-22 23:10:01</td>\n",
       "      <td>84:3a:4b:2b:5f:14</td>\n",
       "      <td>SDE1-05</td>\n",
       "      <td>630.37</td>\n",
       "      <td>328.17</td>\n",
       "      <td>2016-04-14 02:45:50</td>\n",
       "      <td>2016-04-22 23:09:23</td>\n",
       "      <td>764613.0</td>\n",
       "      <td>1</td>\n",
       "      <td>2</td>\n",
       "      <td>23</td>\n",
       "    </tr>\n",
       "  </tbody>\n",
       "</table>\n",
       "</div>"
      ],
      "text/plain": [
       "                     sgtime                mac    bldid    xcor    ycor  \\\n",
       "378132  2016-04-22 23:55:01  84:3a:4b:2b:5f:14  SDE1-05  632.49  326.89   \n",
       "378127  2016-04-22 23:50:01  84:3a:4b:2b:5f:14  SDE1-05  632.98  327.35   \n",
       "378124  2016-04-22 23:45:01  84:3a:4b:2b:5f:14  SDE1-05  632.24  325.94   \n",
       "378120  2016-04-22 23:40:01  84:3a:4b:2b:5f:14  SDE1-05  632.19  327.29   \n",
       "378117  2016-04-22 23:35:01  84:3a:4b:2b:5f:14  SDE1-05  660.75  319.42   \n",
       "378114  2016-04-22 23:30:01  84:3a:4b:2b:5f:14  SDE1-05  630.50  327.87   \n",
       "378110  2016-04-22 23:25:01  84:3a:4b:2b:5f:14  SDE1-05  628.96  328.86   \n",
       "378107  2016-04-22 23:20:01  84:3a:4b:2b:5f:14  SDE1-05  629.19  328.97   \n",
       "378103  2016-04-22 23:15:01  84:3a:4b:2b:5f:14  SDE1-05  652.10  324.26   \n",
       "378099  2016-04-22 23:10:01  84:3a:4b:2b:5f:14  SDE1-05  630.37  328.17   \n",
       "\n",
       "           firstlocatedtime      lastlocatedtime  interval  out  hrfir  hrlas  \n",
       "378132  2016-04-14 02:45:50  2016-04-22 23:54:46  767336.0    1      2     23  \n",
       "378127  2016-04-14 02:45:50  2016-04-22 23:49:04  766994.0    1      2     23  \n",
       "378124  2016-04-14 02:45:50  2016-04-22 23:44:33  766723.0    1      2     23  \n",
       "378120  2016-04-14 02:45:50  2016-04-22 23:38:51  766381.0    1      2     23  \n",
       "378117  2016-04-14 02:45:50  2016-04-22 23:34:20  766110.0    1      2     23  \n",
       "378114  2016-04-14 02:45:50  2016-04-22 23:29:43  765833.0    1      2     23  \n",
       "378110  2016-04-14 02:45:50  2016-04-22 23:24:01  765491.0    1      2     23  \n",
       "378107  2016-04-14 02:45:50  2016-04-22 23:19:30  765220.0    1      2     23  \n",
       "378103  2016-04-14 02:45:50  2016-04-22 23:13:52  764882.0    1      2     23  \n",
       "378099  2016-04-14 02:45:50  2016-04-22 23:09:23  764613.0    1      2     23  "
      ]
     },
     "execution_count": 31,
     "metadata": {},
     "output_type": "execute_result"
    }
   ],
   "source": [
    "associate.sort_values(by='interval',ascending=False)[0:10] #767336+sec"
   ]
  },
  {
   "cell_type": "code",
   "execution_count": 65,
   "metadata": {
    "collapsed": false
   },
   "outputs": [
    {
     "name": "stdout",
     "output_type": "stream",
     "text": [
      "macAdd associated no longer than 2 hrs: 10734\n",
      "macAdd probing longer than 3 hrs: 32\n"
     ]
    }
   ],
   "source": [
    "print \"macAdd associated no longer than 2 hrs:\", len(set(associate[associate[\"interval\"]<7200][\"mac\"]))\n",
    "print \"macAdd probing longer than 3 hrs:\",len(set(prob[prob[\"interval\"]>50400][\"mac\"]))"
   ]
  },
  {
   "cell_type": "code",
   "execution_count": 70,
   "metadata": {
    "collapsed": false
   },
   "outputs": [
    {
     "data": {
      "text/html": [
       "<div>\n",
       "<table border=\"1\" class=\"dataframe\">\n",
       "  <thead>\n",
       "    <tr style=\"text-align: right;\">\n",
       "      <th></th>\n",
       "      <th>mac</th>\n",
       "      <th>bldid</th>\n",
       "      <th>xcor</th>\n",
       "      <th>ycor</th>\n",
       "      <th>firstlocatedtime</th>\n",
       "      <th>lastlocatedtime</th>\n",
       "      <th>interval</th>\n",
       "      <th>out</th>\n",
       "    </tr>\n",
       "    <tr>\n",
       "      <th>sgtime</th>\n",
       "      <th></th>\n",
       "      <th></th>\n",
       "      <th></th>\n",
       "      <th></th>\n",
       "      <th></th>\n",
       "      <th></th>\n",
       "      <th></th>\n",
       "      <th></th>\n",
       "    </tr>\n",
       "  </thead>\n",
       "  <tbody>\n",
       "    <tr>\n",
       "      <th>2016-04-16 15:55:01</th>\n",
       "      <td>f4:f2:6d:17:06:32</td>\n",
       "      <td>SDE3-02</td>\n",
       "      <td>1392.52</td>\n",
       "      <td>714.94</td>\n",
       "      <td>2016-04-14T20:00:31.726+0800</td>\n",
       "      <td>2016-04-16T15:52:47.308+0800</td>\n",
       "      <td>157936.0</td>\n",
       "      <td>1</td>\n",
       "    </tr>\n",
       "    <tr>\n",
       "      <th>2016-04-16 16:00:02</th>\n",
       "      <td>f4:f2:6d:17:06:32</td>\n",
       "      <td>SDE3-02</td>\n",
       "      <td>1392.52</td>\n",
       "      <td>714.94</td>\n",
       "      <td>2016-04-14T20:00:31.726+0800</td>\n",
       "      <td>2016-04-16T15:52:47.308+0800</td>\n",
       "      <td>157936.0</td>\n",
       "      <td>1</td>\n",
       "    </tr>\n",
       "    <tr>\n",
       "      <th>2016-04-16 16:05:02</th>\n",
       "      <td>f4:f2:6d:17:06:32</td>\n",
       "      <td>SDE3-02</td>\n",
       "      <td>1392.52</td>\n",
       "      <td>714.94</td>\n",
       "      <td>2016-04-14T20:00:31.726+0800</td>\n",
       "      <td>2016-04-16T15:52:47.308+0800</td>\n",
       "      <td>157936.0</td>\n",
       "      <td>1</td>\n",
       "    </tr>\n",
       "    <tr>\n",
       "      <th>2016-04-16 16:10:01</th>\n",
       "      <td>f4:f2:6d:17:06:32</td>\n",
       "      <td>SDE3-02</td>\n",
       "      <td>1392.52</td>\n",
       "      <td>714.94</td>\n",
       "      <td>2016-04-14T20:00:31.726+0800</td>\n",
       "      <td>2016-04-16T15:52:47.308+0800</td>\n",
       "      <td>157936.0</td>\n",
       "      <td>1</td>\n",
       "    </tr>\n",
       "    <tr>\n",
       "      <th>2016-04-16 16:15:02</th>\n",
       "      <td>f4:f2:6d:17:06:32</td>\n",
       "      <td>SDE3-02</td>\n",
       "      <td>1392.52</td>\n",
       "      <td>714.94</td>\n",
       "      <td>2016-04-14T20:00:31.726+0800</td>\n",
       "      <td>2016-04-16T15:52:47.308+0800</td>\n",
       "      <td>157936.0</td>\n",
       "      <td>1</td>\n",
       "    </tr>\n",
       "    <tr>\n",
       "      <th>2016-04-16 16:20:02</th>\n",
       "      <td>f4:f2:6d:17:06:32</td>\n",
       "      <td>SDE3-02</td>\n",
       "      <td>1392.52</td>\n",
       "      <td>714.94</td>\n",
       "      <td>2016-04-14T20:00:31.726+0800</td>\n",
       "      <td>2016-04-16T15:52:47.308+0800</td>\n",
       "      <td>157936.0</td>\n",
       "      <td>1</td>\n",
       "    </tr>\n",
       "    <tr>\n",
       "      <th>2016-04-16 16:25:01</th>\n",
       "      <td>f4:f2:6d:17:06:32</td>\n",
       "      <td>SDE3-02</td>\n",
       "      <td>1392.52</td>\n",
       "      <td>714.94</td>\n",
       "      <td>2016-04-14T20:00:31.726+0800</td>\n",
       "      <td>2016-04-16T15:52:47.308+0800</td>\n",
       "      <td>157936.0</td>\n",
       "      <td>1</td>\n",
       "    </tr>\n",
       "    <tr>\n",
       "      <th>2016-04-16 16:30:02</th>\n",
       "      <td>f4:f2:6d:17:06:32</td>\n",
       "      <td>SDE3-02</td>\n",
       "      <td>1392.52</td>\n",
       "      <td>714.94</td>\n",
       "      <td>2016-04-14T20:00:31.726+0800</td>\n",
       "      <td>2016-04-16T15:52:47.308+0800</td>\n",
       "      <td>157936.0</td>\n",
       "      <td>1</td>\n",
       "    </tr>\n",
       "    <tr>\n",
       "      <th>2016-04-16 16:35:02</th>\n",
       "      <td>f4:f2:6d:17:06:32</td>\n",
       "      <td>SDE3-02</td>\n",
       "      <td>1392.52</td>\n",
       "      <td>714.94</td>\n",
       "      <td>2016-04-14T20:00:31.726+0800</td>\n",
       "      <td>2016-04-16T15:52:47.308+0800</td>\n",
       "      <td>157936.0</td>\n",
       "      <td>1</td>\n",
       "    </tr>\n",
       "    <tr>\n",
       "      <th>2016-04-16 16:40:01</th>\n",
       "      <td>f4:f2:6d:17:06:32</td>\n",
       "      <td>SDE3-02</td>\n",
       "      <td>1392.52</td>\n",
       "      <td>714.94</td>\n",
       "      <td>2016-04-14T20:00:31.726+0800</td>\n",
       "      <td>2016-04-16T15:52:47.308+0800</td>\n",
       "      <td>157936.0</td>\n",
       "      <td>1</td>\n",
       "    </tr>\n",
       "    <tr>\n",
       "      <th>2016-04-16 16:45:02</th>\n",
       "      <td>f4:f2:6d:17:06:32</td>\n",
       "      <td>SDE3-02</td>\n",
       "      <td>1392.52</td>\n",
       "      <td>714.94</td>\n",
       "      <td>2016-04-14T20:00:31.726+0800</td>\n",
       "      <td>2016-04-16T15:52:47.308+0800</td>\n",
       "      <td>157936.0</td>\n",
       "      <td>1</td>\n",
       "    </tr>\n",
       "    <tr>\n",
       "      <th>2016-04-16 16:50:02</th>\n",
       "      <td>f4:f2:6d:17:06:32</td>\n",
       "      <td>SDE3-02</td>\n",
       "      <td>1392.52</td>\n",
       "      <td>714.94</td>\n",
       "      <td>2016-04-14T20:00:31.726+0800</td>\n",
       "      <td>2016-04-16T15:52:47.308+0800</td>\n",
       "      <td>157936.0</td>\n",
       "      <td>1</td>\n",
       "    </tr>\n",
       "    <tr>\n",
       "      <th>2016-04-16 16:55:01</th>\n",
       "      <td>f4:f2:6d:17:06:32</td>\n",
       "      <td>SDE3-02</td>\n",
       "      <td>1392.52</td>\n",
       "      <td>714.94</td>\n",
       "      <td>2016-04-14T20:00:31.726+0800</td>\n",
       "      <td>2016-04-16T15:52:47.308+0800</td>\n",
       "      <td>157936.0</td>\n",
       "      <td>1</td>\n",
       "    </tr>\n",
       "    <tr>\n",
       "      <th>2016-04-16 17:00:02</th>\n",
       "      <td>f4:f2:6d:17:06:32</td>\n",
       "      <td>SDE3-02</td>\n",
       "      <td>1392.52</td>\n",
       "      <td>714.94</td>\n",
       "      <td>2016-04-14T20:00:31.726+0800</td>\n",
       "      <td>2016-04-16T15:52:47.308+0800</td>\n",
       "      <td>157936.0</td>\n",
       "      <td>1</td>\n",
       "    </tr>\n",
       "    <tr>\n",
       "      <th>2016-04-16 17:05:02</th>\n",
       "      <td>f4:f2:6d:17:06:32</td>\n",
       "      <td>SDE3-02</td>\n",
       "      <td>1392.52</td>\n",
       "      <td>714.94</td>\n",
       "      <td>2016-04-14T20:00:31.726+0800</td>\n",
       "      <td>2016-04-16T15:52:47.308+0800</td>\n",
       "      <td>157936.0</td>\n",
       "      <td>1</td>\n",
       "    </tr>\n",
       "    <tr>\n",
       "      <th>2016-04-16 17:10:01</th>\n",
       "      <td>f4:f2:6d:17:06:32</td>\n",
       "      <td>SDE3-02</td>\n",
       "      <td>1392.52</td>\n",
       "      <td>714.94</td>\n",
       "      <td>2016-04-14T20:00:31.726+0800</td>\n",
       "      <td>2016-04-16T15:52:47.308+0800</td>\n",
       "      <td>157936.0</td>\n",
       "      <td>1</td>\n",
       "    </tr>\n",
       "    <tr>\n",
       "      <th>2016-04-16 17:15:02</th>\n",
       "      <td>f4:f2:6d:17:06:32</td>\n",
       "      <td>SDE3-02</td>\n",
       "      <td>1392.52</td>\n",
       "      <td>714.94</td>\n",
       "      <td>2016-04-14T20:00:31.726+0800</td>\n",
       "      <td>2016-04-16T15:52:47.308+0800</td>\n",
       "      <td>157936.0</td>\n",
       "      <td>1</td>\n",
       "    </tr>\n",
       "    <tr>\n",
       "      <th>2016-04-16 17:20:01</th>\n",
       "      <td>f4:f2:6d:17:06:32</td>\n",
       "      <td>SDE3-02</td>\n",
       "      <td>1392.52</td>\n",
       "      <td>714.94</td>\n",
       "      <td>2016-04-14T20:00:31.726+0800</td>\n",
       "      <td>2016-04-16T15:52:47.308+0800</td>\n",
       "      <td>157936.0</td>\n",
       "      <td>1</td>\n",
       "    </tr>\n",
       "    <tr>\n",
       "      <th>2016-04-16 17:25:01</th>\n",
       "      <td>f4:f2:6d:17:06:32</td>\n",
       "      <td>SDE3-02</td>\n",
       "      <td>1392.52</td>\n",
       "      <td>714.94</td>\n",
       "      <td>2016-04-14T20:00:31.726+0800</td>\n",
       "      <td>2016-04-16T15:52:47.308+0800</td>\n",
       "      <td>157936.0</td>\n",
       "      <td>1</td>\n",
       "    </tr>\n",
       "    <tr>\n",
       "      <th>2016-04-16 17:30:02</th>\n",
       "      <td>f4:f2:6d:17:06:32</td>\n",
       "      <td>SDE3-02</td>\n",
       "      <td>1392.52</td>\n",
       "      <td>714.94</td>\n",
       "      <td>2016-04-14T20:00:31.726+0800</td>\n",
       "      <td>2016-04-16T15:52:47.308+0800</td>\n",
       "      <td>157936.0</td>\n",
       "      <td>1</td>\n",
       "    </tr>\n",
       "    <tr>\n",
       "      <th>2016-04-16 17:35:01</th>\n",
       "      <td>f4:f2:6d:17:06:32</td>\n",
       "      <td>SDE3-02</td>\n",
       "      <td>1392.52</td>\n",
       "      <td>714.94</td>\n",
       "      <td>2016-04-14T20:00:31.726+0800</td>\n",
       "      <td>2016-04-16T15:52:47.308+0800</td>\n",
       "      <td>157936.0</td>\n",
       "      <td>1</td>\n",
       "    </tr>\n",
       "    <tr>\n",
       "      <th>2016-04-16 17:40:02</th>\n",
       "      <td>f4:f2:6d:17:06:32</td>\n",
       "      <td>SDE3-02</td>\n",
       "      <td>1392.52</td>\n",
       "      <td>714.94</td>\n",
       "      <td>2016-04-14T20:00:31.726+0800</td>\n",
       "      <td>2016-04-16T15:52:47.308+0800</td>\n",
       "      <td>157936.0</td>\n",
       "      <td>1</td>\n",
       "    </tr>\n",
       "    <tr>\n",
       "      <th>2016-04-16 17:45:01</th>\n",
       "      <td>f4:f2:6d:17:06:32</td>\n",
       "      <td>SDE3-02</td>\n",
       "      <td>1392.52</td>\n",
       "      <td>714.94</td>\n",
       "      <td>2016-04-14T20:00:31.726+0800</td>\n",
       "      <td>2016-04-16T15:52:47.308+0800</td>\n",
       "      <td>157936.0</td>\n",
       "      <td>1</td>\n",
       "    </tr>\n",
       "    <tr>\n",
       "      <th>2016-04-16 17:50:01</th>\n",
       "      <td>f4:f2:6d:17:06:32</td>\n",
       "      <td>SDE3-02</td>\n",
       "      <td>1392.52</td>\n",
       "      <td>714.94</td>\n",
       "      <td>2016-04-14T20:00:31.726+0800</td>\n",
       "      <td>2016-04-16T15:52:47.308+0800</td>\n",
       "      <td>157936.0</td>\n",
       "      <td>1</td>\n",
       "    </tr>\n",
       "    <tr>\n",
       "      <th>2016-04-16 17:55:02</th>\n",
       "      <td>f4:f2:6d:17:06:32</td>\n",
       "      <td>SDE3-02</td>\n",
       "      <td>1392.52</td>\n",
       "      <td>714.94</td>\n",
       "      <td>2016-04-14T20:00:31.726+0800</td>\n",
       "      <td>2016-04-16T15:52:47.308+0800</td>\n",
       "      <td>157936.0</td>\n",
       "      <td>1</td>\n",
       "    </tr>\n",
       "    <tr>\n",
       "      <th>2016-04-16 18:00:01</th>\n",
       "      <td>f4:f2:6d:17:06:32</td>\n",
       "      <td>SDE3-02</td>\n",
       "      <td>1392.52</td>\n",
       "      <td>714.94</td>\n",
       "      <td>2016-04-14T20:00:31.726+0800</td>\n",
       "      <td>2016-04-16T15:52:47.308+0800</td>\n",
       "      <td>157936.0</td>\n",
       "      <td>1</td>\n",
       "    </tr>\n",
       "  </tbody>\n",
       "</table>\n",
       "</div>"
      ],
      "text/plain": [
       "                                   mac    bldid     xcor    ycor  \\\n",
       "sgtime                                                             \n",
       "2016-04-16 15:55:01  f4:f2:6d:17:06:32  SDE3-02  1392.52  714.94   \n",
       "2016-04-16 16:00:02  f4:f2:6d:17:06:32  SDE3-02  1392.52  714.94   \n",
       "2016-04-16 16:05:02  f4:f2:6d:17:06:32  SDE3-02  1392.52  714.94   \n",
       "2016-04-16 16:10:01  f4:f2:6d:17:06:32  SDE3-02  1392.52  714.94   \n",
       "2016-04-16 16:15:02  f4:f2:6d:17:06:32  SDE3-02  1392.52  714.94   \n",
       "2016-04-16 16:20:02  f4:f2:6d:17:06:32  SDE3-02  1392.52  714.94   \n",
       "2016-04-16 16:25:01  f4:f2:6d:17:06:32  SDE3-02  1392.52  714.94   \n",
       "2016-04-16 16:30:02  f4:f2:6d:17:06:32  SDE3-02  1392.52  714.94   \n",
       "2016-04-16 16:35:02  f4:f2:6d:17:06:32  SDE3-02  1392.52  714.94   \n",
       "2016-04-16 16:40:01  f4:f2:6d:17:06:32  SDE3-02  1392.52  714.94   \n",
       "2016-04-16 16:45:02  f4:f2:6d:17:06:32  SDE3-02  1392.52  714.94   \n",
       "2016-04-16 16:50:02  f4:f2:6d:17:06:32  SDE3-02  1392.52  714.94   \n",
       "2016-04-16 16:55:01  f4:f2:6d:17:06:32  SDE3-02  1392.52  714.94   \n",
       "2016-04-16 17:00:02  f4:f2:6d:17:06:32  SDE3-02  1392.52  714.94   \n",
       "2016-04-16 17:05:02  f4:f2:6d:17:06:32  SDE3-02  1392.52  714.94   \n",
       "2016-04-16 17:10:01  f4:f2:6d:17:06:32  SDE3-02  1392.52  714.94   \n",
       "2016-04-16 17:15:02  f4:f2:6d:17:06:32  SDE3-02  1392.52  714.94   \n",
       "2016-04-16 17:20:01  f4:f2:6d:17:06:32  SDE3-02  1392.52  714.94   \n",
       "2016-04-16 17:25:01  f4:f2:6d:17:06:32  SDE3-02  1392.52  714.94   \n",
       "2016-04-16 17:30:02  f4:f2:6d:17:06:32  SDE3-02  1392.52  714.94   \n",
       "2016-04-16 17:35:01  f4:f2:6d:17:06:32  SDE3-02  1392.52  714.94   \n",
       "2016-04-16 17:40:02  f4:f2:6d:17:06:32  SDE3-02  1392.52  714.94   \n",
       "2016-04-16 17:45:01  f4:f2:6d:17:06:32  SDE3-02  1392.52  714.94   \n",
       "2016-04-16 17:50:01  f4:f2:6d:17:06:32  SDE3-02  1392.52  714.94   \n",
       "2016-04-16 17:55:02  f4:f2:6d:17:06:32  SDE3-02  1392.52  714.94   \n",
       "2016-04-16 18:00:01  f4:f2:6d:17:06:32  SDE3-02  1392.52  714.94   \n",
       "\n",
       "                                 firstlocatedtime  \\\n",
       "sgtime                                              \n",
       "2016-04-16 15:55:01  2016-04-14T20:00:31.726+0800   \n",
       "2016-04-16 16:00:02  2016-04-14T20:00:31.726+0800   \n",
       "2016-04-16 16:05:02  2016-04-14T20:00:31.726+0800   \n",
       "2016-04-16 16:10:01  2016-04-14T20:00:31.726+0800   \n",
       "2016-04-16 16:15:02  2016-04-14T20:00:31.726+0800   \n",
       "2016-04-16 16:20:02  2016-04-14T20:00:31.726+0800   \n",
       "2016-04-16 16:25:01  2016-04-14T20:00:31.726+0800   \n",
       "2016-04-16 16:30:02  2016-04-14T20:00:31.726+0800   \n",
       "2016-04-16 16:35:02  2016-04-14T20:00:31.726+0800   \n",
       "2016-04-16 16:40:01  2016-04-14T20:00:31.726+0800   \n",
       "2016-04-16 16:45:02  2016-04-14T20:00:31.726+0800   \n",
       "2016-04-16 16:50:02  2016-04-14T20:00:31.726+0800   \n",
       "2016-04-16 16:55:01  2016-04-14T20:00:31.726+0800   \n",
       "2016-04-16 17:00:02  2016-04-14T20:00:31.726+0800   \n",
       "2016-04-16 17:05:02  2016-04-14T20:00:31.726+0800   \n",
       "2016-04-16 17:10:01  2016-04-14T20:00:31.726+0800   \n",
       "2016-04-16 17:15:02  2016-04-14T20:00:31.726+0800   \n",
       "2016-04-16 17:20:01  2016-04-14T20:00:31.726+0800   \n",
       "2016-04-16 17:25:01  2016-04-14T20:00:31.726+0800   \n",
       "2016-04-16 17:30:02  2016-04-14T20:00:31.726+0800   \n",
       "2016-04-16 17:35:01  2016-04-14T20:00:31.726+0800   \n",
       "2016-04-16 17:40:02  2016-04-14T20:00:31.726+0800   \n",
       "2016-04-16 17:45:01  2016-04-14T20:00:31.726+0800   \n",
       "2016-04-16 17:50:01  2016-04-14T20:00:31.726+0800   \n",
       "2016-04-16 17:55:02  2016-04-14T20:00:31.726+0800   \n",
       "2016-04-16 18:00:01  2016-04-14T20:00:31.726+0800   \n",
       "\n",
       "                                  lastlocatedtime  interval  out  \n",
       "sgtime                                                            \n",
       "2016-04-16 15:55:01  2016-04-16T15:52:47.308+0800  157936.0    1  \n",
       "2016-04-16 16:00:02  2016-04-16T15:52:47.308+0800  157936.0    1  \n",
       "2016-04-16 16:05:02  2016-04-16T15:52:47.308+0800  157936.0    1  \n",
       "2016-04-16 16:10:01  2016-04-16T15:52:47.308+0800  157936.0    1  \n",
       "2016-04-16 16:15:02  2016-04-16T15:52:47.308+0800  157936.0    1  \n",
       "2016-04-16 16:20:02  2016-04-16T15:52:47.308+0800  157936.0    1  \n",
       "2016-04-16 16:25:01  2016-04-16T15:52:47.308+0800  157936.0    1  \n",
       "2016-04-16 16:30:02  2016-04-16T15:52:47.308+0800  157936.0    1  \n",
       "2016-04-16 16:35:02  2016-04-16T15:52:47.308+0800  157936.0    1  \n",
       "2016-04-16 16:40:01  2016-04-16T15:52:47.308+0800  157936.0    1  \n",
       "2016-04-16 16:45:02  2016-04-16T15:52:47.308+0800  157936.0    1  \n",
       "2016-04-16 16:50:02  2016-04-16T15:52:47.308+0800  157936.0    1  \n",
       "2016-04-16 16:55:01  2016-04-16T15:52:47.308+0800  157936.0    1  \n",
       "2016-04-16 17:00:02  2016-04-16T15:52:47.308+0800  157936.0    1  \n",
       "2016-04-16 17:05:02  2016-04-16T15:52:47.308+0800  157936.0    1  \n",
       "2016-04-16 17:10:01  2016-04-16T15:52:47.308+0800  157936.0    1  \n",
       "2016-04-16 17:15:02  2016-04-16T15:52:47.308+0800  157936.0    1  \n",
       "2016-04-16 17:20:01  2016-04-16T15:52:47.308+0800  157936.0    1  \n",
       "2016-04-16 17:25:01  2016-04-16T15:52:47.308+0800  157936.0    1  \n",
       "2016-04-16 17:30:02  2016-04-16T15:52:47.308+0800  157936.0    1  \n",
       "2016-04-16 17:35:01  2016-04-16T15:52:47.308+0800  157936.0    1  \n",
       "2016-04-16 17:40:02  2016-04-16T15:52:47.308+0800  157936.0    1  \n",
       "2016-04-16 17:45:01  2016-04-16T15:52:47.308+0800  157936.0    1  \n",
       "2016-04-16 17:50:01  2016-04-16T15:52:47.308+0800  157936.0    1  \n",
       "2016-04-16 17:55:02  2016-04-16T15:52:47.308+0800  157936.0    1  \n",
       "2016-04-16 18:00:01  2016-04-16T15:52:47.308+0800  157936.0    1  "
      ]
     },
     "execution_count": 70,
     "metadata": {},
     "output_type": "execute_result"
    }
   ],
   "source": [
    "m = associate[associate[\"interval\"]<800][\"mac\"].unique()\n",
    "md = associate[associate['mac'].isin(m)]\n",
    "md[md['interval']>157000]"
   ]
  },
  {
   "cell_type": "code",
   "execution_count": 45,
   "metadata": {
    "collapsed": false
   },
   "outputs": [
    {
     "name": "stdout",
     "output_type": "stream",
     "text": [
      "39\n"
     ]
    },
    {
     "data": {
      "text/plain": [
       "array(['ac:d1:b8:4f:1a:15', '00:1e:65:76:39:a2', '60:d8:19:d2:81:18',\n",
       "       '2c:33:7a:0d:17:a3', 'c0:4a:00:1d:65:61', 'dc:53:60:e9:cb:9a',\n",
       "       '90:e7:c4:89:03:18', '84:3a:4b:2b:5f:14'], dtype=object)"
      ]
     },
     "execution_count": 45,
     "metadata": {},
     "output_type": "execute_result"
    }
   ],
   "source": [
    "print len(set(associate[associate[\"interval\"]>50400]['mac']))\n",
    "prob[prob[\"interval\"]>50400]['mac'].unique()[1:9]"
   ]
  },
  {
   "cell_type": "code",
   "execution_count": 42,
   "metadata": {
    "collapsed": false
   },
   "outputs": [
    {
     "name": "stdout",
     "output_type": "stream",
     "text": [
      "(1818, 8)                                    mac    bldid    xcor    ycor  \\\n",
      "sgtime                                                            \n",
      "2016-04-18 14:01:03  84:3a:4b:2b:5f:14  SDE1-05  643.00  322.71   \n",
      "2016-04-18 14:02:02  84:3a:4b:2b:5f:14  SDE1-05  643.00  322.71   \n",
      "2016-04-18 14:03:03  84:3a:4b:2b:5f:14  SDE1-05  648.31  318.40   \n",
      "2016-04-18 14:04:02  84:3a:4b:2b:5f:14  SDE1-05  646.96  317.90   \n",
      "2016-04-18 14:05:03  84:3a:4b:2b:5f:14  SDE1-05  646.96  317.90   \n",
      "\n",
      "                                 firstlocatedtime  \\\n",
      "sgtime                                              \n",
      "2016-04-18 14:01:03  2016-04-14T02:45:50.375+0800   \n",
      "2016-04-18 14:02:02  2016-04-14T02:45:50.375+0800   \n",
      "2016-04-18 14:03:03  2016-04-14T02:45:50.375+0800   \n",
      "2016-04-18 14:04:02  2016-04-14T02:45:50.375+0800   \n",
      "2016-04-18 14:05:03  2016-04-14T02:45:50.375+0800   \n",
      "\n",
      "                                  lastlocatedtime  interval  out  \n",
      "sgtime                                                            \n",
      "2016-04-18 14:01:03  2016-04-18T14:00:47.005+0800  386097.0    1  \n",
      "2016-04-18 14:02:02  2016-04-18T14:00:47.005+0800  386097.0    1  \n",
      "2016-04-18 14:03:03  2016-04-18T14:02:09.480+0800  386179.0    1  \n",
      "2016-04-18 14:04:02  2016-04-18T14:03:50.055+0800  386280.0    1  \n",
      "2016-04-18 14:05:03  2016-04-18T14:03:50.055+0800  386280.0    1  \n",
      "                                   mac    bldid    xcor    ycor  \\\n",
      "sgtime                                                            \n",
      "2016-04-22 18:18:01  84:3a:4b:2b:5f:14  SDE1-05  641.48  320.71   \n",
      "2016-04-22 18:19:01  84:3a:4b:2b:5f:14  SDE1-05  641.65  320.58   \n",
      "2016-04-22 18:20:01  84:3a:4b:2b:5f:14  SDE1-05  641.75  320.50   \n",
      "2016-04-22 18:21:01  84:3a:4b:2b:5f:14  SDE1-05  641.75  320.50   \n",
      "2016-04-22 18:22:01  84:3a:4b:2b:5f:14  SDE1-05  641.52  320.65   \n",
      "2016-04-22 18:23:01  84:3a:4b:2b:5f:14  SDE1-05  641.58  320.59   \n",
      "2016-04-22 18:24:01  84:3a:4b:2b:5f:14  SDE1-05  641.46  320.68   \n",
      "2016-04-22 18:25:01  84:3a:4b:2b:5f:14  SDE1-05  641.26  320.81   \n",
      "\n",
      "                                 firstlocatedtime  \\\n",
      "sgtime                                              \n",
      "2016-04-22 18:18:01  2016-04-14T02:45:50.375+0800   \n",
      "2016-04-22 18:19:01  2016-04-14T02:45:50.375+0800   \n",
      "2016-04-22 18:20:01  2016-04-14T02:45:50.375+0800   \n",
      "2016-04-22 18:21:01  2016-04-14T02:45:50.375+0800   \n",
      "2016-04-22 18:22:01  2016-04-14T02:45:50.375+0800   \n",
      "2016-04-22 18:23:01  2016-04-14T02:45:50.375+0800   \n",
      "2016-04-22 18:24:01  2016-04-14T02:45:50.375+0800   \n",
      "2016-04-22 18:25:01  2016-04-14T02:45:50.375+0800   \n",
      "\n",
      "                                  lastlocatedtime  interval  out  \n",
      "sgtime                                                            \n",
      "2016-04-22 18:18:01  2016-04-22T18:17:23.247+0800  747093.0    1  \n",
      "2016-04-22 18:19:01  2016-04-22T18:18:31.727+0800  747161.0    1  \n",
      "2016-04-22 18:20:01  2016-04-22T18:19:40.189+0800  747230.0    1  \n",
      "2016-04-22 18:21:01  2016-04-22T18:19:40.189+0800  747230.0    1  \n",
      "2016-04-22 18:22:01  2016-04-22T18:20:50.657+0800  747300.0    1  \n",
      "2016-04-22 18:23:01  2016-04-22T18:22:01.159+0800  747371.0    1  \n",
      "2016-04-22 18:24:01  2016-04-22T18:23:09.593+0800  747439.0    1  \n",
      "2016-04-22 18:25:01  2016-04-22T18:24:42.343+0800  747532.0    1  \n",
      "----------------------ASSOCIATED------------------------\n",
      "(3316, 8)                                    mac    bldid    xcor    ycor  \\\n",
      "sgtime                                                            \n",
      "2016-04-16 06:05:01  84:3a:4b:2b:5f:14  SDE1-04  839.32  454.97   \n",
      "2016-04-16 17:55:02  84:3a:4b:2b:5f:14  SDE1-04  520.21  439.99   \n",
      "2016-04-16 22:45:01  84:3a:4b:2b:5f:14  SDE1-04  541.40  441.18   \n",
      "2016-04-17 02:55:01  84:3a:4b:2b:5f:14  SDE1-04  527.66  440.26   \n",
      "2016-04-17 03:00:01  84:3a:4b:2b:5f:14  SDE1-04  527.66  440.26   \n",
      "\n",
      "                                 firstlocatedtime  \\\n",
      "sgtime                                              \n",
      "2016-04-16 06:05:01  2016-04-14T02:45:50.375+0800   \n",
      "2016-04-16 17:55:02  2016-04-14T02:45:50.375+0800   \n",
      "2016-04-16 22:45:01  2016-04-14T02:45:50.375+0800   \n",
      "2016-04-17 02:55:01  2016-04-14T02:45:50.375+0800   \n",
      "2016-04-17 03:00:01  2016-04-14T02:45:50.375+0800   \n",
      "\n",
      "                                  lastlocatedtime  interval  out  \n",
      "sgtime                                                            \n",
      "2016-04-16 06:05:01  2016-04-16T06:03:08.872+0800  184638.0    1  \n",
      "2016-04-16 17:55:02  2016-04-16T17:54:36.414+0800  227326.0    1  \n",
      "2016-04-16 22:45:01  2016-04-16T22:43:20.907+0800  244650.0    1  \n",
      "2016-04-17 02:55:01  2016-04-17T02:53:05.207+0800  259635.0    1  \n",
      "2016-04-17 03:00:01  2016-04-17T02:59:59.051+0800  260049.0    1  \n",
      "                                   mac    bldid    xcor    ycor  \\\n",
      "sgtime                                                            \n",
      "2016-04-22 23:20:01  84:3a:4b:2b:5f:14  SDE1-05  629.19  328.97   \n",
      "2016-04-22 23:25:01  84:3a:4b:2b:5f:14  SDE1-05  628.96  328.86   \n",
      "2016-04-22 23:30:01  84:3a:4b:2b:5f:14  SDE1-05  630.50  327.87   \n",
      "2016-04-22 23:35:01  84:3a:4b:2b:5f:14  SDE1-05  660.75  319.42   \n",
      "2016-04-22 23:40:01  84:3a:4b:2b:5f:14  SDE1-05  632.19  327.29   \n",
      "2016-04-22 23:45:01  84:3a:4b:2b:5f:14  SDE1-05  632.24  325.94   \n",
      "2016-04-22 23:50:01  84:3a:4b:2b:5f:14  SDE1-05  632.98  327.35   \n",
      "2016-04-22 23:55:01  84:3a:4b:2b:5f:14  SDE1-05  632.49  326.89   \n",
      "\n",
      "                                 firstlocatedtime  \\\n",
      "sgtime                                              \n",
      "2016-04-22 23:20:01  2016-04-14T02:45:50.375+0800   \n",
      "2016-04-22 23:25:01  2016-04-14T02:45:50.375+0800   \n",
      "2016-04-22 23:30:01  2016-04-14T02:45:50.375+0800   \n",
      "2016-04-22 23:35:01  2016-04-14T02:45:50.375+0800   \n",
      "2016-04-22 23:40:01  2016-04-14T02:45:50.375+0800   \n",
      "2016-04-22 23:45:01  2016-04-14T02:45:50.375+0800   \n",
      "2016-04-22 23:50:01  2016-04-14T02:45:50.375+0800   \n",
      "2016-04-22 23:55:01  2016-04-14T02:45:50.375+0800   \n",
      "\n",
      "                                  lastlocatedtime  interval  out  \n",
      "sgtime                                                            \n",
      "2016-04-22 23:20:01  2016-04-22T23:19:30.215+0800  765220.0    1  \n",
      "2016-04-22 23:25:01  2016-04-22T23:24:01.564+0800  765491.0    1  \n",
      "2016-04-22 23:30:01  2016-04-22T23:29:43.230+0800  765833.0    1  \n",
      "2016-04-22 23:35:01  2016-04-22T23:34:20.645+0800  766110.0    1  \n",
      "2016-04-22 23:40:01  2016-04-22T23:38:51.947+0800  766381.0    1  \n",
      "2016-04-22 23:45:01  2016-04-22T23:44:33.616+0800  766723.0    1  \n",
      "2016-04-22 23:50:01  2016-04-22T23:49:04.996+0800  766994.0    1  \n",
      "2016-04-22 23:55:01  2016-04-22T23:54:46.709+0800  767336.0    1  \n"
     ]
    }
   ],
   "source": [
    "print prob[prob[\"mac\"]=='84:3a:4b:2b:5f:14'].shape,prob[prob[\"mac\"]=='84:3a:4b:2b:5f:14'].head()\n",
    "print prob[prob[\"mac\"]=='84:3a:4b:2b:5f:14'][-8:]\n",
    "print '----------------------ASSOCIATED------------------------'\n",
    "print associate[associate[\"mac\"]=='84:3a:4b:2b:5f:14'].shape,associate[associate[\"mac\"]=='84:3a:4b:2b:5f:14'][0:5]\n",
    "print associate[associate[\"mac\"]=='84:3a:4b:2b:5f:14'][-8:]\n"
   ]
  },
  {
   "cell_type": "markdown",
   "metadata": {},
   "source": [
    "### Length and Width of buildings"
   ]
  },
  {
   "cell_type": "code",
   "execution_count": 6,
   "metadata": {
    "collapsed": true
   },
   "outputs": [],
   "source": [
    "dim = {\"SDE1-02\":[1227.0858,1730.8369], # y,x\n",
    "\"SDE1-03\":[275.0,394.0],\n",
    "\"SDE1-04\":[1065.6272,1503.0952],\n",
    "\"SDE1-05\":[1227.0858,1730.8369],\n",
    "\"SDE2-01\":[671.634,948.0622],\n",
    "\"SDE2-02\":[736.25146,1038.5022],\n",
    "\"SDE2-03\":[673.7935,951.3015],\n",
    "\"SDE3-01\" :[1214.772,1734.6945],\n",
    "\"SDE3-02\": [2018.2332,2882.037],\n",
    "\"SDE3-03\" :[1345.4888,1921.358],\n",
    "\"SDE3-04\":[683.8,474.7]} "
   ]
  },
  {
   "cell_type": "markdown",
   "metadata": {},
   "source": [
    "#### Explore stationary metrics\n",
    "* get the stationary records"
   ]
  },
  {
   "cell_type": "code",
   "execution_count": 59,
   "metadata": {
    "collapsed": false
   },
   "outputs": [],
   "source": [
    "a_prob = prob[prob[\"mac\"]=='84:3a:4b:2b:5f:14']\n",
    "a_assoc = associate[associate[\"mac\"]=='84:3a:4b:2b:5f:14']\n",
    "b_prob = prob[prob[\"mac\"].isin(['00:80:92:94:22:ac','00:80:92:cc:9b:07'])]\n",
    "c_prob = prob[prob[\"mac\"]=='00:80:92:cc:9b:07']"
   ]
  },
  {
   "cell_type": "markdown",
   "metadata": {},
   "source": [
    "* check x, y cor, intervals and building id status"
   ]
  },
  {
   "cell_type": "code",
   "execution_count": 63,
   "metadata": {
    "collapsed": false
   },
   "outputs": [
    {
     "name": "stdout",
     "output_type": "stream",
     "text": [
      "                              interval     out         xcor         ycor\n",
      "mac                                                                     \n",
      "00:80:92:94:22:ac count    5135.000000  5135.0  5135.000000  5135.000000\n",
      "                  mean   733550.776436     1.0   265.607969   301.016401\n",
      "                  std    152735.418781     0.0    18.786713     7.526200\n",
      "                  min    373233.000000     1.0    75.520000   229.640000\n",
      "                  25%    611539.000000     1.0   260.860000   300.940000\n",
      "                  50%    751966.000000     1.0   267.660000   301.100000\n",
      "                  75%    860647.000000     1.0   273.925000   301.220000\n",
      "                  max    977728.000000     1.0   380.800000   411.690000\n",
      "00:80:92:cc:9b:07 count    5132.000000  5132.0  5132.000000  5132.000000\n",
      "                  mean   733493.209860     1.0   411.070499   300.981300\n",
      "                  std    152782.025645     0.0    35.126416     4.223992\n",
      "                  min    373194.000000     1.0   218.820000   242.560000\n",
      "                  25%    611486.750000     1.0   388.825000   301.370000\n",
      "                  50%    751832.000000     1.0   417.200000   301.520000\n",
      "                  75%    860688.250000     1.0   434.347500   301.610000\n",
      "                  max    977701.000000     1.0   521.520000   345.830000\n"
     ]
    }
   ],
   "source": [
    "print b_prob.groupby('mac').describe()"
   ]
  },
  {
   "cell_type": "markdown",
   "metadata": {},
   "source": [
    "###  Mean shifts to cluster"
   ]
  },
  {
   "cell_type": "code",
   "execution_count": 1,
   "metadata": {
    "collapsed": true
   },
   "outputs": [],
   "source": [
    "#from scipy import sparse\n",
    "from sklearn.cluster import MeanShift, estimate_bandwidth\n",
    "from sklearn.datasets.samples_generator import make_blobs"
   ]
  },
  {
   "cell_type": "markdown",
   "metadata": {},
   "source": [
    "### Subset data in __SDE3-03__ and estimate centroids every 30mins "
   ]
  },
  {
   "cell_type": "code",
   "execution_count": 10,
   "metadata": {
    "collapsed": false
   },
   "outputs": [
    {
     "data": {
      "text/html": [
       "<div>\n",
       "<table border=\"1\" class=\"dataframe\">\n",
       "  <thead>\n",
       "    <tr style=\"text-align: right;\">\n",
       "      <th></th>\n",
       "      <th>sgtime</th>\n",
       "      <th>mac</th>\n",
       "      <th>status_info</th>\n",
       "      <th>bldid</th>\n",
       "      <th>xcor</th>\n",
       "      <th>ycor</th>\n",
       "      <th>firstlocatedtime</th>\n",
       "      <th>lastlocatedtime</th>\n",
       "      <th>interval</th>\n",
       "      <th>hrfir</th>\n",
       "      <th>hrlas</th>\n",
       "      <th>out</th>\n",
       "      <th>t_grp</th>\n",
       "    </tr>\n",
       "  </thead>\n",
       "  <tbody>\n",
       "    <tr>\n",
       "      <th>1832156</th>\n",
       "      <td>2016-04-16 00:00:01</td>\n",
       "      <td>f0:b0:52:38:71:78</td>\n",
       "      <td>PROBING</td>\n",
       "      <td>SDE3-03</td>\n",
       "      <td>428.00</td>\n",
       "      <td>683.73</td>\n",
       "      <td>2016-04-15 23:34:21</td>\n",
       "      <td>2016-04-15 23:59:21</td>\n",
       "      <td>1500.0</td>\n",
       "      <td>23</td>\n",
       "      <td>23</td>\n",
       "      <td>1</td>\n",
       "      <td>0</td>\n",
       "    </tr>\n",
       "    <tr>\n",
       "      <th>1832296</th>\n",
       "      <td>2016-04-16 00:15:02</td>\n",
       "      <td>a0:39:f7:76:cf:2c</td>\n",
       "      <td>PROBING</td>\n",
       "      <td>SDE3-03</td>\n",
       "      <td>250.07</td>\n",
       "      <td>868.04</td>\n",
       "      <td>2016-04-15 20:24:19</td>\n",
       "      <td>2016-04-16 00:14:43</td>\n",
       "      <td>13824.0</td>\n",
       "      <td>20</td>\n",
       "      <td>0</td>\n",
       "      <td>1</td>\n",
       "      <td>0</td>\n",
       "    </tr>\n",
       "    <tr>\n",
       "      <th>1832297</th>\n",
       "      <td>2016-04-16 00:15:02</td>\n",
       "      <td>50:cc:f8:e8:2f:52</td>\n",
       "      <td>PROBING</td>\n",
       "      <td>SDE3-03</td>\n",
       "      <td>544.16</td>\n",
       "      <td>655.71</td>\n",
       "      <td>2016-04-16 00:09:53</td>\n",
       "      <td>2016-04-16 00:10:11</td>\n",
       "      <td>18.0</td>\n",
       "      <td>0</td>\n",
       "      <td>0</td>\n",
       "      <td>1</td>\n",
       "      <td>0</td>\n",
       "    </tr>\n",
       "    <tr>\n",
       "      <th>1832298</th>\n",
       "      <td>2016-04-16 00:15:02</td>\n",
       "      <td>f4:f2:6d:17:06:c2</td>\n",
       "      <td>ASSOCIATED</td>\n",
       "      <td>SDE3-03</td>\n",
       "      <td>686.34</td>\n",
       "      <td>882.41</td>\n",
       "      <td>2016-04-15 16:28:36</td>\n",
       "      <td>2016-04-16 00:00:31</td>\n",
       "      <td>27115.0</td>\n",
       "      <td>16</td>\n",
       "      <td>0</td>\n",
       "      <td>1</td>\n",
       "      <td>0</td>\n",
       "    </tr>\n",
       "    <tr>\n",
       "      <th>1832299</th>\n",
       "      <td>2016-04-16 00:15:02</td>\n",
       "      <td>34:23:87:83:33:3d</td>\n",
       "      <td>ASSOCIATED</td>\n",
       "      <td>SDE3-03</td>\n",
       "      <td>1163.62</td>\n",
       "      <td>465.16</td>\n",
       "      <td>2016-04-16 00:11:40</td>\n",
       "      <td>2016-04-16 00:14:35</td>\n",
       "      <td>175.0</td>\n",
       "      <td>0</td>\n",
       "      <td>0</td>\n",
       "      <td>1</td>\n",
       "      <td>0</td>\n",
       "    </tr>\n",
       "    <tr>\n",
       "      <th>1832300</th>\n",
       "      <td>2016-04-16 00:15:02</td>\n",
       "      <td>e0:b5:2d:07:e3:ee</td>\n",
       "      <td>ASSOCIATED</td>\n",
       "      <td>SDE3-03</td>\n",
       "      <td>410.21</td>\n",
       "      <td>1032.29</td>\n",
       "      <td>2016-04-16 00:12:32</td>\n",
       "      <td>2016-04-16 00:12:32</td>\n",
       "      <td>0.0</td>\n",
       "      <td>0</td>\n",
       "      <td>0</td>\n",
       "      <td>1</td>\n",
       "      <td>0</td>\n",
       "    </tr>\n",
       "    <tr>\n",
       "      <th>1832301</th>\n",
       "      <td>2016-04-16 00:15:02</td>\n",
       "      <td>6c:71:d9:08:c9:03</td>\n",
       "      <td>ASSOCIATED</td>\n",
       "      <td>SDE3-03</td>\n",
       "      <td>649.67</td>\n",
       "      <td>380.06</td>\n",
       "      <td>2016-04-15 18:25:20</td>\n",
       "      <td>2016-04-16 00:14:23</td>\n",
       "      <td>20943.0</td>\n",
       "      <td>18</td>\n",
       "      <td>0</td>\n",
       "      <td>1</td>\n",
       "      <td>0</td>\n",
       "    </tr>\n",
       "    <tr>\n",
       "      <th>1832302</th>\n",
       "      <td>2016-04-16 00:15:02</td>\n",
       "      <td>18:af:61:f1:f0:40</td>\n",
       "      <td>ASSOCIATED</td>\n",
       "      <td>SDE3-03</td>\n",
       "      <td>613.41</td>\n",
       "      <td>387.58</td>\n",
       "      <td>2016-04-15 23:53:29</td>\n",
       "      <td>2016-04-16 00:12:32</td>\n",
       "      <td>1143.0</td>\n",
       "      <td>23</td>\n",
       "      <td>0</td>\n",
       "      <td>1</td>\n",
       "      <td>0</td>\n",
       "    </tr>\n",
       "    <tr>\n",
       "      <th>1832303</th>\n",
       "      <td>2016-04-16 00:15:02</td>\n",
       "      <td>f4:f2:6d:17:06:32</td>\n",
       "      <td>ASSOCIATED</td>\n",
       "      <td>SDE3-03</td>\n",
       "      <td>267.43</td>\n",
       "      <td>862.14</td>\n",
       "      <td>2016-04-14 20:00:31</td>\n",
       "      <td>2016-04-15 23:06:43</td>\n",
       "      <td>97572.0</td>\n",
       "      <td>20</td>\n",
       "      <td>23</td>\n",
       "      <td>1</td>\n",
       "      <td>0</td>\n",
       "    </tr>\n",
       "  </tbody>\n",
       "</table>\n",
       "</div>"
      ],
      "text/plain": [
       "                      sgtime                mac status_info    bldid     xcor  \\\n",
       "1832156  2016-04-16 00:00:01  f0:b0:52:38:71:78     PROBING  SDE3-03   428.00   \n",
       "1832296  2016-04-16 00:15:02  a0:39:f7:76:cf:2c     PROBING  SDE3-03   250.07   \n",
       "1832297  2016-04-16 00:15:02  50:cc:f8:e8:2f:52     PROBING  SDE3-03   544.16   \n",
       "1832298  2016-04-16 00:15:02  f4:f2:6d:17:06:c2  ASSOCIATED  SDE3-03   686.34   \n",
       "1832299  2016-04-16 00:15:02  34:23:87:83:33:3d  ASSOCIATED  SDE3-03  1163.62   \n",
       "1832300  2016-04-16 00:15:02  e0:b5:2d:07:e3:ee  ASSOCIATED  SDE3-03   410.21   \n",
       "1832301  2016-04-16 00:15:02  6c:71:d9:08:c9:03  ASSOCIATED  SDE3-03   649.67   \n",
       "1832302  2016-04-16 00:15:02  18:af:61:f1:f0:40  ASSOCIATED  SDE3-03   613.41   \n",
       "1832303  2016-04-16 00:15:02  f4:f2:6d:17:06:32  ASSOCIATED  SDE3-03   267.43   \n",
       "\n",
       "            ycor     firstlocatedtime      lastlocatedtime  interval  hrfir  \\\n",
       "1832156   683.73  2016-04-15 23:34:21  2016-04-15 23:59:21    1500.0     23   \n",
       "1832296   868.04  2016-04-15 20:24:19  2016-04-16 00:14:43   13824.0     20   \n",
       "1832297   655.71  2016-04-16 00:09:53  2016-04-16 00:10:11      18.0      0   \n",
       "1832298   882.41  2016-04-15 16:28:36  2016-04-16 00:00:31   27115.0     16   \n",
       "1832299   465.16  2016-04-16 00:11:40  2016-04-16 00:14:35     175.0      0   \n",
       "1832300  1032.29  2016-04-16 00:12:32  2016-04-16 00:12:32       0.0      0   \n",
       "1832301   380.06  2016-04-15 18:25:20  2016-04-16 00:14:23   20943.0     18   \n",
       "1832302   387.58  2016-04-15 23:53:29  2016-04-16 00:12:32    1143.0     23   \n",
       "1832303   862.14  2016-04-14 20:00:31  2016-04-15 23:06:43   97572.0     20   \n",
       "\n",
       "         hrlas  out  t_grp  \n",
       "1832156     23    1      0  \n",
       "1832296      0    1      0  \n",
       "1832297      0    1      0  \n",
       "1832298      0    1      0  \n",
       "1832299      0    1      0  \n",
       "1832300      0    1      0  \n",
       "1832301      0    1      0  \n",
       "1832302      0    1      0  \n",
       "1832303     23    1      0  "
      ]
     },
     "execution_count": 10,
     "metadata": {},
     "output_type": "execute_result"
    }
   ],
   "source": [
    "shifdat = new.loc[(new.bldid==\"SDE3-03\")& (~(new[\"mac\"].isin(station1))),] # filter out the stationed \n",
    "shifdat = shifdat.sort_values(by=['t_grp'])\n",
    "shifdat[0:9]"
   ]
  },
  {
   "cell_type": "code",
   "execution_count": 11,
   "metadata": {
    "collapsed": false
   },
   "outputs": [],
   "source": [
    "def grp_cluster(s):\n",
    "    for i in list(s.t_grp.unique()):\n",
    "        test1 = s[s[\"t_grp\"]==i]\n",
    "        shif = zip(test1['xcor'] ,test1['ycor'] )\n",
    "        shif1 = np.array(shif)\n",
    "        #print len(shif1)\n",
    "        if (int(len(shif1)/10)>=10): \n",
    "            samp = int(len(shif1)/10)\n",
    "        else: \n",
    "            samp = len(shif1)\n",
    "        bw1 = estimate_bandwidth(shif1, quantile=0.2, n_samples=samp)\n",
    "        ms1 = MeanShift(bandwidth=bw1, bin_seeding=True)\n",
    "        ms1.fit(shif1)\n",
    "        cluster_ctrs = ms1.cluster_centers_\n",
    "        mat = pd.DataFrame(dict(t=i,x=cluster_ctrs[:,0],y=cluster_ctrs[:,1]))\n",
    "        #print i\n",
    "        if (i == 0):\n",
    "            k = mat\n",
    "        else: \n",
    "            k = k.append(mat, ignore_index=True)## need to modify the m\n",
    "    return k\n",
    "\n",
    "#%%time\n",
    "#tes1 = shifdat[shifdat['t_grp'].isin([0,1,3,4,5])]\n",
    "#tes2 = grp_cluster(tes1)"
   ]
  },
  {
   "cell_type": "code",
   "execution_count": 45,
   "metadata": {
    "collapsed": false
   },
   "outputs": [
    {
     "name": "stdout",
     "output_type": "stream",
     "text": [
      "CPU times: user 13.5 s, sys: 79.9 ms, total: 13.6 s\n",
      "Wall time: 13.7 s\n"
     ]
    }
   ],
   "source": [
    "%%time\n",
    "SDE3_03 = grp_cluster(shifdat)"
   ]
  },
  {
   "cell_type": "code",
   "execution_count": 48,
   "metadata": {
    "collapsed": false
   },
   "outputs": [
    {
     "name": "stdout",
     "output_type": "stream",
     "text": [
      "   t            x           y\n",
      "0  0  1038.303696  308.840000\n",
      "1  0   650.111905  368.475476\n",
      "2  0  1176.867568  457.475676\n",
      "3  0   678.317826  930.367391\n",
      "4  0   415.977778  330.780556\n",
      "        t            x           y\n",
      "2851  335   880.255789  599.527895\n",
      "2852  335   714.520625  781.461875\n",
      "2853  335   448.532000  982.502000\n",
      "2854  335   508.641667  606.581667\n",
      "2855  335  1497.445000  481.750000\n"
     ]
    }
   ],
   "source": [
    "print SDE3_03.head()\n",
    "print SDE3_03.tail()"
   ]
  },
  {
   "cell_type": "markdown",
   "metadata": {},
   "source": [
    "### combining the 30min centroids in plot"
   ]
  },
  {
   "cell_type": "code",
   "execution_count": 64,
   "metadata": {
    "collapsed": false
   },
   "outputs": [
    {
     "name": "stdout",
     "output_type": "stream",
     "text": [
      "(2856, 2) ---dims--- 2\n",
      "(1921, 1345)\n"
     ]
    },
    {
     "data": {
      "image/png": "[encoded data removed]",
      "text/plain": [
       "<matplotlib.figure.Figure at 0x11db31990>"
      ]
     },
     "metadata": {},
     "output_type": "display_data"
    }
   ],
   "source": [
    "%matplotlib inline\n",
    "#for plotting\n",
    "import scipy.ndimage as ndi\n",
    "import matplotlib.pyplot as plt\n",
    "data = np.array( zip(SDE3_03['x'],SDE3_03['y']) )    ## create random dataset\n",
    "print data.shape,\"---dims--- /n\",data.ndim\n",
    "img = np.zeros((1921,1345))                ## blank image\n",
    "for i in xrange(data.shape[0]):          ## draw pixels\n",
    "    img[int(data[i,0]), int(data[i,1])] += 1\n",
    "img = ndi.gaussian_filter(img, (20,20))\n",
    "print img.shape\n",
    "fig,ax = plt.subplots()\n",
    "plt.title('SDE3_03 distribution of %d clusters'% data.shape[0])\n",
    "ax.imshow(img)\n",
    "plt.show()"
   ]
  },
  {
   "cell_type": "markdown",
   "metadata": {},
   "source": [
    "### Test on t_grp ==0 and see the clusters"
   ]
  },
  {
   "cell_type": "code",
   "execution_count": 19,
   "metadata": {
    "collapsed": false
   },
   "outputs": [
    {
     "name": "stdout",
     "output_type": "stream",
     "text": [
      "683.73\n"
     ]
    }
   ],
   "source": [
    "test = zip(shifdat[shifdat['t_grp']==0]['xcor'],shifdat[shifdat['t_grp']==0][\"ycor\"])\n",
    "test = np.array(test)\n",
    "print test[0,1]"
   ]
  },
  {
   "cell_type": "code",
   "execution_count": 13,
   "metadata": {
    "collapsed": false
   },
   "outputs": [],
   "source": [
    "bandwidth = estimate_bandwidth(test, quantile=0.2, n_samples=20)\n",
    "\n",
    "ms = MeanShift(bandwidth=bandwidth, bin_seeding=True)\n",
    "ms.fit(test)\n",
    "labels = ms.labels_\n",
    "cluster_centers = ms.cluster_centers_\n",
    "\n",
    "labels_unique = np.unique(labels)\n",
    "n_clusters_ = len(labels_unique)"
   ]
  },
  {
   "cell_type": "code",
   "execution_count": 14,
   "metadata": {
    "collapsed": false
   },
   "outputs": [
    {
     "name": "stdout",
     "output_type": "stream",
     "text": [
      "('centers', array([[ 1038.30369565,   308.84      ],\n",
      "       [  650.11190476,   368.47547619],\n",
      "       [ 1176.86756757,   457.47567568],\n",
      "       [  678.31782609,   930.3673913 ],\n",
      "       [  415.97777778,   330.78055556],\n",
      "       [  258.70916667,   865.10416667],\n",
      "       [  623.88666667,   651.59333333],\n",
      "       [  810.03833333,   671.29833333],\n",
      "       [  936.074     ,   420.538     ],\n",
      "       [  409.38      ,  1032.32333333],\n",
      "       [  507.94      ,   940.33      ]]))\n",
      "number of estimated clusters : 11\n"
     ]
    }
   ],
   "source": [
    "print(\"centers\", cluster_centers)\n",
    "print(\"number of estimated clusters : %d\" % n_clusters_)"
   ]
  },
  {
   "cell_type": "code",
   "execution_count": 21,
   "metadata": {
    "collapsed": false
   },
   "outputs": [
    {
     "data": {
      "image/png": "[encoded data removed]",
      "text/plain": [
       "<matplotlib.figure.Figure at 0x1285f0a90>"
      ]
     },
     "metadata": {},
     "output_type": "display_data"
    }
   ],
   "source": [
    "%matplotlib inline\n",
    "# Plot result\n",
    "import matplotlib.pyplot as plt\n",
    "from itertools import cycle\n",
    "\n",
    "plt.figure(1)\n",
    "plt.clf()\n",
    "\n",
    "colors = cycle('bgrcmykbgrcmykbgrcmykbgrcmyk')\n",
    "plt.gca().invert_yaxis()\n",
    "for k, col in zip(range(n_clusters_), colors):\n",
    "    my_members = labels == k\n",
    "    cluster_center = cluster_centers[k]\n",
    "    plt.plot(test[my_members, 0], test[my_members, 1], col + '.') #plot each points in one center (x,y)\n",
    "    plt.plot(cluster_center[0], cluster_center[1], 'o', markerfacecolor=col,\n",
    "             markeredgecolor='k', markersize=14)\n",
    "plt.title('Estimated number of clusters: %d' % n_clusters_)\n",
    "plt.show()"
   ]
  },
  {
   "cell_type": "markdown",
   "metadata": {},
   "source": [
    "### Device number prediction"
   ]
  },
  {
   "cell_type": "markdown",
   "metadata": {},
   "source": [
    "#### Featuring Steps\n",
    "1. select lost mac id and fill the interval col with np.NaN\n",
    "2. group and count mac by every 20 mins(make t_grp) and bldid\n",
    "    * unique mac Address len\n",
    "    * median of interval\n",
    "    * dummy status sum\n",
    "\n",
    "\n",
    "** This part is merged into _treat train.py_**\n",
    "   "
   ]
  },
  {
   "cell_type": "code",
   "execution_count": 3,
   "metadata": {
    "collapsed": false
   },
   "outputs": [
    {
     "name": "stdout",
     "output_type": "stream",
     "text": [
      "CPU times: user 12.6 s, sys: 1.76 s, total: 14.3 s\n",
      "Wall time: 15.2 s\n"
     ]
    }
   ],
   "source": [
    "%%time\n",
    "#connect to the DB and select all \n",
    "All =  pd.read_sql_query('SELECT mac, bldid, sgtime, firstlocatedtime,interval,statustype FROM wifi',disk_engine)\n",
    "lost = pd.read_sql_query('SELECT mac FROM lost',disk_engine).mac.unique()"
   ]
  },
  {
   "cell_type": "code",
   "execution_count": 137,
   "metadata": {
    "collapsed": false
   },
   "outputs": [],
   "source": [
    "All[\"sgtime\"] = pd.to_datetime(All['sgtime'])\n",
    "start = All.iloc[0,2]"
   ]
  },
  {
   "cell_type": "code",
   "execution_count": 100,
   "metadata": {
    "collapsed": true
   },
   "outputs": [],
   "source": [
    "t_grp = (All[\"sgtime\"]-start).map(timedelta.total_seconds)/1200.\n",
    "All[\"t_grp\"] = t_grp.astype(int)"
   ]
  },
  {
   "cell_type": "code",
   "execution_count": 150,
   "metadata": {
    "collapsed": false
   },
   "outputs": [
    {
     "name": "stdout",
     "output_type": "stream",
     "text": [
      "CPU times: user 8min 37s, sys: 8.26 s, total: 8min 45s\n",
      "Wall time: 8min 51s\n"
     ]
    }
   ],
   "source": [
    "%%time\n",
    "interv = []\n",
    "t_grp = []\n",
    "for i,row in enumerate(All.values):\n",
    "    #if i <=5:\n",
    "    t = int(timedelta.total_seconds(All.sgtime[i]-start)/1200)\n",
    "        #print t\n",
    "    #else: break\n",
    "    if All.mac[i] in lost:\n",
    "        temp = np.nan\n",
    "    else:\n",
    "        temp = All.interval[i]\n",
    "    interv.append(temp)\n",
    "    t_grp.append(t)"
   ]
  },
  {
   "cell_type": "code",
   "execution_count": 153,
   "metadata": {
    "collapsed": false
   },
   "outputs": [
    {
     "name": "stdout",
     "output_type": "stream",
     "text": [
      "2650553 \n",
      "2650553\n"
     ]
    }
   ],
   "source": [
    "print len(t_grp),\"\\n\",len(interv)"
   ]
  },
  {
   "cell_type": "markdown",
   "metadata": {},
   "source": [
    "### make dummy for status"
   ]
  },
  {
   "cell_type": "code",
   "execution_count": 154,
   "metadata": {
    "collapsed": false
   },
   "outputs": [
    {
     "name": "stdout",
     "output_type": "stream",
     "text": [
      "UNKNOWN       1584342\n",
      "PROBING       1066168\n",
      "ASSOCIATED         43\n",
      "Name: statustype, dtype: int64\n"
     ]
    }
   ],
   "source": [
    "print All[\"statustype\"].value_counts()"
   ]
  },
  {
   "cell_type": "code",
   "execution_count": 183,
   "metadata": {
    "collapsed": false
   },
   "outputs": [
    {
     "name": "stdout",
     "output_type": "stream",
     "text": [
      "(5, 11)\n"
     ]
    }
   ],
   "source": [
    "print All.shape"
   ]
  },
  {
   "cell_type": "code",
   "execution_count": 158,
   "metadata": {
    "collapsed": false
   },
   "outputs": [
    {
     "name": "stdout",
     "output_type": "stream",
     "text": [
      "                 mac    bldid              sgtime     firstlocatedtime  \\\n",
      "0  e8:50:8b:94:67:3b  SDE1-02 2016-04-16 00:00:01  2016-04-15 23:56:54   \n",
      "1  94:b1:0a:de:9b:ca  SDE1-02 2016-04-16 02:40:01  2016-04-16 02:38:26   \n",
      "2  94:b1:0a:de:9b:ca  SDE1-02 2016-04-16 02:45:01  2016-04-16 02:38:26   \n",
      "3  84:55:a5:70:d1:eb  SDE1-02 2016-04-16 07:50:01  2016-04-16 07:48:14   \n",
      "4  84:55:a5:70:d1:eb  SDE1-02 2016-04-16 07:55:01  2016-04-16 07:48:14   \n",
      "\n",
      "   interval statustype  interv  t_grp  ASSOCIATED  PROBING  UNKNOWN  \n",
      "0        20    PROBING    20.0    503         0.0      1.0      0.0  \n",
      "1         0    PROBING     0.0    503         0.0      1.0      0.0  \n",
      "2         0    PROBING     0.0    503         0.0      1.0      0.0  \n",
      "3         0    PROBING     0.0    503         0.0      1.0      0.0  \n",
      "4         0    PROBING     0.0    503         0.0      1.0      0.0  \n"
     ]
    }
   ],
   "source": [
    "All[\"interv\"] = interv\n",
    "All[\"t_grp\"] = t\n",
    "sta = pd.get_dummies(All['statustype'])\n",
    "All = pd.concat([All,sta],axis=1)"
   ]
  },
  {
   "cell_type": "code",
   "execution_count": 181,
   "metadata": {
    "collapsed": false
   },
   "outputs": [
    {
     "data": {
      "text/plain": [
       "(5, 11)"
      ]
     },
     "execution_count": 181,
     "metadata": {},
     "output_type": "execute_result"
    }
   ],
   "source": [
    "All.shape"
   ]
  },
  {
   "cell_type": "markdown",
   "metadata": {},
   "source": [
    "### Aggregation"
   ]
  },
  {
   "cell_type": "code",
   "execution_count": 180,
   "metadata": {
    "collapsed": false
   },
   "outputs": [
    {
     "data": {
      "text/plain": [
       "(5, 5)"
      ]
     },
     "execution_count": 180,
     "metadata": {},
     "output_type": "execute_result"
    }
   ],
   "source": [
    "aggre = {\"mac\": lambda x: len(x.unique()),\"interv\":'median' ,\"PROBING\": 'sum',\"ASSOCIATED\": 'sum',\"UNKNOWN\": 'sum' }\n",
    "All_ans = All.groupby([\"bldid\",\"sgtime\"]).agg(aggre)\n",
    "All_ans.shape"
   ]
  },
  {
   "cell_type": "code",
   "execution_count": 162,
   "metadata": {
    "collapsed": true
   },
   "outputs": [],
   "source": [
    "All_ans.to_csv('all_agg.csv',index= True)"
   ]
  },
  {
   "cell_type": "code",
   "execution_count": 4,
   "metadata": {
    "collapsed": true
   },
   "outputs": [],
   "source": [
    "pre_tr = pd.read_csv('/Users/AAA218/Desktop/ami_sg/all_agg.csv',header = 0, sep=\",\",infer_datetime_format=True,low_memory=False)"
   ]
  },
  {
   "cell_type": "code",
   "execution_count": 5,
   "metadata": {
    "collapsed": false
   },
   "outputs": [
    {
     "data": {
      "text/plain": [
       "(54348, 7)"
      ]
     },
     "execution_count": 5,
     "metadata": {},
     "output_type": "execute_result"
    }
   ],
   "source": [
    "pre_tr.shape"
   ]
  },
  {
   "cell_type": "code",
   "execution_count": 6,
   "metadata": {
    "collapsed": false
   },
   "outputs": [
    {
     "data": {
      "text/plain": [
       "Index([u'bldid', u'sgtime', u'PROBING', u'UNKNOWN', u'mac', u'ASSOCIATED',\n",
       "       u'interv'],\n",
       "      dtype='object')"
      ]
     },
     "execution_count": 6,
     "metadata": {},
     "output_type": "execute_result"
    }
   ],
   "source": [
    "pre_tr.columns"
   ]
  },
  {
   "cell_type": "code",
   "execution_count": 7,
   "metadata": {
    "collapsed": false
   },
   "outputs": [
    {
     "name": "stdout",
     "output_type": "stream",
     "text": [
      "0.0    54305\n",
      "1.0       43\n",
      "Name: ASSOCIATED, dtype: int64\n"
     ]
    }
   ],
   "source": [
    "print pre_tr['ASSOCIATED'].value_counts()"
   ]
  },
  {
   "cell_type": "code",
   "execution_count": 10,
   "metadata": {
    "collapsed": false
   },
   "outputs": [
    {
     "name": "stdout",
     "output_type": "stream",
     "text": [
      "1584342.0\n"
     ]
    }
   ],
   "source": [
    "print pre_tr['UNKNOWN'].sum()"
   ]
  },
  {
   "cell_type": "code",
   "execution_count": 190,
   "metadata": {
    "collapsed": false
   },
   "outputs": [
    {
     "data": {
      "text/html": [
       "<div>\n",
       "<table border=\"1\" class=\"dataframe\">\n",
       "  <thead>\n",
       "    <tr style=\"text-align: right;\">\n",
       "      <th></th>\n",
       "      <th>bldid</th>\n",
       "      <th>PROBING</th>\n",
       "      <th>UNKNOWN</th>\n",
       "      <th>mac</th>\n",
       "      <th>ASSOCIATED</th>\n",
       "      <th>interv</th>\n",
       "      <th>hr</th>\n",
       "      <th>mins</th>\n",
       "      <th>wks</th>\n",
       "    </tr>\n",
       "  </thead>\n",
       "  <tbody>\n",
       "    <tr>\n",
       "      <th>0</th>\n",
       "      <td>SDE1-02</td>\n",
       "      <td>1.0</td>\n",
       "      <td>0.0</td>\n",
       "      <td>1</td>\n",
       "      <td>0.0</td>\n",
       "      <td>20.0</td>\n",
       "      <td>0</td>\n",
       "      <td>0</td>\n",
       "      <td>6</td>\n",
       "    </tr>\n",
       "    <tr>\n",
       "      <th>1</th>\n",
       "      <td>SDE1-02</td>\n",
       "      <td>1.0</td>\n",
       "      <td>0.0</td>\n",
       "      <td>1</td>\n",
       "      <td>0.0</td>\n",
       "      <td>0.0</td>\n",
       "      <td>2</td>\n",
       "      <td>40</td>\n",
       "      <td>6</td>\n",
       "    </tr>\n",
       "    <tr>\n",
       "      <th>2</th>\n",
       "      <td>SDE1-02</td>\n",
       "      <td>1.0</td>\n",
       "      <td>0.0</td>\n",
       "      <td>1</td>\n",
       "      <td>0.0</td>\n",
       "      <td>0.0</td>\n",
       "      <td>2</td>\n",
       "      <td>45</td>\n",
       "      <td>6</td>\n",
       "    </tr>\n",
       "    <tr>\n",
       "      <th>3</th>\n",
       "      <td>SDE1-02</td>\n",
       "      <td>1.0</td>\n",
       "      <td>0.0</td>\n",
       "      <td>1</td>\n",
       "      <td>0.0</td>\n",
       "      <td>0.0</td>\n",
       "      <td>7</td>\n",
       "      <td>50</td>\n",
       "      <td>6</td>\n",
       "    </tr>\n",
       "    <tr>\n",
       "      <th>4</th>\n",
       "      <td>SDE1-02</td>\n",
       "      <td>1.0</td>\n",
       "      <td>0.0</td>\n",
       "      <td>1</td>\n",
       "      <td>0.0</td>\n",
       "      <td>0.0</td>\n",
       "      <td>7</td>\n",
       "      <td>55</td>\n",
       "      <td>6</td>\n",
       "    </tr>\n",
       "  </tbody>\n",
       "</table>\n",
       "</div>"
      ],
      "text/plain": [
       "     bldid  PROBING  UNKNOWN  mac  ASSOCIATED  interv  hr  mins wks\n",
       "0  SDE1-02      1.0      0.0    1         0.0    20.0   0     0   6\n",
       "1  SDE1-02      1.0      0.0    1         0.0     0.0   2    40   6\n",
       "2  SDE1-02      1.0      0.0    1         0.0     0.0   2    45   6\n",
       "3  SDE1-02      1.0      0.0    1         0.0     0.0   7    50   6\n",
       "4  SDE1-02      1.0      0.0    1         0.0     0.0   7    55   6"
      ]
     },
     "execution_count": 190,
     "metadata": {},
     "output_type": "execute_result"
    }
   ],
   "source": [
    "hr = []\n",
    "mins = []\n",
    "weeks = []\n",
    "for i, row in enumerate(pre_tr.values):\n",
    "    #if i >5 : break\n",
    "    tt = datetime.strptime(pre_tr.sgtime[i], \"%Y-%m-%d %H:%M:%S\")\n",
    "    h = tt.hour\n",
    "    m = tt.minute\n",
    "    wk = tt.strftime(\"%w\") #0-6\n",
    "    #print \"hour:%s, minute: %s, day: %s \" %(h ,m ,wk)\n",
    "    hr.append(h)\n",
    "    mins.append(m)\n",
    "    weeks.append(wk)\n",
    "com = DataFrame({\"hr\":hr,\"mins\":mins,\"wks\":weeks})\n",
    "tt = pd.concat([pre_tr,com],axis=1)\n",
    "tt.drop(\"sgtime\",axis = 1, inplace= True)\n",
    "tt"
   ]
  },
  {
   "cell_type": "code",
   "execution_count": 131,
   "metadata": {
    "collapsed": false
   },
   "outputs": [
    {
     "name": "stdout",
     "output_type": "stream",
     "text": [
      "                 mac    bldid              sgtime     firstlocatedtime  \\\n",
      "0  e8:50:8b:94:67:3b  SDE1-02 2016-04-16 00:00:01  2016-04-15 23:56:54   \n",
      "1  94:b1:0a:de:9b:ca  SDE1-02 2016-04-16 02:40:01  2016-04-16 02:38:26   \n",
      "2  94:b1:0a:de:9b:ca  SDE1-02 2016-04-16 02:45:01  2016-04-16 02:38:26   \n",
      "3  84:55:a5:70:d1:eb  SDE1-02 2016-04-16 07:50:01  2016-04-16 07:48:14   \n",
      "4  84:55:a5:70:d1:eb  SDE1-02 2016-04-16 07:55:01  2016-04-16 07:48:14   \n",
      "\n",
      "   interval statustype  t_grp  t_test  interv  PROBING  UNKNOWN  \n",
      "0        20    PROBING      0       0    20.0      1.0      0.0  \n",
      "1         0    PROBING      8       8     0.0      1.0      0.0  \n",
      "2         0    PROBING      8       8     0.0      1.0      0.0  \n",
      "3         0    PROBING     23      23     0.0      1.0      0.0  \n",
      "4         0    PROBING     23      23     0.0      1.0      0.0  \n"
     ]
    }
   ],
   "source": [
    "tes_sta = pd.get_dummies(test['statustype'])\n",
    "test = pd.concat([test,tes_sta],axis=1)\n",
    "print test.head()"
   ]
  },
  {
   "cell_type": "code",
   "execution_count": 133,
   "metadata": {
    "collapsed": false
   },
   "outputs": [
    {
     "data": {
      "text/html": [
       "<div>\n",
       "<table border=\"1\" class=\"dataframe\">\n",
       "  <thead>\n",
       "    <tr style=\"text-align: right;\">\n",
       "      <th></th>\n",
       "      <th></th>\n",
       "      <th>PROBING</th>\n",
       "      <th>UNKNOWN</th>\n",
       "      <th>mac</th>\n",
       "      <th>interv</th>\n",
       "    </tr>\n",
       "    <tr>\n",
       "      <th>bldid</th>\n",
       "      <th>sgtime</th>\n",
       "      <th></th>\n",
       "      <th></th>\n",
       "      <th></th>\n",
       "      <th></th>\n",
       "    </tr>\n",
       "  </thead>\n",
       "  <tbody>\n",
       "    <tr>\n",
       "      <th rowspan=\"5\" valign=\"top\">SDE1-02</th>\n",
       "      <th>2016-04-16 00:00:01</th>\n",
       "      <td>1.0</td>\n",
       "      <td>0.0</td>\n",
       "      <td>1</td>\n",
       "      <td>20.0</td>\n",
       "    </tr>\n",
       "    <tr>\n",
       "      <th>2016-04-16 02:40:01</th>\n",
       "      <td>1.0</td>\n",
       "      <td>0.0</td>\n",
       "      <td>1</td>\n",
       "      <td>0.0</td>\n",
       "    </tr>\n",
       "    <tr>\n",
       "      <th>2016-04-16 02:45:01</th>\n",
       "      <td>1.0</td>\n",
       "      <td>0.0</td>\n",
       "      <td>1</td>\n",
       "      <td>0.0</td>\n",
       "    </tr>\n",
       "    <tr>\n",
       "      <th>2016-04-16 07:50:01</th>\n",
       "      <td>1.0</td>\n",
       "      <td>0.0</td>\n",
       "      <td>1</td>\n",
       "      <td>0.0</td>\n",
       "    </tr>\n",
       "    <tr>\n",
       "      <th>2016-04-16 07:55:01</th>\n",
       "      <td>1.0</td>\n",
       "      <td>0.0</td>\n",
       "      <td>1</td>\n",
       "      <td>0.0</td>\n",
       "    </tr>\n",
       "  </tbody>\n",
       "</table>\n",
       "</div>"
      ],
      "text/plain": [
       "                             PROBING  UNKNOWN  mac  interv\n",
       "bldid   sgtime                                            \n",
       "SDE1-02 2016-04-16 00:00:01      1.0      0.0    1    20.0\n",
       "        2016-04-16 02:40:01      1.0      0.0    1     0.0\n",
       "        2016-04-16 02:45:01      1.0      0.0    1     0.0\n",
       "        2016-04-16 07:50:01      1.0      0.0    1     0.0\n",
       "        2016-04-16 07:55:01      1.0      0.0    1     0.0"
      ]
     },
     "execution_count": 133,
     "metadata": {},
     "output_type": "execute_result"
    }
   ],
   "source": [
    "#test = All[0:100].copy()\n",
    "aggre = {\"mac\": lambda x: len(x.unique()),\"interv\":'median' ,\"PROBING\": 'sum',\"UNKNOWN\": 'sum' }\n",
    "tes_ans = test.groupby([\"bldid\",\"sgtime\"]).agg(aggre)\n",
    "tes_ans.head()\n",
    "#test.statustype.describe()"
   ]
  },
  {
   "cell_type": "code",
   "execution_count": null,
   "metadata": {
    "collapsed": true
   },
   "outputs": [],
   "source": [
    "def estimateCovariance(df):\n",
    " \"\"\"Compute the covariance matrix for a given dataframe.\n",
    "\n",
    "    Note:\n",
    "        The multi-dimensional covariance array should be calculated using outer products.  Don't\n",
    "        forget to normalize the data by first subtracting the mean.\n",
    "\n",
    "    Args:\n",
    "        df:  A Spark dataframe with a column named 'features', which (column) consists of DenseVectors.\n",
    "\n",
    "    Returns:\n",
    "        np.ndarray: A multi-dimensional array where the number of rows and columns both equal the\n",
    "            length of the arrays in the input dataframe.\n",
    " \"\"\"\n",
    "    m = df.select(df['features']).map(lambda x: x[0]).mean()\n",
    "    dfZeroMean = df.select(df['features']).map(lambda x:   x[0]).map(lambda x: x-m)  # subtract the mean\n",
    "\n",
    "    return dfZeroMean.map(lambda x: np.outer(x,x)).sum()/df.count()\n",
    "from numpy.linalg import eigh"
   ]
  },
  {
   "cell_type": "code",
   "execution_count": null,
   "metadata": {
    "collapsed": true
   },
   "outputs": [],
   "source": [
    "def pca(df, k=2):\n",
    "    \"\"\"Computes the top `k` principal components, corresponding scores, and all eigenvalues.\n",
    "\n",
    "    Note:\n",
    "        All eigenvalues should be returned in sorted order (largest to smallest). `eigh` returns\n",
    "        each eigenvectors as a column.  This function should also return eigenvectors as columns.\n",
    "\n",
    "    Args:\n",
    "        df: A Spark dataframe with a 'features' column, which (column) consists of DenseVectors.\n",
    "        k (int): The number of principal components to return.\n",
    "\n",
    "    Returns:\n",
    "        tuple of (np.ndarray, RDD of np.ndarray, np.ndarray): A tuple of (eigenvectors, `RDD` of\n",
    "        scores, eigenvalues).  Eigenvectors is a multi-dimensional array where the number of\n",
    "        rows equals the length of the arrays in the input `RDD` and the number of columns equals\n",
    "        `k`.  The `RDD` of scores has the same number of rows as `data` and consists of arrays\n",
    "        of length `k`.  Eigenvalues is an array of length d (the number of features).\n",
    "     \"\"\"\n",
    "    cov = estimateCovariance(df)\n",
    "    col = cov.shape[1]\n",
    "    eigVals, eigVecs = eigh(cov)\n",
    "    inds = np.argsort(eigVals)\n",
    "    eigVecs = eigVecs.T[inds[-1:-(col+1):-1]]  \n",
    "    components = eigVecs[0:k]\n",
    "    eigVals = eigVals[inds[-1:-(col+1):-1]]  # sort eigenvals\n",
    "    score = df.select(df['features']).map(lambda x: x[0]).map(lambda x: np.dot(x, components.T) )\n",
    "    # Return the `k` principal components, `k` scores, and all eigenvalues\n",
    "\n",
    "    return components.T, score, eigVals"
   ]
  },
  {
   "cell_type": "code",
   "execution_count": null,
   "metadata": {
    "collapsed": true
   },
   "outputs": [],
   "source": [
    " def varianceExplained(df, k=1):\n",
    "     \"\"\"\n",
    "     Calculate the fraction of variance explained by the top `k` eigenvectors.\n",
    "     Args:\n",
    "         df: A Spark dataframe with a 'features' column, which (column) consists of DenseVectors.\n",
    "         k: The number of principal components to consider.\n",
    "\n",
    "     Returns:\n",
    "         float: A number between 0 and 1 representing the percentage of variance explained\n",
    "             by the top `k` eigenvectors.\n",
    "     \"\"\"\n",
    "     components, scores, eigenvalues = pca(df, k)  \n",
    "     return sum(eigenvalues[0:k])/sum(eigenvalues)"
   ]
  },
  {
   "cell_type": "markdown",
   "metadata": {},
   "source": [
    "### plot for spatial snapshot"
   ]
  },
  {
   "cell_type": "code",
   "execution_count": 64,
   "metadata": {
    "collapsed": false
   },
   "outputs": [
    {
     "name": "stdout",
     "output_type": "stream",
     "text": [
      "(2856, 2) ---dims--- 2\n",
      "(1921, 1345)\n"
     ]
    },
    {
     "data": {
      "image/png": "[encoded data removed]",
      "text/plain": [
       "<matplotlib.figure.Figure at 0x11db31990>"
      ]
     },
     "metadata": {},
     "output_type": "display_data"
    }
   ],
   "source": [
    "%matplotlib inline\n",
    "#for plotting\n",
    "import scipy.ndimage as ndi\n",
    "import matplotlib.pyplot as plt\n",
    "data = np.array( zip(SDE3_03['x'],SDE3_03['y']) )    ## create random dataset\n",
    "print data.shape,\"---dims---\",data.ndim\n",
    "img = np.zeros((1921,1345))                ## blank image\n",
    "for i in xrange(data.shape[0]):          ## draw pixels\n",
    "    img[int(data[i,0]), int(data[i,1])] += 1\n",
    "img = ndi.gaussian_filter(img, (20,20))\n",
    "print img.shape\n",
    "fig,ax = plt.subplots()\n",
    "plt.title('SDE3_03 distribution of %d clusters'% data.shape[0])\n",
    "ax.imshow(img)\n",
    "plt.show()"
   ]
  }
 ],
 "metadata": {
  "kernelspec": {
   "display_name": "Python 2",
   "language": "python",
   "name": "python2"
  },
  "language_info": {
   "codemirror_mode": {
    "name": "ipython",
    "version": 2
   },
   "file_extension": ".py",
   "mimetype": "text/x-python",
   "name": "python",
   "nbconvert_exporter": "python",
   "pygments_lexer": "ipython2",
   "version": "2.7.12"
  }
 },
 "nbformat": 4,
 "nbformat_minor": 0
}
