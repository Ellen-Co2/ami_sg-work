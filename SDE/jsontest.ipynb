{
 "cells": [
  {
   "cell_type": "raw",
   "metadata": {
    "collapsed": false
   },
   "source": [
    "raw =\"\"\"{ \"id\":{  \"$oid\":\"57126182b5cc937ed249b04c\"},\n",
    "    \"created_at\":{\"$date\":\"2016-04-16T16:00:02.000Z\"},\n",
    "    \"Locations\":{ \n",
    "        \"totalPages\":1,\n",
    "        \"currentPage\":1,\n",
    "        \"pageSize\":1465,\n",
    "        \"entries\":[ \n",
    "            { \n",
    "                \"macAddress\":\"44:00:10:21:ca:54\",\n",
    "                \"currentlyTracked\":true,\n",
    "                \"confidenceFactor\":168.0,\n",
    "                \"ipAddress\":[ \n",
    "                    \"172.23.120.243\"\n",
    "                ],\n",
    "                \"userName\":\"A0130594\",\n",
    "                \"ssId\":\"NUS\",\n",
    "                \"band\":\"UNKNOWN\",\n",
    "                \"apMacAddress\":\"00:27:0d:8b:82:40\",\n",
    "                \"isGuestUser\":false,\n",
    "                \"dot11Status\":\"ASSOCIATED\",\n",
    "                \"MapInfo\":{ \n",
    "                    \"mapHierarchyString\":\"KR-AKIENG>AKIENG-SDE3>AKIENG-SDE3-02\",\n",
    "                    \"floorRefId\":-8537686473757949807,\n",
    "                    \"Dimension\":{ \n",
    "                        \"length\":2018.2332,\n",
    "                        \"width\":2882.037,\n",
    "                        \"height\":32.291733,\n",
    "                        \"offsetX\":0.0,\n",
    "                        \"offsetY\":0.0,\n",
    "                        \"unit\":\"FEET\"\n",
    "                    },\n",
    "                    \"Image\":{ \n",
    "                        \"imageName\":\"domain_0_1283047846112.jpg\"\n",
    "                    }\n",
    "                },\n",
    "                \"MapCoordinate\":{ \n",
    "                    \"x\":1667.04,\n",
    "                    \"y\":855.87,\n",
    "                    \"unit\":\"FEET\"\n",
    "                },\n",
    "                \"Statistics\":{ \n",
    "                    \"currentServerTime\":\"2016-04-13T14:49:53.862+0800\",\n",
    "                    \"firstLocatedTime\":\"2016-04-13T12:59:45.747+0800\",\n",
    "                    \"lastLocatedTime\":\"2016-04-13T14:47:51.765+0800\"\n",
    "                },\n",
    "                \"GeoCoordinate\":{ \n",
    "                    \"latitude\":1.2978515699,\n",
    "                    \"longitude\":103.7706791507,\n",
    "                    \"unit\":\"DEGREES\"\n",
    "                }\n",
    "            },\n",
    "            {\n",
    "            \"macAddress\":\"20:16:d8:ca:f3:fe\",\n",
    "            \"currentlyTracked\":true,\n",
    "            \"confidenceFactor\":296.0,\n",
    "            \"band\":\"UNKNOWN\",\"isGuestUser\":false,\"dot11Status\":\"PROBING\",\n",
    "            \"MapInfo\":\n",
    "                {\n",
    "            \"mapHierarchyString\":\"KR-AKIENG\\u003eAKIENG-SDE2\\u003eAKIENG-SDE2-03\",\n",
    "            \"floorRefId\":{\"$numberLong\":\"-8537686473757949811\"},\n",
    "            \"Dimension\":{\"length\":673.7935,\"width\":951.3015,\"height\":32.291733,\"offsetX\":0.0,\"offsetY\":0.0,\"unit\":\"FEET\"},\n",
    "            \"Image\":{\"imageName\":\"domain_0_1282043594646.jpg\"}\n",
    "                },\n",
    "            \"MapCoordinate\":{\"x\":628.53,\"y\":307.71,\"unit\":\"FEET\"},\n",
    "            \"Statistics\":{\n",
    "                        \"currentServerTime\":\"2016-04-16T23:59:47.957+0800\",\n",
    "                        \"firstLocatedTime\":\"2016-04-11T16:19:18.991+0800\",\n",
    "                        \"lastLocatedTime\":\"2016-04-16T23:59:46.991+0800\"}\n",
    "            }\n",
    "        ]\n",
    "    }\n",
    "}\"\"\""
   ]
  },
  {
   "cell_type": "markdown",
   "metadata": {},
   "source": [
    "### import data in floor"
   ]
  },
  {
   "cell_type": "code",
   "execution_count": 2,
   "metadata": {
    "collapsed": true
   },
   "outputs": [],
   "source": [
    "from pandas import DataFrame, Series\n",
    "import numpy as np\n",
    "import pandas as pd\n",
    "from datetime import datetime, timedelta"
   ]
  },
  {
   "cell_type": "code",
   "execution_count": 1,
   "metadata": {
    "collapsed": false
   },
   "outputs": [],
   "source": [
    "bld1_02 = pd.read_csv('/Users/AAA218/Desktop/ami_sg/SDE.csv/SDE1_02.csv',header = 0, sep=\",\",low_memory=False)\n",
    "bld1_03 = pd.read_csv('/Users/AAA218/Desktop/ami_sg/SDE.csv/SDE1_03.csv',header = 0, sep=\",\",low_memory=False)\n",
    "bld1_04 = pd.read_csv('/Users/AAA218/Desktop/ami_sg/SDE.csv/SDE1_04.csv',header = 0, sep=\",\",low_memory=False)\n",
    "bld1_05 = pd.read_csv('/Users/AAA218/Desktop/ami_sg/SDE.csv/SDE1_05.csv',header = 0, sep=\",\",low_memory=False)\n",
    "bld2_01 = pd.read_csv('/Users/AAA218/Desktop/ami_sg/SDE.csv/SDE2_01.csv',header = 0, sep=\",\",low_memory=False)\n",
    "bld2_02 = pd.read_csv('/Users/AAA218/Desktop/ami_sg/SDE.csv/SDE2_02.csv',header = 0, sep=\",\",low_memory=False)\n",
    "bld2_03 = pd.read_csv('/Users/AAA218/Desktop/ami_sg/SDE.csv/SDE2_03.csv',header = 0, sep=\",\",low_memory=False)\n",
    "bld3_01 = pd.read_csv('/Users/AAA218/Desktop/ami_sg/SDE.csv/SDE3_01.csv',header = 0, sep=\",\",low_memory=False)\n",
    "bld3_02 = pd.read_csv('/Users/AAA218/Desktop/ami_sg/SDE.csv/SDE3_02.csv',header = 0, sep=\",\",low_memory=False)\n",
    "bld3_03 = pd.read_csv('/Users/AAA218/Desktop/ami_sg/SDE.csv/SDE3_03.csv',header = 0, sep=\",\",low_memory=False)\n",
    "bld3_04 = pd.read_csv('/Users/AAA218/Desktop/ami_sg/SDE.csv/SDE3_04.csv',header = 0, sep=\",\",low_memory=False)"
   ]
  },
  {
   "cell_type": "code",
   "execution_count": 8,
   "metadata": {
    "collapsed": true
   },
   "outputs": [],
   "source": [
    "def diff(col):\n",
    "    t_fun = lambda x : datetime.strptime(x[0:19],'%Y-%m-%dT%H:%M:%S')\n",
    "    secs = []\n",
    "    fir_t = []\n",
    "    las_t = []\n",
    "    for i, row in enumerate(col.values):\n",
    "        fir = t_fun(col.firstlocatedtime[i])\n",
    "        las = t_fun(col.lastlocatedtime[i])\n",
    "        dif = timedelta.total_seconds(las - fir)\n",
    "        print dif\n",
    "        secs.append(dif)\n",
    "        fir_t.append(fir)\n",
    "        las_t.append(las)\n",
    "    print \"interval len: %s\" %len(secs)\n",
    "    col['firstlocatedtime'] = fir_t\n",
    "    col['lastlocatedtime'] = las_t\n",
    "    col['interval'] = secs\n",
    "    return col"
   ]
  },
  {
   "cell_type": "code",
   "execution_count": 61,
   "metadata": {
    "collapsed": false
   },
   "outputs": [
    {
     "name": "stdout",
     "output_type": "stream",
     "text": [
      "Please enter the full directory for files:7\n",
      "not valid, using defaults: /Users/AAA218/Desktop/ami_sg/SDE.csv/\n"
     ]
    }
   ],
   "source": [
    "import glob, os\n",
    "ans = raw_input('Please enter the full directory for files:')\n",
    "try:\n",
    "    dirname = str(ans)\n",
    "    os.chdir(dirname)\n",
    "except:\n",
    "    dirname = \"/Users/AAA218/Desktop/ami_sg/SDE.csv/\"\n",
    "    print'not valid, using defaults: %s' % dirname\n",
    "    os.chdir(dirname)\n",
    "l = list()\n",
    "for file in glob.glob(\"*.csv\"):\n",
    "    if file.startswith('SDE'):\n",
    "        l.append(file)"
   ]
  },
  {
   "cell_type": "code",
   "execution_count": 62,
   "metadata": {
    "collapsed": true
   },
   "outputs": [],
   "source": [
    "dim = {\"SDE1-02\":[1227.0858,1730.8369],\n",
    "\"SDE1-03\":[275.0,394.0],\n",
    "\"SDE1-04\":[1065.6272,1503.0952],\n",
    "\"SDE1-05\":[1227.0858,1730.8369],\n",
    "\"SDE2-01\":[671.634,948.0622],\n",
    "\"SDE2-02\":[736.25146,1038.5022],\n",
    "\"SDE2-03\":[673.7935,951.3015],\n",
    "\"SDE3-01\" :[1214.772,1734.6945],\n",
    "\"SDE3-02\": [2018.2332,2882.037],\n",
    "\"SDE3-03\" :[1345.4888,1921.358],\n",
    "\"SDE3-04\":[683.8,474.7]} #[length,width]=> [ycor,xcor]"
   ]
  },
  {
   "cell_type": "markdown",
   "metadata": {},
   "source": [
    "### writedb.py testing\n",
    "* read csv repeatively and write to db with preprocessing"
   ]
  },
  {
   "cell_type": "code",
   "execution_count": 63,
   "metadata": {
    "collapsed": false
   },
   "outputs": [],
   "source": [
    "def out_dim(s):\n",
    "    bld = str(s[\"bldid\"])\n",
    "    if(0< s[\"xcor\"] <= dim[bld][1] and 0< s[\"ycor\"] <= dim[bld][0]):\n",
    "            return pd.Series(dict(out=0))\n",
    "    else: \n",
    "            return pd.Series(dict(out=1))"
   ]
  },
  {
   "cell_type": "code",
   "execution_count": 78,
   "metadata": {
    "collapsed": false
   },
   "outputs": [
    {
     "name": "stdout",
     "output_type": "stream",
     "text": [
      "Index([u'sgTime', u'macAddress', u'isGuestUser', u'dot11Status',\n",
      "       u'mapHierarchyString', u'MapCoordinate_X', u'MapCoordinate_Y',\n",
      "       u'currentServerTime', u'firstLocatedTime', u'lastLocatedTime'],\n",
      "      dtype='object')\n",
      "new_____ 0    2016-04-16 00:00:01\n",
      "1    2016-04-16 02:40:01\n",
      "2    2016-04-16 02:45:01\n",
      "3    2016-04-16 07:50:01\n",
      "4    2016-04-16 07:55:01\n",
      "5    2016-04-16 08:25:01\n",
      "6    2016-04-16 09:35:02\n",
      "7    2016-04-16 09:40:01\n",
      "8    2016-04-16 09:55:01\n",
      "9    2016-04-16 10:00:02\n",
      "Name: sgtime, dtype: object\n",
      "parse the date and make the interval\n",
      "reformat the building id....\n",
      "create Out dim mark\n",
      "write to db SDE1_02.csv\n",
      "Index([u'sgTime', u'macAddress', u'isGuestUser', u'dot11Status',\n",
      "       u'mapHierarchyString', u'MapCoordinate_X', u'MapCoordinate_Y',\n",
      "       u'currentServerTime', u'firstLocatedTime', u'lastLocatedTime'],\n",
      "      dtype='object')\n",
      "new_____ 0    2016-04-16 00:00:01\n",
      "1    2016-04-16 00:00:01\n",
      "2    2016-04-16 00:00:01\n",
      "3    2016-04-16 00:00:01\n",
      "4    2016-04-16 00:00:01\n",
      "5    2016-04-16 00:00:01\n",
      "6    2016-04-16 00:00:01\n",
      "7    2016-04-16 00:00:01\n",
      "8    2016-04-16 00:05:01\n",
      "9    2016-04-16 00:05:01\n",
      "Name: sgtime, dtype: object\n",
      "parse the date and make the interval\n",
      "reformat the building id....\n",
      "create Out dim mark\n",
      "write to db SDE1_03.csv\n",
      "Index([u'sgTime', u'macAddress', u'isGuestUser', u'dot11Status',\n",
      "       u'mapHierarchyString', u'MapCoordinate_X', u'MapCoordinate_Y',\n",
      "       u'currentServerTime', u'firstLocatedTime', u'lastLocatedTime'],\n",
      "      dtype='object')\n",
      "new_____ 0    2016-04-16 00:00:01\n",
      "1    2016-04-16 00:00:01\n",
      "2    2016-04-16 00:00:01\n",
      "3    2016-04-16 00:00:01\n",
      "4    2016-04-16 00:00:01\n",
      "5    2016-04-16 00:00:01\n",
      "6    2016-04-16 00:00:01\n",
      "7    2016-04-16 00:00:01\n",
      "8    2016-04-16 00:00:01\n",
      "9    2016-04-16 00:00:01\n",
      "Name: sgtime, dtype: object\n",
      "parse the date and make the interval\n",
      "reformat the building id....\n",
      "create Out dim mark\n",
      "write to db SDE1_04.csv\n",
      "Index([u'sgTime', u'macAddress', u'isGuestUser', u'dot11Status',\n",
      "       u'mapHierarchyString', u'MapCoordinate_X', u'MapCoordinate_Y',\n",
      "       u'currentServerTime', u'firstLocatedTime', u'lastLocatedTime'],\n",
      "      dtype='object')\n",
      "new_____ 0    2016-04-16 00:00:01\n",
      "1    2016-04-16 00:00:01\n",
      "2    2016-04-16 00:05:01\n",
      "3    2016-04-16 00:05:01\n",
      "4    2016-04-16 00:10:01\n",
      "5    2016-04-16 00:10:01\n",
      "6    2016-04-16 00:15:02\n",
      "7    2016-04-16 00:15:02\n",
      "8    2016-04-16 00:20:01\n",
      "9    2016-04-16 00:20:01\n",
      "Name: sgtime, dtype: object\n",
      "parse the date and make the interval\n",
      "reformat the building id....\n",
      "create Out dim mark\n",
      "write to db SDE1_05.csv\n",
      "Index([u'sgTime', u'macAddress', u'isGuestUser', u'dot11Status',\n",
      "       u'mapHierarchyString', u'MapCoordinate_X', u'MapCoordinate_Y',\n",
      "       u'currentServerTime', u'firstLocatedTime', u'lastLocatedTime'],\n",
      "      dtype='object')\n",
      "new_____ 0    2016-04-16 00:00:01\n",
      "1    2016-04-16 00:05:01\n",
      "2    2016-04-16 00:05:01\n",
      "3    2016-04-16 00:10:01\n",
      "4    2016-04-16 00:10:01\n",
      "5    2016-04-16 00:15:02\n",
      "6    2016-04-16 00:15:02\n",
      "7    2016-04-16 00:15:02\n",
      "8    2016-04-16 00:20:01\n",
      "9    2016-04-16 00:25:01\n",
      "Name: sgtime, dtype: object\n",
      "parse the date and make the interval\n",
      "reformat the building id....\n",
      "create Out dim mark\n",
      "write to db SDE2_01.csv\n",
      "Index([u'sgTime', u'macAddress', u'isGuestUser', u'dot11Status',\n",
      "       u'mapHierarchyString', u'MapCoordinate_X', u'MapCoordinate_Y',\n",
      "       u'currentServerTime', u'firstLocatedTime', u'lastLocatedTime'],\n",
      "      dtype='object')\n",
      "new_____ 0    2016-04-16 00:00:01\n",
      "1    2016-04-16 00:00:01\n",
      "2    2016-04-16 00:00:01\n",
      "3    2016-04-16 00:00:01\n",
      "4    2016-04-16 00:00:01\n",
      "5    2016-04-16 00:00:01\n",
      "6    2016-04-16 00:00:01\n",
      "7    2016-04-16 00:05:01\n",
      "8    2016-04-16 00:05:01\n",
      "9    2016-04-16 00:05:01\n",
      "Name: sgtime, dtype: object\n",
      "parse the date and make the interval\n",
      "reformat the building id....\n",
      "create Out dim mark\n",
      "write to db SDE2_02.csv\n",
      "Index([u'sgTime', u'macAddress', u'isGuestUser', u'dot11Status',\n",
      "       u'mapHierarchyString', u'MapCoordinate_X', u'MapCoordinate_Y',\n",
      "       u'currentServerTime', u'firstLocatedTime', u'lastLocatedTime'],\n",
      "      dtype='object')\n",
      "new_____ 0    2016-04-16 00:00:01\n",
      "1    2016-04-16 00:00:01\n",
      "2    2016-04-16 00:00:01\n",
      "3    2016-04-16 00:00:01\n",
      "4    2016-04-16 00:00:01\n",
      "5    2016-04-16 00:05:01\n",
      "6    2016-04-16 00:05:01\n",
      "7    2016-04-16 00:05:01\n",
      "8    2016-04-16 00:05:01\n",
      "9    2016-04-16 00:05:01\n",
      "Name: sgtime, dtype: object\n",
      "parse the date and make the interval\n",
      "reformat the building id....\n",
      "create Out dim mark\n",
      "write to db SDE2_03.csv\n",
      "Index([u'sgTime', u'macAddress', u'isGuestUser', u'dot11Status',\n",
      "       u'mapHierarchyString', u'MapCoordinate_X', u'MapCoordinate_Y',\n",
      "       u'currentServerTime', u'firstLocatedTime', u'lastLocatedTime'],\n",
      "      dtype='object')\n",
      "new_____ 0    2016-04-16 00:00:01\n",
      "1    2016-04-16 00:00:01\n",
      "2    2016-04-16 00:00:01\n",
      "3    2016-04-16 00:00:01\n",
      "4    2016-04-16 00:00:01\n",
      "5    2016-04-16 00:00:01\n",
      "6    2016-04-16 00:00:01\n",
      "7    2016-04-16 00:00:01\n",
      "8    2016-04-16 00:00:01\n",
      "9    2016-04-16 00:00:01\n",
      "Name: sgtime, dtype: object\n",
      "parse the date and make the interval\n",
      "reformat the building id....\n",
      "create Out dim mark\n",
      "write to db SDE3_01.csv\n",
      "Index([u'sgTime', u'macAddress', u'isGuestUser', u'dot11Status',\n",
      "       u'mapHierarchyString', u'MapCoordinate_X', u'MapCoordinate_Y',\n",
      "       u'currentServerTime', u'firstLocatedTime', u'lastLocatedTime'],\n",
      "      dtype='object')\n",
      "new_____ 0    2016-04-16 00:00:01\n",
      "1    2016-04-16 00:00:01\n",
      "2    2016-04-16 00:00:01\n",
      "3    2016-04-16 00:00:01\n",
      "4    2016-04-16 00:00:01\n",
      "5    2016-04-16 00:00:01\n",
      "6    2016-04-16 00:00:01\n",
      "7    2016-04-16 00:00:01\n",
      "8    2016-04-16 00:00:01\n",
      "9    2016-04-16 00:00:01\n",
      "Name: sgtime, dtype: object\n",
      "parse the date and make the interval\n",
      "reformat the building id....\n",
      "create Out dim mark\n",
      "write to db SDE3_02.csv\n",
      "Index([u'sgTime', u'macAddress', u'isGuestUser', u'dot11Status',\n",
      "       u'mapHierarchyString', u'MapCoordinate_X', u'MapCoordinate_Y',\n",
      "       u'currentServerTime', u'firstLocatedTime', u'lastLocatedTime'],\n",
      "      dtype='object')\n",
      "new_____ 0    2016-04-16 00:00:01\n",
      "1    2016-04-16 00:00:01\n",
      "2    2016-04-16 00:00:01\n",
      "3    2016-04-16 00:00:01\n",
      "4    2016-04-16 00:00:01\n",
      "5    2016-04-16 00:00:01\n",
      "6    2016-04-16 00:00:01\n",
      "7    2016-04-16 00:00:01\n",
      "8    2016-04-16 00:00:01\n",
      "9    2016-04-16 00:00:01\n",
      "Name: sgtime, dtype: object\n",
      "parse the date and make the interval\n",
      "reformat the building id....\n",
      "create Out dim mark\n",
      "write to db SDE3_03.csv\n",
      "Index([u'sgTime', u'macAddress', u'isGuestUser', u'dot11Status',\n",
      "       u'mapHierarchyString', u'MapCoordinate_X', u'MapCoordinate_Y',\n",
      "       u'currentServerTime', u'firstLocatedTime', u'lastLocatedTime'],\n",
      "      dtype='object')\n",
      "new_____ 0    2016-04-16 00:00:01\n",
      "1    2016-04-16 00:00:01\n",
      "2    2016-04-16 00:00:01\n",
      "3    2016-04-16 00:00:01\n",
      "4    2016-04-16 00:00:01\n",
      "5    2016-04-16 00:00:01\n",
      "6    2016-04-16 00:00:01\n",
      "7    2016-04-16 00:00:01\n",
      "8    2016-04-16 00:00:01\n",
      "9    2016-04-16 00:00:01\n",
      "Name: sgtime, dtype: object\n",
      "parse the date and make the interval\n",
      "reformat the building id....\n",
      "create Out dim mark\n",
      "write to db SDE3_04.csv\n"
     ]
    }
   ],
   "source": [
    "names = [\"sgtime\", \"mac\",\"guestid\",\"status\", \"bldid\", \"xcor\", \"ycor\",\"currenttime\",\"firstlocatedtime\",\"lastlocatedtime\"]\n",
    "# function to create interval\n",
    "def diff(col):\n",
    "    t_fun = lambda x : datetime.strptime(x[0:19],'%Y-%m-%dT%H:%M:%S')\n",
    "    fir = col['firstlocatedtime'].map(t_fun)\n",
    "    las = col['lastlocatedtime'].map(t_fun)\n",
    "    dif = las - fir\n",
    "    dif_sec = dif.map(timedelta.total_seconds)\n",
    "    col['firstlocatedtime'] = fir\n",
    "    col['lastlocatedtime'] = las\n",
    "    col['interval'] = dif_sec  \n",
    "    return col\n",
    "import sqlite3\n",
    "conn = sqlite3.connect('new.sqlite')\n",
    "for f in l:\n",
    "    fname = dirname + f\n",
    "    #index_start = 1\n",
    "    for df in pd.read_csv(fname, header = 0,sep=',',low_memory= False,iterator=True):\n",
    "        #print df.columns\n",
    "        df.columns = names\n",
    "        #print \"new_____\", df.sgtime[0:10]\n",
    "        try: \n",
    "            df['sgtime'] = pd.to_datetime(df[\"sgtime\"])\n",
    "            print \"parse the date and make the interval\"\n",
    "            diff(df)\n",
    "        except:\n",
    "            print \"skip file: %s\" % fname\n",
    "            continue\n",
    "        print \"reformat the building id....\"\n",
    "        bld = df[\"bldid\"].apply(lambda x: x[-7:]).copy()\n",
    "        df['bldid'] = bld\n",
    "        print \"create Out dim mark\"\n",
    "        st1 = datetime.now()\n",
    "        df['out'] = df.apply(out_dim , axis = 1)\n",
    "        st2 = datetime.now()\n",
    "        print \"used %s sec..\"%timedelta.total_seconds(st2 - st1)\n",
    "        #df.status.replace({'PROBING','ASSOCIATED','UNKNOWN'},value= {0,1,-1},inplace=True)\n",
    "        df.drop(['guestid','currenttime'], axis=1, inplace=True)\n",
    "        print 'write to db %s' %f\n",
    "        df.to_sql(name='wifi',index=False,con=conn,if_exists='append',dtype={\"sgtime\": \"DATETIME\", \"status\":\"INTEGER\", \"mac\": \"CHAR(20)\",\"bldid\": \"CHAR(20)\",\" xcor \":\"NUMERIC\",\"ycor\":\" NUMERIC\",\"firstlocatedtime\":\" DATETIME\",\"lastlocatedtime\":\"DATETIME\",\"interval\": \"NUMERIC\", \"hrfir\":\"INTEGER\",\"hrlas\":\"INTEGER\", \"out\": \"INTEGER\"})"
   ]
  },
  {
   "cell_type": "code",
   "execution_count": 2,
   "metadata": {
    "collapsed": false
   },
   "outputs": [],
   "source": [
    "names = [\"sgtime\", \"mac\",\"guestid\",\"status_info\", \"bldid\", \"xcor\", \"ycor\",\"currentservertime\",\"firstlocatedtime\",\"lastlocatedtime\"]\n",
    "bld3_04.columns =bld3_03.columns =bld3_02.columns =bld3_01.columns =bld2_03.columns =bld2_02.columns =bld2_01.columns =bld1_05.columns =bld1_04.columns =bld1_03.columns =bld1_02.columns = names"
   ]
  },
  {
   "cell_type": "code",
   "execution_count": 3,
   "metadata": {
    "collapsed": false
   },
   "outputs": [
    {
     "name": "stdout",
     "output_type": "stream",
     "text": [
      "1_03----                 xcor           ycor\n",
      "count  358556.000000  358556.000000\n",
      "mean      198.271213      79.756742\n",
      "std        87.952440      36.294464\n",
      "min        -4.000000      -3.990000\n",
      "25%       130.160000      54.430000\n",
      "50%       242.760000      88.410000\n",
      "75%       264.570000     107.590000\n",
      "max       394.000000     275.000000\n",
      "1_04----                 xcor           ycor\n",
      "count  260937.000000  260937.000000\n",
      "mean      831.545927     531.740730\n",
      "std       150.535272     167.033891\n",
      "min       227.380000     265.910000\n",
      "25%       774.040000     392.460000\n",
      "50%       859.370000     457.800000\n",
      "75%       947.340000     635.390000\n",
      "max      1094.220000     886.160000\n"
     ]
    }
   ],
   "source": [
    "print \"1_03----\", bld1_03[[\"xcor\",\"ycor\"]].describe()\n",
    "print \"1_04----\", bld1_04[[\"xcor\",\"ycor\"]].describe()"
   ]
  },
  {
   "cell_type": "markdown",
   "metadata": {},
   "source": [
    "### Stack everybuilding together & reformat the building id"
   ]
  },
  {
   "cell_type": "code",
   "execution_count": 4,
   "metadata": {
    "collapsed": false
   },
   "outputs": [
    {
     "name": "stdout",
     "output_type": "stream",
     "text": [
      "(679922, 10)\n"
     ]
    }
   ],
   "source": [
    "b1_23 = bld1_02.append([bld1_03,bld1_04,bld1_05],ignore_index=True).copy()\n",
    "print b1_23.shape   #679922"
   ]
  },
  {
   "cell_type": "code",
   "execution_count": 5,
   "metadata": {
    "collapsed": false
   },
   "outputs": [
    {
     "name": "stdout",
     "output_type": "stream",
     "text": [
      "(1194183, 10)\n"
     ]
    }
   ],
   "source": [
    "b2_3 = b1_23.append([bld2_01,bld2_02,bld2_03,],ignore_index=True).copy()\n",
    "print b2_3.shape    #1194183"
   ]
  },
  {
   "cell_type": "code",
   "execution_count": 6,
   "metadata": {
    "collapsed": false
   },
   "outputs": [
    {
     "name": "stdout",
     "output_type": "stream",
     "text": [
      "(2650553, 10)\n"
     ]
    }
   ],
   "source": [
    "b3_4 = b2_3.append([bld3_01,bld3_02,bld3_03,bld3_04],ignore_index=True).copy()\n",
    "print b3_4.shape    #2650553"
   ]
  },
  {
   "cell_type": "code",
   "execution_count": 7,
   "metadata": {
    "collapsed": false
   },
   "outputs": [],
   "source": [
    "a = b3_4[\"bldid\"].apply(lambda x: x[-7:]).copy()"
   ]
  },
  {
   "cell_type": "code",
   "execution_count": 8,
   "metadata": {
    "collapsed": false
   },
   "outputs": [
    {
     "data": {
      "text/plain": [
       "{'SDE1-02',\n",
       " 'SDE1-03',\n",
       " 'SDE1-04',\n",
       " 'SDE1-05',\n",
       " 'SDE2-01',\n",
       " 'SDE2-02',\n",
       " 'SDE2-03',\n",
       " 'SDE3-01',\n",
       " 'SDE3-02',\n",
       " 'SDE3-03',\n",
       " 'SDE3-04'}"
      ]
     },
     "execution_count": 8,
     "metadata": {},
     "output_type": "execute_result"
    }
   ],
   "source": [
    "set(a)"
   ]
  },
  {
   "cell_type": "code",
   "execution_count": 9,
   "metadata": {
    "collapsed": false
   },
   "outputs": [
    {
     "name": "stdout",
     "output_type": "stream",
     "text": [
      "set(['SDE2-02', 'SDE2-03', 'SDE2-01', 'SDE3-04', 'SDE3-01', 'SDE3-03', 'SDE3-02', 'SDE1-05', 'SDE1-04', 'SDE1-03', 'SDE1-02'])\n"
     ]
    }
   ],
   "source": [
    "b3_4[\"bldid\"] = a\n",
    "print set(b3_4[\"bldid\"])"
   ]
  },
  {
   "cell_type": "code",
   "execution_count": 10,
   "metadata": {
    "collapsed": false
   },
   "outputs": [
    {
     "name": "stdout",
     "output_type": "stream",
     "text": [
      "set([False]) set(['PROBING', 'UNKNOWN', 'ASSOCIATED']) 56918\n"
     ]
    }
   ],
   "source": [
    "print set(b3_4[\"guestid\"]),set(b3_4[\"status_info\"]),len(set(b3_4[\"mac\"]))\n",
    "# 56918"
   ]
  },
  {
   "cell_type": "code",
   "execution_count": 11,
   "metadata": {
    "collapsed": false
   },
   "outputs": [
    {
     "data": {
      "text/plain": [
       "260937"
      ]
     },
     "execution_count": 11,
     "metadata": {},
     "output_type": "execute_result"
    }
   ],
   "source": [
    "len(b3_4[b3_4[\"bldid\"]== \"SDE1-04\"])\n",
    "# 260937"
   ]
  },
  {
   "cell_type": "markdown",
   "metadata": {},
   "source": [
    "**********\n",
    "#### Get the time intervals variable Diff"
   ]
  },
  {
   "cell_type": "code",
   "execution_count": 26,
   "metadata": {
    "collapsed": true
   },
   "outputs": [],
   "source": [
    "test_inx= b3_4.copy() # repeat this step if test column is dropped"
   ]
  },
  {
   "cell_type": "code",
   "execution_count": 16,
   "metadata": {
    "collapsed": true
   },
   "outputs": [],
   "source": [
    "fir = b3_4[\"firstlocatedtime\"].copy()\n",
    "las = b3_4[\"lastlocatedtime\"].copy()\n",
    "#fir1 = pd.to_datetime(fir, infer_datetime_format = True) #30s"
   ]
  },
  {
   "cell_type": "code",
   "execution_count": 27,
   "metadata": {
    "collapsed": false
   },
   "outputs": [
    {
     "data": {
      "text/html": [
       "<div>\n",
       "<table border=\"1\" class=\"dataframe\">\n",
       "  <thead>\n",
       "    <tr style=\"text-align: right;\">\n",
       "      <th></th>\n",
       "      <th>sgtime</th>\n",
       "      <th>mac</th>\n",
       "      <th>guestid</th>\n",
       "      <th>status_info</th>\n",
       "      <th>bldid</th>\n",
       "      <th>xcor</th>\n",
       "      <th>ycor</th>\n",
       "      <th>currentservertime</th>\n",
       "      <th>firstlocatedtime</th>\n",
       "      <th>lastlocatedtime</th>\n",
       "    </tr>\n",
       "  </thead>\n",
       "  <tbody>\n",
       "    <tr>\n",
       "      <th>0</th>\n",
       "      <td>2016-04-16 00:00:01</td>\n",
       "      <td>e8:50:8b:94:67:3b</td>\n",
       "      <td>False</td>\n",
       "      <td>PROBING</td>\n",
       "      <td>SDE1-02</td>\n",
       "      <td>1588.27</td>\n",
       "      <td>382.58</td>\n",
       "      <td>2016-04-15T23:59:47.573+0800</td>\n",
       "      <td>2016-04-15T23:56:54.444+0800</td>\n",
       "      <td>2016-04-15T23:57:14.518+0800</td>\n",
       "    </tr>\n",
       "    <tr>\n",
       "      <th>1</th>\n",
       "      <td>2016-04-16 02:40:01</td>\n",
       "      <td>94:b1:0a:de:9b:ca</td>\n",
       "      <td>False</td>\n",
       "      <td>PROBING</td>\n",
       "      <td>SDE1-02</td>\n",
       "      <td>1588.27</td>\n",
       "      <td>382.58</td>\n",
       "      <td>2016-04-16T02:40:00.328+0800</td>\n",
       "      <td>2016-04-16T02:38:26.409+0800</td>\n",
       "      <td>2016-04-16T02:38:26.409+0800</td>\n",
       "    </tr>\n",
       "    <tr>\n",
       "      <th>2</th>\n",
       "      <td>2016-04-16 02:45:01</td>\n",
       "      <td>94:b1:0a:de:9b:ca</td>\n",
       "      <td>False</td>\n",
       "      <td>PROBING</td>\n",
       "      <td>SDE1-02</td>\n",
       "      <td>1588.27</td>\n",
       "      <td>382.58</td>\n",
       "      <td>2016-04-16T02:45:00.530+0800</td>\n",
       "      <td>2016-04-16T02:38:26.409+0800</td>\n",
       "      <td>2016-04-16T02:38:26.409+0800</td>\n",
       "    </tr>\n",
       "    <tr>\n",
       "      <th>3</th>\n",
       "      <td>2016-04-16 07:50:01</td>\n",
       "      <td>84:55:a5:70:d1:eb</td>\n",
       "      <td>False</td>\n",
       "      <td>PROBING</td>\n",
       "      <td>SDE1-02</td>\n",
       "      <td>1582.69</td>\n",
       "      <td>382.87</td>\n",
       "      <td>2016-04-16T07:49:57.232+0800</td>\n",
       "      <td>2016-04-16T07:48:14.620+0800</td>\n",
       "      <td>2016-04-16T07:48:14.620+0800</td>\n",
       "    </tr>\n",
       "    <tr>\n",
       "      <th>4</th>\n",
       "      <td>2016-04-16 07:55:01</td>\n",
       "      <td>84:55:a5:70:d1:eb</td>\n",
       "      <td>False</td>\n",
       "      <td>PROBING</td>\n",
       "      <td>SDE1-02</td>\n",
       "      <td>1582.69</td>\n",
       "      <td>382.87</td>\n",
       "      <td>2016-04-16T07:54:57.483+0800</td>\n",
       "      <td>2016-04-16T07:48:14.620+0800</td>\n",
       "      <td>2016-04-16T07:48:14.620+0800</td>\n",
       "    </tr>\n",
       "  </tbody>\n",
       "</table>\n",
       "</div>"
      ],
      "text/plain": [
       "                sgtime                mac guestid status_info    bldid  \\\n",
       "0  2016-04-16 00:00:01  e8:50:8b:94:67:3b   False     PROBING  SDE1-02   \n",
       "1  2016-04-16 02:40:01  94:b1:0a:de:9b:ca   False     PROBING  SDE1-02   \n",
       "2  2016-04-16 02:45:01  94:b1:0a:de:9b:ca   False     PROBING  SDE1-02   \n",
       "3  2016-04-16 07:50:01  84:55:a5:70:d1:eb   False     PROBING  SDE1-02   \n",
       "4  2016-04-16 07:55:01  84:55:a5:70:d1:eb   False     PROBING  SDE1-02   \n",
       "\n",
       "      xcor    ycor             currentservertime  \\\n",
       "0  1588.27  382.58  2016-04-15T23:59:47.573+0800   \n",
       "1  1588.27  382.58  2016-04-16T02:40:00.328+0800   \n",
       "2  1588.27  382.58  2016-04-16T02:45:00.530+0800   \n",
       "3  1582.69  382.87  2016-04-16T07:49:57.232+0800   \n",
       "4  1582.69  382.87  2016-04-16T07:54:57.483+0800   \n",
       "\n",
       "               firstlocatedtime               lastlocatedtime  \n",
       "0  2016-04-15T23:56:54.444+0800  2016-04-15T23:57:14.518+0800  \n",
       "1  2016-04-16T02:38:26.409+0800  2016-04-16T02:38:26.409+0800  \n",
       "2  2016-04-16T02:38:26.409+0800  2016-04-16T02:38:26.409+0800  \n",
       "3  2016-04-16T07:48:14.620+0800  2016-04-16T07:48:14.620+0800  \n",
       "4  2016-04-16T07:48:14.620+0800  2016-04-16T07:48:14.620+0800  "
      ]
     },
     "execution_count": 27,
     "metadata": {},
     "output_type": "execute_result"
    }
   ],
   "source": [
    "test_inx.head()"
   ]
  },
  {
   "cell_type": "code",
   "execution_count": 19,
   "metadata": {
    "collapsed": false
   },
   "outputs": [
    {
     "data": {
      "text/plain": [
       "datetime.datetime(2016, 4, 16, 7, 48, 14)"
      ]
     },
     "execution_count": 19,
     "metadata": {},
     "output_type": "execute_result"
    }
   ],
   "source": [
    "datetime.strptime(test_inx.iloc[3][8][0:19],'%Y-%m-%dT%H:%M:%S')"
   ]
  },
  {
   "cell_type": "code",
   "execution_count": 20,
   "metadata": {
    "collapsed": false
   },
   "outputs": [
    {
     "name": "stdout",
     "output_type": "stream",
     "text": [
      "CPU times: user 1min 15s, sys: 398 ms, total: 1min 15s\n",
      "Wall time: 1min 15s\n"
     ]
    }
   ],
   "source": [
    "%%time\n",
    "f = lambda x : datetime.strptime(x[0:19],'%Y-%m-%dT%H:%M:%S')\n",
    "fir1 = fir.map(f)\n",
    "las1 = las.map(f) #1min 21s"
   ]
  },
  {
   "cell_type": "code",
   "execution_count": 21,
   "metadata": {
    "collapsed": false
   },
   "outputs": [
    {
     "name": "stdout",
     "output_type": "stream",
     "text": [
      "last---- 1   2016-04-16 02:38:26\n",
      "2   2016-04-16 02:38:26\n",
      "3   2016-04-16 07:48:14\n",
      "4   2016-04-16 07:48:14\n",
      "5   2016-04-16 08:24:32\n",
      "6   2016-04-16 09:34:45\n",
      "7   2016-04-16 09:34:45\n",
      "8   2016-04-16 09:54:49\n",
      "9   2016-04-16 09:54:49\n",
      "Name: lastlocatedtime, dtype: datetime64[ns]\n",
      "first---- 1   2016-04-16 02:38:26\n",
      "2   2016-04-16 02:38:26\n",
      "3   2016-04-16 07:48:14\n",
      "4   2016-04-16 07:48:14\n",
      "5   2016-04-16 08:24:32\n",
      "6   2016-04-16 09:34:45\n",
      "7   2016-04-16 09:34:45\n",
      "8   2016-04-16 09:54:49\n",
      "9   2016-04-16 09:54:49\n",
      "Name: firstlocatedtime, dtype: datetime64[ns]\n"
     ]
    }
   ],
   "source": [
    "print \"last----\",las1[1:10]\n",
    "print \"first----\",fir1[1:10]"
   ]
  },
  {
   "cell_type": "code",
   "execution_count": 22,
   "metadata": {
    "collapsed": false
   },
   "outputs": [
    {
     "name": "stdout",
     "output_type": "stream",
     "text": [
      "count                   2650553\n",
      "mean     0 days 02:43:43.408063\n",
      "std      0 days 16:19:50.322887\n",
      "min             0 days 00:00:00\n",
      "25%             0 days 00:00:20\n",
      "50%             0 days 00:12:52\n",
      "75%             0 days 01:15:59\n",
      "max            11 days 07:35:28\n",
      "dtype: object\n",
      "2650548   00:12:14\n",
      "2650549   00:00:00\n",
      "2650550   01:26:16\n",
      "2650551   00:00:08\n",
      "2650552   00:00:00\n",
      "dtype: timedelta64[ns]\n"
     ]
    }
   ],
   "source": [
    "diff = las1-fir1\n",
    "print diff.describe()"
   ]
  },
  {
   "cell_type": "code",
   "execution_count": 23,
   "metadata": {
    "collapsed": false
   },
   "outputs": [
    {
     "name": "stdout",
     "output_type": "stream",
     "text": [
      "1    0.0\n",
      "2    0.0\n",
      "3    0.0\n",
      "4    0.0\n",
      "dtype: float64\n"
     ]
    }
   ],
   "source": [
    "dtest = diff.map(timedelta.total_seconds)\n",
    "print dtest[1:5]\n",
    "print dtest.describe()"
   ]
  },
  {
   "cell_type": "markdown",
   "metadata": {},
   "source": [
    "#### make a new column 'interval'"
   ]
  },
  {
   "cell_type": "code",
   "execution_count": 32,
   "metadata": {
    "collapsed": false
   },
   "outputs": [],
   "source": [
    "test_inx.loc[:,'interval']=dtest"
   ]
  },
  {
   "cell_type": "code",
   "execution_count": 33,
   "metadata": {
    "collapsed": false
   },
   "outputs": [
    {
     "data": {
      "text/html": [
       "<div>\n",
       "<table border=\"1\" class=\"dataframe\">\n",
       "  <thead>\n",
       "    <tr style=\"text-align: right;\">\n",
       "      <th></th>\n",
       "      <th>sgtime</th>\n",
       "      <th>mac</th>\n",
       "      <th>guestid</th>\n",
       "      <th>status_info</th>\n",
       "      <th>bldid</th>\n",
       "      <th>xcor</th>\n",
       "      <th>ycor</th>\n",
       "      <th>currentservertime</th>\n",
       "      <th>firstlocatedtime</th>\n",
       "      <th>lastlocatedtime</th>\n",
       "      <th>interval</th>\n",
       "    </tr>\n",
       "  </thead>\n",
       "  <tbody>\n",
       "    <tr>\n",
       "      <th>0</th>\n",
       "      <td>2016-04-16 00:00:01</td>\n",
       "      <td>e8:50:8b:94:67:3b</td>\n",
       "      <td>False</td>\n",
       "      <td>PROBING</td>\n",
       "      <td>SDE1-02</td>\n",
       "      <td>1588.27</td>\n",
       "      <td>382.58</td>\n",
       "      <td>2016-04-15T23:59:47.573+0800</td>\n",
       "      <td>2016-04-15T23:56:54.444+0800</td>\n",
       "      <td>2016-04-15T23:57:14.518+0800</td>\n",
       "      <td>20.0</td>\n",
       "    </tr>\n",
       "    <tr>\n",
       "      <th>1</th>\n",
       "      <td>2016-04-16 02:40:01</td>\n",
       "      <td>94:b1:0a:de:9b:ca</td>\n",
       "      <td>False</td>\n",
       "      <td>PROBING</td>\n",
       "      <td>SDE1-02</td>\n",
       "      <td>1588.27</td>\n",
       "      <td>382.58</td>\n",
       "      <td>2016-04-16T02:40:00.328+0800</td>\n",
       "      <td>2016-04-16T02:38:26.409+0800</td>\n",
       "      <td>2016-04-16T02:38:26.409+0800</td>\n",
       "      <td>0.0</td>\n",
       "    </tr>\n",
       "    <tr>\n",
       "      <th>2</th>\n",
       "      <td>2016-04-16 02:45:01</td>\n",
       "      <td>94:b1:0a:de:9b:ca</td>\n",
       "      <td>False</td>\n",
       "      <td>PROBING</td>\n",
       "      <td>SDE1-02</td>\n",
       "      <td>1588.27</td>\n",
       "      <td>382.58</td>\n",
       "      <td>2016-04-16T02:45:00.530+0800</td>\n",
       "      <td>2016-04-16T02:38:26.409+0800</td>\n",
       "      <td>2016-04-16T02:38:26.409+0800</td>\n",
       "      <td>0.0</td>\n",
       "    </tr>\n",
       "    <tr>\n",
       "      <th>3</th>\n",
       "      <td>2016-04-16 07:50:01</td>\n",
       "      <td>84:55:a5:70:d1:eb</td>\n",
       "      <td>False</td>\n",
       "      <td>PROBING</td>\n",
       "      <td>SDE1-02</td>\n",
       "      <td>1582.69</td>\n",
       "      <td>382.87</td>\n",
       "      <td>2016-04-16T07:49:57.232+0800</td>\n",
       "      <td>2016-04-16T07:48:14.620+0800</td>\n",
       "      <td>2016-04-16T07:48:14.620+0800</td>\n",
       "      <td>0.0</td>\n",
       "    </tr>\n",
       "    <tr>\n",
       "      <th>4</th>\n",
       "      <td>2016-04-16 07:55:01</td>\n",
       "      <td>84:55:a5:70:d1:eb</td>\n",
       "      <td>False</td>\n",
       "      <td>PROBING</td>\n",
       "      <td>SDE1-02</td>\n",
       "      <td>1582.69</td>\n",
       "      <td>382.87</td>\n",
       "      <td>2016-04-16T07:54:57.483+0800</td>\n",
       "      <td>2016-04-16T07:48:14.620+0800</td>\n",
       "      <td>2016-04-16T07:48:14.620+0800</td>\n",
       "      <td>0.0</td>\n",
       "    </tr>\n",
       "  </tbody>\n",
       "</table>\n",
       "</div>"
      ],
      "text/plain": [
       "                sgtime                mac guestid status_info    bldid  \\\n",
       "0  2016-04-16 00:00:01  e8:50:8b:94:67:3b   False     PROBING  SDE1-02   \n",
       "1  2016-04-16 02:40:01  94:b1:0a:de:9b:ca   False     PROBING  SDE1-02   \n",
       "2  2016-04-16 02:45:01  94:b1:0a:de:9b:ca   False     PROBING  SDE1-02   \n",
       "3  2016-04-16 07:50:01  84:55:a5:70:d1:eb   False     PROBING  SDE1-02   \n",
       "4  2016-04-16 07:55:01  84:55:a5:70:d1:eb   False     PROBING  SDE1-02   \n",
       "\n",
       "      xcor    ycor             currentservertime  \\\n",
       "0  1588.27  382.58  2016-04-15T23:59:47.573+0800   \n",
       "1  1588.27  382.58  2016-04-16T02:40:00.328+0800   \n",
       "2  1588.27  382.58  2016-04-16T02:45:00.530+0800   \n",
       "3  1582.69  382.87  2016-04-16T07:49:57.232+0800   \n",
       "4  1582.69  382.87  2016-04-16T07:54:57.483+0800   \n",
       "\n",
       "               firstlocatedtime               lastlocatedtime  interval  \n",
       "0  2016-04-15T23:56:54.444+0800  2016-04-15T23:57:14.518+0800      20.0  \n",
       "1  2016-04-16T02:38:26.409+0800  2016-04-16T02:38:26.409+0800       0.0  \n",
       "2  2016-04-16T02:38:26.409+0800  2016-04-16T02:38:26.409+0800       0.0  \n",
       "3  2016-04-16T07:48:14.620+0800  2016-04-16T07:48:14.620+0800       0.0  \n",
       "4  2016-04-16T07:48:14.620+0800  2016-04-16T07:48:14.620+0800       0.0  "
      ]
     },
     "execution_count": 33,
     "metadata": {},
     "output_type": "execute_result"
    }
   ],
   "source": [
    "test_inx.head()"
   ]
  },
  {
   "cell_type": "markdown",
   "metadata": {},
   "source": [
    "### Make timestamp | Add building id as index"
   ]
  },
  {
   "cell_type": "code",
   "execution_count": 34,
   "metadata": {
    "collapsed": true
   },
   "outputs": [],
   "source": [
    "t1 = b3_4[\"sgtime\"].copy()\n",
    "ts = pd.to_datetime(t1,infer_datetime_format=True)"
   ]
  },
  {
   "cell_type": "code",
   "execution_count": null,
   "metadata": {
    "collapsed": true
   },
   "outputs": [],
   "source": [
    "test_inx.drop(['sgtime','guestid','currentservertime'], axis=1, inplace=True)"
   ]
  },
  {
   "cell_type": "code",
   "execution_count": null,
   "metadata": {
    "collapsed": true
   },
   "outputs": [],
   "source": [
    "test_inx.index = ts"
   ]
  },
  {
   "cell_type": "code",
   "execution_count": 37,
   "metadata": {
    "collapsed": false
   },
   "outputs": [
    {
     "data": {
      "text/html": [
       "<div>\n",
       "<table border=\"1\" class=\"dataframe\">\n",
       "  <thead>\n",
       "    <tr style=\"text-align: right;\">\n",
       "      <th></th>\n",
       "      <th>mac</th>\n",
       "      <th>status_info</th>\n",
       "      <th>bldid</th>\n",
       "      <th>xcor</th>\n",
       "      <th>ycor</th>\n",
       "      <th>firstlocatedtime</th>\n",
       "      <th>lastlocatedtime</th>\n",
       "      <th>interval</th>\n",
       "    </tr>\n",
       "    <tr>\n",
       "      <th>sgtime</th>\n",
       "      <th></th>\n",
       "      <th></th>\n",
       "      <th></th>\n",
       "      <th></th>\n",
       "      <th></th>\n",
       "      <th></th>\n",
       "      <th></th>\n",
       "      <th></th>\n",
       "    </tr>\n",
       "  </thead>\n",
       "  <tbody>\n",
       "    <tr>\n",
       "      <th>2016-04-16 00:00:01</th>\n",
       "      <td>e8:50:8b:94:67:3b</td>\n",
       "      <td>PROBING</td>\n",
       "      <td>SDE1-02</td>\n",
       "      <td>1588.27</td>\n",
       "      <td>382.58</td>\n",
       "      <td>2016-04-15T23:56:54.444+0800</td>\n",
       "      <td>2016-04-15T23:57:14.518+0800</td>\n",
       "      <td>20.0</td>\n",
       "    </tr>\n",
       "    <tr>\n",
       "      <th>2016-04-16 02:40:01</th>\n",
       "      <td>94:b1:0a:de:9b:ca</td>\n",
       "      <td>PROBING</td>\n",
       "      <td>SDE1-02</td>\n",
       "      <td>1588.27</td>\n",
       "      <td>382.58</td>\n",
       "      <td>2016-04-16T02:38:26.409+0800</td>\n",
       "      <td>2016-04-16T02:38:26.409+0800</td>\n",
       "      <td>0.0</td>\n",
       "    </tr>\n",
       "    <tr>\n",
       "      <th>2016-04-16 02:45:01</th>\n",
       "      <td>94:b1:0a:de:9b:ca</td>\n",
       "      <td>PROBING</td>\n",
       "      <td>SDE1-02</td>\n",
       "      <td>1588.27</td>\n",
       "      <td>382.58</td>\n",
       "      <td>2016-04-16T02:38:26.409+0800</td>\n",
       "      <td>2016-04-16T02:38:26.409+0800</td>\n",
       "      <td>0.0</td>\n",
       "    </tr>\n",
       "    <tr>\n",
       "      <th>2016-04-16 07:50:01</th>\n",
       "      <td>84:55:a5:70:d1:eb</td>\n",
       "      <td>PROBING</td>\n",
       "      <td>SDE1-02</td>\n",
       "      <td>1582.69</td>\n",
       "      <td>382.87</td>\n",
       "      <td>2016-04-16T07:48:14.620+0800</td>\n",
       "      <td>2016-04-16T07:48:14.620+0800</td>\n",
       "      <td>0.0</td>\n",
       "    </tr>\n",
       "    <tr>\n",
       "      <th>2016-04-16 07:55:01</th>\n",
       "      <td>84:55:a5:70:d1:eb</td>\n",
       "      <td>PROBING</td>\n",
       "      <td>SDE1-02</td>\n",
       "      <td>1582.69</td>\n",
       "      <td>382.87</td>\n",
       "      <td>2016-04-16T07:48:14.620+0800</td>\n",
       "      <td>2016-04-16T07:48:14.620+0800</td>\n",
       "      <td>0.0</td>\n",
       "    </tr>\n",
       "  </tbody>\n",
       "</table>\n",
       "</div>"
      ],
      "text/plain": [
       "                                   mac status_info    bldid     xcor    ycor  \\\n",
       "sgtime                                                                         \n",
       "2016-04-16 00:00:01  e8:50:8b:94:67:3b     PROBING  SDE1-02  1588.27  382.58   \n",
       "2016-04-16 02:40:01  94:b1:0a:de:9b:ca     PROBING  SDE1-02  1588.27  382.58   \n",
       "2016-04-16 02:45:01  94:b1:0a:de:9b:ca     PROBING  SDE1-02  1588.27  382.58   \n",
       "2016-04-16 07:50:01  84:55:a5:70:d1:eb     PROBING  SDE1-02  1582.69  382.87   \n",
       "2016-04-16 07:55:01  84:55:a5:70:d1:eb     PROBING  SDE1-02  1582.69  382.87   \n",
       "\n",
       "                                 firstlocatedtime  \\\n",
       "sgtime                                              \n",
       "2016-04-16 00:00:01  2016-04-15T23:56:54.444+0800   \n",
       "2016-04-16 02:40:01  2016-04-16T02:38:26.409+0800   \n",
       "2016-04-16 02:45:01  2016-04-16T02:38:26.409+0800   \n",
       "2016-04-16 07:50:01  2016-04-16T07:48:14.620+0800   \n",
       "2016-04-16 07:55:01  2016-04-16T07:48:14.620+0800   \n",
       "\n",
       "                                  lastlocatedtime  interval  \n",
       "sgtime                                                       \n",
       "2016-04-16 00:00:01  2016-04-15T23:57:14.518+0800      20.0  \n",
       "2016-04-16 02:40:01  2016-04-16T02:38:26.409+0800       0.0  \n",
       "2016-04-16 02:45:01  2016-04-16T02:38:26.409+0800       0.0  \n",
       "2016-04-16 07:50:01  2016-04-16T07:48:14.620+0800       0.0  \n",
       "2016-04-16 07:55:01  2016-04-16T07:48:14.620+0800       0.0  "
      ]
     },
     "execution_count": 37,
     "metadata": {},
     "output_type": "execute_result"
    }
   ],
   "source": [
    "test_inx.head() #drop guestid, sgtime, current_time in column"
   ]
  },
  {
   "cell_type": "markdown",
   "metadata": {},
   "source": [
    "## write the total file with test_inx in it"
   ]
  },
  {
   "cell_type": "code",
   "execution_count": null,
   "metadata": {
    "collapsed": true
   },
   "outputs": [],
   "source": [
    "test_inx.to_csv('/Users/AAA218/Desktop/ami_sg/Stamp.csv')"
   ]
  },
  {
   "cell_type": "code",
   "execution_count": 4,
   "metadata": {
    "collapsed": true
   },
   "outputs": [],
   "source": [
    "new = pd.read_csv('/Users/AAA218/Desktop/ami_sg/Stamp.csv',header = 0, sep=\",\",index_col=0,infer_datetime_format=True,low_memory=False)"
   ]
  },
  {
   "cell_type": "code",
   "execution_count": null,
   "metadata": {
    "collapsed": true
   },
   "outputs": [],
   "source": [
    "# set the building id into index(omitted)\n",
    "test_inx.set_index(test_inx[\"bldid\"], append = True, inplace = True)"
   ]
  },
  {
   "cell_type": "code",
   "execution_count": 5,
   "metadata": {
    "collapsed": false
   },
   "outputs": [
    {
     "data": {
      "text/html": [
       "<div>\n",
       "<table border=\"1\" class=\"dataframe\">\n",
       "  <thead>\n",
       "    <tr style=\"text-align: right;\">\n",
       "      <th></th>\n",
       "      <th>mac</th>\n",
       "      <th>status_info</th>\n",
       "      <th>bldid</th>\n",
       "      <th>xcor</th>\n",
       "      <th>ycor</th>\n",
       "      <th>firstlocatedtime</th>\n",
       "      <th>lastlocatedtime</th>\n",
       "      <th>interval</th>\n",
       "    </tr>\n",
       "    <tr>\n",
       "      <th>sgtime</th>\n",
       "      <th></th>\n",
       "      <th></th>\n",
       "      <th></th>\n",
       "      <th></th>\n",
       "      <th></th>\n",
       "      <th></th>\n",
       "      <th></th>\n",
       "      <th></th>\n",
       "    </tr>\n",
       "  </thead>\n",
       "  <tbody>\n",
       "    <tr>\n",
       "      <th>2016-04-16 00:00:01</th>\n",
       "      <td>e8:50:8b:94:67:3b</td>\n",
       "      <td>PROBING</td>\n",
       "      <td>SDE1-02</td>\n",
       "      <td>1588.27</td>\n",
       "      <td>382.58</td>\n",
       "      <td>2016-04-15T23:56:54.444+0800</td>\n",
       "      <td>2016-04-15T23:57:14.518+0800</td>\n",
       "      <td>20.0</td>\n",
       "    </tr>\n",
       "    <tr>\n",
       "      <th>2016-04-16 02:40:01</th>\n",
       "      <td>94:b1:0a:de:9b:ca</td>\n",
       "      <td>PROBING</td>\n",
       "      <td>SDE1-02</td>\n",
       "      <td>1588.27</td>\n",
       "      <td>382.58</td>\n",
       "      <td>2016-04-16T02:38:26.409+0800</td>\n",
       "      <td>2016-04-16T02:38:26.409+0800</td>\n",
       "      <td>0.0</td>\n",
       "    </tr>\n",
       "    <tr>\n",
       "      <th>2016-04-16 02:45:01</th>\n",
       "      <td>94:b1:0a:de:9b:ca</td>\n",
       "      <td>PROBING</td>\n",
       "      <td>SDE1-02</td>\n",
       "      <td>1588.27</td>\n",
       "      <td>382.58</td>\n",
       "      <td>2016-04-16T02:38:26.409+0800</td>\n",
       "      <td>2016-04-16T02:38:26.409+0800</td>\n",
       "      <td>0.0</td>\n",
       "    </tr>\n",
       "    <tr>\n",
       "      <th>2016-04-16 07:50:01</th>\n",
       "      <td>84:55:a5:70:d1:eb</td>\n",
       "      <td>PROBING</td>\n",
       "      <td>SDE1-02</td>\n",
       "      <td>1582.69</td>\n",
       "      <td>382.87</td>\n",
       "      <td>2016-04-16T07:48:14.620+0800</td>\n",
       "      <td>2016-04-16T07:48:14.620+0800</td>\n",
       "      <td>0.0</td>\n",
       "    </tr>\n",
       "    <tr>\n",
       "      <th>2016-04-16 07:55:01</th>\n",
       "      <td>84:55:a5:70:d1:eb</td>\n",
       "      <td>PROBING</td>\n",
       "      <td>SDE1-02</td>\n",
       "      <td>1582.69</td>\n",
       "      <td>382.87</td>\n",
       "      <td>2016-04-16T07:48:14.620+0800</td>\n",
       "      <td>2016-04-16T07:48:14.620+0800</td>\n",
       "      <td>0.0</td>\n",
       "    </tr>\n",
       "  </tbody>\n",
       "</table>\n",
       "</div>"
      ],
      "text/plain": [
       "                                   mac status_info    bldid     xcor    ycor  \\\n",
       "sgtime                                                                         \n",
       "2016-04-16 00:00:01  e8:50:8b:94:67:3b     PROBING  SDE1-02  1588.27  382.58   \n",
       "2016-04-16 02:40:01  94:b1:0a:de:9b:ca     PROBING  SDE1-02  1588.27  382.58   \n",
       "2016-04-16 02:45:01  94:b1:0a:de:9b:ca     PROBING  SDE1-02  1588.27  382.58   \n",
       "2016-04-16 07:50:01  84:55:a5:70:d1:eb     PROBING  SDE1-02  1582.69  382.87   \n",
       "2016-04-16 07:55:01  84:55:a5:70:d1:eb     PROBING  SDE1-02  1582.69  382.87   \n",
       "\n",
       "                                 firstlocatedtime  \\\n",
       "sgtime                                              \n",
       "2016-04-16 00:00:01  2016-04-15T23:56:54.444+0800   \n",
       "2016-04-16 02:40:01  2016-04-16T02:38:26.409+0800   \n",
       "2016-04-16 02:45:01  2016-04-16T02:38:26.409+0800   \n",
       "2016-04-16 07:50:01  2016-04-16T07:48:14.620+0800   \n",
       "2016-04-16 07:55:01  2016-04-16T07:48:14.620+0800   \n",
       "\n",
       "                                  lastlocatedtime  interval  \n",
       "sgtime                                                       \n",
       "2016-04-16 00:00:01  2016-04-15T23:57:14.518+0800      20.0  \n",
       "2016-04-16 02:40:01  2016-04-16T02:38:26.409+0800       0.0  \n",
       "2016-04-16 02:45:01  2016-04-16T02:38:26.409+0800       0.0  \n",
       "2016-04-16 07:50:01  2016-04-16T07:48:14.620+0800       0.0  \n",
       "2016-04-16 07:55:01  2016-04-16T07:48:14.620+0800       0.0  "
      ]
     },
     "execution_count": 5,
     "metadata": {},
     "output_type": "execute_result"
    }
   ],
   "source": [
    "new.head()"
   ]
  },
  {
   "cell_type": "markdown",
   "metadata": {},
   "source": [
    "#### show the sample sizes every sampling buildings"
   ]
  },
  {
   "cell_type": "code",
   "execution_count": 41,
   "metadata": {
    "collapsed": false
   },
   "outputs": [
    {
     "name": "stdout",
     "output_type": "stream",
     "text": [
      "                 mac    status_info           xcor           ycor  \\\n",
      "count      11.000000      11.000000      11.000000      11.000000   \n",
      "mean   240959.363636  240959.363636  240959.363636  240959.363636   \n",
      "std    149381.398918  149381.398918  149381.398918  149381.398918   \n",
      "min      5684.000000    5684.000000    5684.000000    5684.000000   \n",
      "25%    155983.000000  155983.000000  155983.000000  155983.000000   \n",
      "50%    202295.000000  202295.000000  202295.000000  202295.000000   \n",
      "75%    375301.000000  375301.000000  375301.000000  375301.000000   \n",
      "max    448547.000000  448547.000000  448547.000000  448547.000000   \n",
      "\n",
      "       firstlocatedtime  lastlocatedtime       interval  \n",
      "count         11.000000        11.000000      11.000000  \n",
      "mean      240959.363636    240959.363636  240959.363636  \n",
      "std       149381.398918    149381.398918  149381.398918  \n",
      "min         5684.000000      5684.000000    5684.000000  \n",
      "25%       155983.000000    155983.000000  155983.000000  \n",
      "50%       202295.000000    202295.000000  202295.000000  \n",
      "75%       375301.000000    375301.000000  375301.000000  \n",
      "max       448547.000000    448547.000000  448547.000000  \n"
     ]
    }
   ],
   "source": [
    "a = test_inx.groupby(\"bldid\").count().describe()\n",
    "print a"
   ]
  },
  {
   "cell_type": "markdown",
   "metadata": {},
   "source": [
    "#### show the size of samples in each interval"
   ]
  },
  {
   "cell_type": "code",
   "execution_count": 42,
   "metadata": {
    "collapsed": false
   },
   "outputs": [
    {
     "data": {
      "text/plain": [
       "count    5136.000000\n",
       "mean      516.073403\n",
       "std       232.968263\n",
       "min        62.000000\n",
       "25%       339.000000\n",
       "50%       556.000000\n",
       "75%       712.000000\n",
       "max       940.000000\n",
       "dtype: float64"
      ]
     },
     "execution_count": 42,
     "metadata": {},
     "output_type": "execute_result"
    }
   ],
   "source": [
    "test_inx[\"xcor\"].groupby(level=0).count().describe()"
   ]
  },
  {
   "cell_type": "markdown",
   "metadata": {},
   "source": [
    "### Proportion of different status"
   ]
  },
  {
   "cell_type": "code",
   "execution_count": 43,
   "metadata": {
    "collapsed": false
   },
   "outputs": [
    {
     "name": "stdout",
     "output_type": "stream",
     "text": [
      "probing---- 1066168\n",
      "associated---- 1584342\n",
      "unknown---- 43\n"
     ]
    }
   ],
   "source": [
    "prob = test_inx[test_inx[\"status_info\"] == \"PROBING\"].copy()\n",
    "associate = test_inx[test_inx['status_info'] == 'ASSOCIATED'].copy()\n",
    "unknown = test_inx[test_inx['status_info'] == 'UNKNOWN'].copy()\n",
    "print \"probing----\",prob.shape[0]\n",
    "print \"associated----\",associate.shape[0]\n",
    "print 'unknown----',unknown.shape[0]"
   ]
  },
  {
   "cell_type": "markdown",
   "metadata": {},
   "source": [
    "#### Generate pie chart for status"
   ]
  },
  {
   "cell_type": "code",
   "execution_count": null,
   "metadata": {
    "collapsed": true
   },
   "outputs": [],
   "source": [
    "import matplotlib.pyplot as plt\n",
    "labels = 'Probing', 'Associated', 'Unknown'\n",
    "sizes = [1066168, 1584342, 43]    # 40.2; 59.8; 0\n",
    "colors = ['yellowgreen', 'lightskyblue' ,'lightcoral']\n",
    "explode = (0, 0, 0.1)  # explode 1st slice\n",
    " \n",
    "# Plot\n",
    "plt.pie(sizes, explode=explode, labels=labels, colors=colors,\n",
    "        autopct='%1.1f%%', shadow=True, startangle=140)\n",
    "plt.title('Percentages of different status')\n",
    "plt.axis('equal')\n",
    "plt.show()"
   ]
  },
  {
   "cell_type": "markdown",
   "metadata": {},
   "source": [
    "### Examine out of room samples\n",
    "* input building sizes"
   ]
  },
  {
   "cell_type": "code",
   "execution_count": 1,
   "metadata": {
    "collapsed": true
   },
   "outputs": [],
   "source": [
    "dim = {\"SDE1-02\":[1227.0858,1730.8369],\n",
    "\"SDE1-03\":[275.0,394.0],\n",
    "\"SDE1-04\":[1065.6272,1503.0952],\n",
    "\"SDE1-05\":[1227.0858,1730.8369],\n",
    "\"SDE2-01\":[671.634,948.0622],\n",
    "\"SDE2-02\":[736.25146,1038.5022],\n",
    "\"SDE2-03\":[673.7935,951.3015],\n",
    "\"SDE3-01\" :[1214.772,1734.6945],\n",
    "\"SDE3-02\": [2018.2332,2882.037],\n",
    "\"SDE3-03\" :[1345.4888,1921.358],\n",
    "\"SDE3-04\":[683.8,474.7]} #[length,width]=> [ycor,xcor]"
   ]
  },
  {
   "cell_type": "markdown",
   "metadata": {},
   "source": [
    "* Function apply to each row, check and generate a series (1 means in)"
   ]
  },
  {
   "cell_type": "code",
   "execution_count": 2,
   "metadata": {
    "collapsed": false
   },
   "outputs": [],
   "source": [
    "def out_dim(s):\n",
    "    bld = str(s[\"bldid\"])\n",
    "    if(0< s[\"xcor\"] <= dim[bld][1] and 0< s[\"ycor\"] <= dim[bld][0]):\n",
    "            return pd.Series(dict(out=0))\n",
    "    else: \n",
    "            return pd.Series(dict(out=1))"
   ]
  },
  {
   "cell_type": "markdown",
   "metadata": {},
   "source": [
    "* test sample output"
   ]
  },
  {
   "cell_type": "code",
   "execution_count": 48,
   "metadata": {
    "collapsed": false
   },
   "outputs": [
    {
     "name": "stdout",
     "output_type": "stream",
     "text": [
      "                        xcor    ycor status_info\n",
      "sgtime                                          \n",
      "2016-04-16 09:55:01  1562.13  383.85  ASSOCIATED\n",
      "2016-04-16 10:00:02  1562.13  383.85  ASSOCIATED\n",
      "2016-04-16 10:30:02  1539.80  384.90  ASSOCIATED\n",
      "2016-04-16 10:30:02  1536.50  385.03  ASSOCIATED\n",
      "2016-04-16 10:35:01  1539.80  384.89  ASSOCIATED\n",
      "2016-04-16 10:40:02  1539.86  384.89  ASSOCIATED\n",
      "2016-04-16 10:40:02  1550.70  384.36  ASSOCIATED\n",
      "2016-04-16 10:45:01  1539.73  384.90  ASSOCIATED\n",
      "2016-04-16 10:50:02  1536.52  385.02  ASSOCIATED\n",
      "2016-04-16 10:50:02  1547.01  384.53  ASSOCIATED\n",
      "2016-04-16 17:00:02  1582.69  382.87  ASSOCIATED\n",
      "2016-04-16 17:45:01  1539.58  387.21  ASSOCIATED\n",
      "2016-04-16 18:20:02  1574.37  383.28  ASSOCIATED\n",
      "2016-04-16 21:20:01  1566.70  383.64  ASSOCIATED\n",
      "2016-04-17 00:45:02  1562.13  383.85  ASSOCIATED\n",
      "2016-04-17 10:50:01  1579.88  383.01  ASSOCIATED\n",
      "2016-04-17 10:55:01  1579.88  383.01  ASSOCIATED\n",
      "2016-04-17 12:05:02  1571.72  383.40  ASSOCIATED\n",
      "2016-04-17 12:10:01  1571.72  383.40  ASSOCIATED\n",
      "                        xcor    ycor  status_info\n",
      "sgtime                                           \n",
      "2016-04-16 09:55:01  1562.13  383.85            1\n",
      "2016-04-16 10:00:02  1562.13  383.85            1\n",
      "2016-04-16 10:30:02  1539.80  384.90            1\n",
      "2016-04-16 10:30:02  1536.50  385.03            1\n",
      "2016-04-16 10:35:01  1539.80  384.89            1\n",
      "2016-04-16 10:40:02  1539.86  384.89            1\n",
      "2016-04-16 10:40:02  1550.70  384.36            1\n",
      "2016-04-16 10:45:01  1539.73  384.90            1\n",
      "2016-04-16 10:50:02  1536.52  385.02            1\n",
      "2016-04-16 10:50:02  1547.01  384.53            1\n",
      "2016-04-16 17:00:02  1582.69  382.87            1\n",
      "2016-04-16 17:45:01  1539.58  387.21            1\n",
      "2016-04-16 18:20:02  1574.37  383.28            1\n",
      "2016-04-16 21:20:01  1566.70  383.64            1\n",
      "2016-04-17 00:45:02  1562.13  383.85            1\n",
      "2016-04-17 10:50:01  1579.88  383.01            1\n",
      "2016-04-17 10:55:01  1579.88  383.01            1\n",
      "2016-04-17 12:05:02  1571.72  383.40            1\n",
      "2016-04-17 12:10:01  1571.72  383.40            1\n"
     ]
    }
   ],
   "source": [
    "%%time\n",
    "a = associate[1:20].apply(out_dim,axis=1)\n",
    "b = associate.ix[1:20,[\"xcor\",\"ycor\",\"status_info\"]]\n",
    "print b\n",
    "b['status_info'] = a\n",
    "print b"
   ]
  },
  {
   "cell_type": "code",
   "execution_count": 49,
   "metadata": {
    "collapsed": false
   },
   "outputs": [],
   "source": [
    "%%time\n",
    "p_out = prob.apply(out_dim, axis=1)\n",
    "a_out = associate.apply(out_dim, axis=1)\n",
    "u_out = unknown.apply(out_dim,axis=1) #ran about 20 mins"
   ]
  },
  {
   "cell_type": "code",
   "execution_count": 6,
   "metadata": {
    "collapsed": true
   },
   "outputs": [],
   "source": [
    "n_out = new.apply(out_dim,axis = 1)"
   ]
  },
  {
   "cell_type": "code",
   "execution_count": 11,
   "metadata": {
    "collapsed": false
   },
   "outputs": [
    {
     "name": "stdout",
     "output_type": "stream",
     "text": [
      "                                    mac status_info    bldid     xcor    ycor  \\\n",
      "sgtime                                                                         \n",
      "2016-04-16 00:00:01  e8:50:8b:94:67:3b     PROBING  SDE1-02  1588.27  382.58   \n",
      "2016-04-16 02:40:01  94:b1:0a:de:9b:ca     PROBING  SDE1-02  1588.27  382.58   \n",
      "2016-04-16 02:45:01  94:b1:0a:de:9b:ca     PROBING  SDE1-02  1588.27  382.58   \n",
      "2016-04-16 07:50:01  84:55:a5:70:d1:eb     PROBING  SDE1-02  1582.69  382.87   \n",
      "2016-04-16 07:55:01  84:55:a5:70:d1:eb     PROBING  SDE1-02  1582.69  382.87   \n",
      "\n",
      "                                 firstlocatedtime  \\\n",
      "sgtime                                              \n",
      "2016-04-16 00:00:01  2016-04-15T23:56:54.444+0800   \n",
      "2016-04-16 02:40:01  2016-04-16T02:38:26.409+0800   \n",
      "2016-04-16 02:45:01  2016-04-16T02:38:26.409+0800   \n",
      "2016-04-16 07:50:01  2016-04-16T07:48:14.620+0800   \n",
      "2016-04-16 07:55:01  2016-04-16T07:48:14.620+0800   \n",
      "\n",
      "                                  lastlocatedtime  interval  \n",
      "sgtime                                                       \n",
      "2016-04-16 00:00:01  2016-04-15T23:57:14.518+0800      20.0  \n",
      "2016-04-16 02:40:01  2016-04-16T02:38:26.409+0800       0.0  \n",
      "2016-04-16 02:45:01  2016-04-16T02:38:26.409+0800       0.0  \n",
      "2016-04-16 07:50:01  2016-04-16T07:48:14.620+0800       0.0  \n",
      "2016-04-16 07:55:01  2016-04-16T07:48:14.620+0800       0.0                        out\n",
      "sgtime                  \n",
      "2016-04-16 00:00:01    1\n",
      "2016-04-16 02:40:01    1\n",
      "2016-04-16 02:45:01    1\n",
      "2016-04-16 07:50:01    1\n",
      "2016-04-16 07:55:01    1\n"
     ]
    }
   ],
   "source": [
    "print new.head(),n_out[0:5]"
   ]
  },
  {
   "cell_type": "markdown",
   "metadata": {},
   "source": [
    "### Parse the first/last and add the out mark/hrf/hrl\n",
    "* function for transfer the datetime and add **hrf/hrl** (need datetime & timedelta)"
   ]
  },
  {
   "cell_type": "code",
   "execution_count": 7,
   "metadata": {
    "collapsed": true
   },
   "outputs": [],
   "source": [
    "def stt(df):\n",
    "    fir = df[\"firstlocatedtime\"].copy()\n",
    "    las = df[\"lastlocatedtime\"].copy()\n",
    "    f = lambda x : datetime.strptime(x[0:19],'%Y-%m-%dT%H:%M:%S')\n",
    "    fir1 = fir.map(f)\n",
    "    las1 = las.map(f)\n",
    "    hrf = fir1.map(lambda x: x.hour)\n",
    "    hrl = las1.map(lambda x: x.hour)\n",
    "    df.loc[:,\"firstlocatedtime\"]=fir1\n",
    "    df.loc[:,\"lastlocatedtime\"]=las1\n",
    "    df.loc[:,\"hrfir\"]=hrf\n",
    "    df.loc[:,\"hrlas\"]=hrl\n",
    "    return df"
   ]
  },
  {
   "cell_type": "markdown",
   "metadata": {},
   "source": [
    "* apply to the __probing__ and __associated__"
   ]
  },
  {
   "cell_type": "code",
   "execution_count": null,
   "metadata": {
    "collapsed": true
   },
   "outputs": [],
   "source": [
    "prob1 = stt(prob)\n",
    "assoc1 = stt(associate)\n",
    "prob1.to_csv('/Users/AAA218/Desktop/ami_sg/probing.csv')\n",
    "assoc1.to_csv('/Users/AAA218/Desktop/ami_sg/associate.csv')"
   ]
  },
  {
   "cell_type": "markdown",
   "metadata": {},
   "source": [
    "* apply to the whole and write"
   ]
  },
  {
   "cell_type": "code",
   "execution_count": 12,
   "metadata": {
    "collapsed": false
   },
   "outputs": [
    {
     "data": {
      "text/html": [
       "<div>\n",
       "<table border=\"1\" class=\"dataframe\">\n",
       "  <thead>\n",
       "    <tr style=\"text-align: right;\">\n",
       "      <th></th>\n",
       "      <th>mac</th>\n",
       "      <th>status_info</th>\n",
       "      <th>bldid</th>\n",
       "      <th>xcor</th>\n",
       "      <th>ycor</th>\n",
       "      <th>firstlocatedtime</th>\n",
       "      <th>lastlocatedtime</th>\n",
       "      <th>interval</th>\n",
       "      <th>hrfir</th>\n",
       "      <th>hrlas</th>\n",
       "    </tr>\n",
       "    <tr>\n",
       "      <th>sgtime</th>\n",
       "      <th></th>\n",
       "      <th></th>\n",
       "      <th></th>\n",
       "      <th></th>\n",
       "      <th></th>\n",
       "      <th></th>\n",
       "      <th></th>\n",
       "      <th></th>\n",
       "      <th></th>\n",
       "      <th></th>\n",
       "    </tr>\n",
       "  </thead>\n",
       "  <tbody>\n",
       "    <tr>\n",
       "      <th>2016-04-16 00:00:01</th>\n",
       "      <td>e8:50:8b:94:67:3b</td>\n",
       "      <td>PROBING</td>\n",
       "      <td>SDE1-02</td>\n",
       "      <td>1588.27</td>\n",
       "      <td>382.58</td>\n",
       "      <td>2016-04-15 23:56:54</td>\n",
       "      <td>2016-04-15 23:57:14</td>\n",
       "      <td>20.0</td>\n",
       "      <td>23</td>\n",
       "      <td>23</td>\n",
       "    </tr>\n",
       "    <tr>\n",
       "      <th>2016-04-16 02:40:01</th>\n",
       "      <td>94:b1:0a:de:9b:ca</td>\n",
       "      <td>PROBING</td>\n",
       "      <td>SDE1-02</td>\n",
       "      <td>1588.27</td>\n",
       "      <td>382.58</td>\n",
       "      <td>2016-04-16 02:38:26</td>\n",
       "      <td>2016-04-16 02:38:26</td>\n",
       "      <td>0.0</td>\n",
       "      <td>2</td>\n",
       "      <td>2</td>\n",
       "    </tr>\n",
       "    <tr>\n",
       "      <th>2016-04-16 02:45:01</th>\n",
       "      <td>94:b1:0a:de:9b:ca</td>\n",
       "      <td>PROBING</td>\n",
       "      <td>SDE1-02</td>\n",
       "      <td>1588.27</td>\n",
       "      <td>382.58</td>\n",
       "      <td>2016-04-16 02:38:26</td>\n",
       "      <td>2016-04-16 02:38:26</td>\n",
       "      <td>0.0</td>\n",
       "      <td>2</td>\n",
       "      <td>2</td>\n",
       "    </tr>\n",
       "    <tr>\n",
       "      <th>2016-04-16 07:50:01</th>\n",
       "      <td>84:55:a5:70:d1:eb</td>\n",
       "      <td>PROBING</td>\n",
       "      <td>SDE1-02</td>\n",
       "      <td>1582.69</td>\n",
       "      <td>382.87</td>\n",
       "      <td>2016-04-16 07:48:14</td>\n",
       "      <td>2016-04-16 07:48:14</td>\n",
       "      <td>0.0</td>\n",
       "      <td>7</td>\n",
       "      <td>7</td>\n",
       "    </tr>\n",
       "    <tr>\n",
       "      <th>2016-04-16 07:55:01</th>\n",
       "      <td>84:55:a5:70:d1:eb</td>\n",
       "      <td>PROBING</td>\n",
       "      <td>SDE1-02</td>\n",
       "      <td>1582.69</td>\n",
       "      <td>382.87</td>\n",
       "      <td>2016-04-16 07:48:14</td>\n",
       "      <td>2016-04-16 07:48:14</td>\n",
       "      <td>0.0</td>\n",
       "      <td>7</td>\n",
       "      <td>7</td>\n",
       "    </tr>\n",
       "  </tbody>\n",
       "</table>\n",
       "</div>"
      ],
      "text/plain": [
       "                                   mac status_info    bldid     xcor    ycor  \\\n",
       "sgtime                                                                         \n",
       "2016-04-16 00:00:01  e8:50:8b:94:67:3b     PROBING  SDE1-02  1588.27  382.58   \n",
       "2016-04-16 02:40:01  94:b1:0a:de:9b:ca     PROBING  SDE1-02  1588.27  382.58   \n",
       "2016-04-16 02:45:01  94:b1:0a:de:9b:ca     PROBING  SDE1-02  1588.27  382.58   \n",
       "2016-04-16 07:50:01  84:55:a5:70:d1:eb     PROBING  SDE1-02  1582.69  382.87   \n",
       "2016-04-16 07:55:01  84:55:a5:70:d1:eb     PROBING  SDE1-02  1582.69  382.87   \n",
       "\n",
       "                       firstlocatedtime     lastlocatedtime  interval  hrfir  \\\n",
       "sgtime                                                                         \n",
       "2016-04-16 00:00:01 2016-04-15 23:56:54 2016-04-15 23:57:14      20.0     23   \n",
       "2016-04-16 02:40:01 2016-04-16 02:38:26 2016-04-16 02:38:26       0.0      2   \n",
       "2016-04-16 02:45:01 2016-04-16 02:38:26 2016-04-16 02:38:26       0.0      2   \n",
       "2016-04-16 07:50:01 2016-04-16 07:48:14 2016-04-16 07:48:14       0.0      7   \n",
       "2016-04-16 07:55:01 2016-04-16 07:48:14 2016-04-16 07:48:14       0.0      7   \n",
       "\n",
       "                     hrlas  \n",
       "sgtime                      \n",
       "2016-04-16 00:00:01     23  \n",
       "2016-04-16 02:40:01      2  \n",
       "2016-04-16 02:45:01      2  \n",
       "2016-04-16 07:50:01      7  \n",
       "2016-04-16 07:55:01      7  "
      ]
     },
     "execution_count": 12,
     "metadata": {},
     "output_type": "execute_result"
    }
   ],
   "source": [
    "new1 = stt(new)\n",
    "new1.head()"
   ]
  },
  {
   "cell_type": "code",
   "execution_count": 15,
   "metadata": {
    "collapsed": false
   },
   "outputs": [
    {
     "data": {
      "text/html": [
       "<div>\n",
       "<table border=\"1\" class=\"dataframe\">\n",
       "  <thead>\n",
       "    <tr style=\"text-align: right;\">\n",
       "      <th></th>\n",
       "      <th>mac</th>\n",
       "      <th>status_info</th>\n",
       "      <th>bldid</th>\n",
       "      <th>xcor</th>\n",
       "      <th>ycor</th>\n",
       "      <th>firstlocatedtime</th>\n",
       "      <th>lastlocatedtime</th>\n",
       "      <th>interval</th>\n",
       "      <th>hrfir</th>\n",
       "      <th>hrlas</th>\n",
       "      <th>out</th>\n",
       "    </tr>\n",
       "    <tr>\n",
       "      <th>sgtime</th>\n",
       "      <th></th>\n",
       "      <th></th>\n",
       "      <th></th>\n",
       "      <th></th>\n",
       "      <th></th>\n",
       "      <th></th>\n",
       "      <th></th>\n",
       "      <th></th>\n",
       "      <th></th>\n",
       "      <th></th>\n",
       "      <th></th>\n",
       "    </tr>\n",
       "  </thead>\n",
       "  <tbody>\n",
       "    <tr>\n",
       "      <th>2016-04-16 00:00:01</th>\n",
       "      <td>e8:50:8b:94:67:3b</td>\n",
       "      <td>PROBING</td>\n",
       "      <td>SDE1-02</td>\n",
       "      <td>1588.27</td>\n",
       "      <td>382.58</td>\n",
       "      <td>2016-04-15 23:56:54</td>\n",
       "      <td>2016-04-15 23:57:14</td>\n",
       "      <td>20.0</td>\n",
       "      <td>23</td>\n",
       "      <td>23</td>\n",
       "      <td>1</td>\n",
       "    </tr>\n",
       "    <tr>\n",
       "      <th>2016-04-16 02:40:01</th>\n",
       "      <td>94:b1:0a:de:9b:ca</td>\n",
       "      <td>PROBING</td>\n",
       "      <td>SDE1-02</td>\n",
       "      <td>1588.27</td>\n",
       "      <td>382.58</td>\n",
       "      <td>2016-04-16 02:38:26</td>\n",
       "      <td>2016-04-16 02:38:26</td>\n",
       "      <td>0.0</td>\n",
       "      <td>2</td>\n",
       "      <td>2</td>\n",
       "      <td>1</td>\n",
       "    </tr>\n",
       "    <tr>\n",
       "      <th>2016-04-16 02:45:01</th>\n",
       "      <td>94:b1:0a:de:9b:ca</td>\n",
       "      <td>PROBING</td>\n",
       "      <td>SDE1-02</td>\n",
       "      <td>1588.27</td>\n",
       "      <td>382.58</td>\n",
       "      <td>2016-04-16 02:38:26</td>\n",
       "      <td>2016-04-16 02:38:26</td>\n",
       "      <td>0.0</td>\n",
       "      <td>2</td>\n",
       "      <td>2</td>\n",
       "      <td>1</td>\n",
       "    </tr>\n",
       "    <tr>\n",
       "      <th>2016-04-16 07:50:01</th>\n",
       "      <td>84:55:a5:70:d1:eb</td>\n",
       "      <td>PROBING</td>\n",
       "      <td>SDE1-02</td>\n",
       "      <td>1582.69</td>\n",
       "      <td>382.87</td>\n",
       "      <td>2016-04-16 07:48:14</td>\n",
       "      <td>2016-04-16 07:48:14</td>\n",
       "      <td>0.0</td>\n",
       "      <td>7</td>\n",
       "      <td>7</td>\n",
       "      <td>1</td>\n",
       "    </tr>\n",
       "    <tr>\n",
       "      <th>2016-04-16 07:55:01</th>\n",
       "      <td>84:55:a5:70:d1:eb</td>\n",
       "      <td>PROBING</td>\n",
       "      <td>SDE1-02</td>\n",
       "      <td>1582.69</td>\n",
       "      <td>382.87</td>\n",
       "      <td>2016-04-16 07:48:14</td>\n",
       "      <td>2016-04-16 07:48:14</td>\n",
       "      <td>0.0</td>\n",
       "      <td>7</td>\n",
       "      <td>7</td>\n",
       "      <td>1</td>\n",
       "    </tr>\n",
       "  </tbody>\n",
       "</table>\n",
       "</div>"
      ],
      "text/plain": [
       "                                   mac status_info    bldid     xcor    ycor  \\\n",
       "sgtime                                                                         \n",
       "2016-04-16 00:00:01  e8:50:8b:94:67:3b     PROBING  SDE1-02  1588.27  382.58   \n",
       "2016-04-16 02:40:01  94:b1:0a:de:9b:ca     PROBING  SDE1-02  1588.27  382.58   \n",
       "2016-04-16 02:45:01  94:b1:0a:de:9b:ca     PROBING  SDE1-02  1588.27  382.58   \n",
       "2016-04-16 07:50:01  84:55:a5:70:d1:eb     PROBING  SDE1-02  1582.69  382.87   \n",
       "2016-04-16 07:55:01  84:55:a5:70:d1:eb     PROBING  SDE1-02  1582.69  382.87   \n",
       "\n",
       "                       firstlocatedtime     lastlocatedtime  interval  hrfir  \\\n",
       "sgtime                                                                         \n",
       "2016-04-16 00:00:01 2016-04-15 23:56:54 2016-04-15 23:57:14      20.0     23   \n",
       "2016-04-16 02:40:01 2016-04-16 02:38:26 2016-04-16 02:38:26       0.0      2   \n",
       "2016-04-16 02:45:01 2016-04-16 02:38:26 2016-04-16 02:38:26       0.0      2   \n",
       "2016-04-16 07:50:01 2016-04-16 07:48:14 2016-04-16 07:48:14       0.0      7   \n",
       "2016-04-16 07:55:01 2016-04-16 07:48:14 2016-04-16 07:48:14       0.0      7   \n",
       "\n",
       "                     hrlas  out  \n",
       "sgtime                           \n",
       "2016-04-16 00:00:01     23    1  \n",
       "2016-04-16 02:40:01      2    1  \n",
       "2016-04-16 02:45:01      2    1  \n",
       "2016-04-16 07:50:01      7    1  \n",
       "2016-04-16 07:55:01      7    1  "
      ]
     },
     "execution_count": 15,
     "metadata": {},
     "output_type": "execute_result"
    }
   ],
   "source": [
    "new.loc[:,'out']=n_out\n",
    "new.head()"
   ]
  },
  {
   "cell_type": "code",
   "execution_count": 16,
   "metadata": {
    "collapsed": true
   },
   "outputs": [],
   "source": [
    "new.to_csv('/Users/AAA218/Desktop/ami_sg/new_all.csv')"
   ]
  },
  {
   "cell_type": "code",
   "execution_count": 50,
   "metadata": {
    "collapsed": false
   },
   "outputs": [
    {
     "name": "stdout",
     "output_type": "stream",
     "text": [
      "CPU times: user 628 ms, sys: 431 ms, total: 1.06 s\n",
      "Wall time: 1.11 s\n"
     ]
    }
   ],
   "source": [
    "%%time\n",
    "prob_new = pd.concat([prob,p_out],axis=1)\n",
    "associate_new = pd.concat([associate,a_out],axis=1)\n",
    "u_new = pd.concat([unknown,u_out],axis=1)\n",
    "prob_new.drop('status_info',axis = 1, inplace = True)\n",
    "associate_new.drop('status_info',axis = 1, inplace = True)\n",
    "u_new.drop('status_info',axis = 1, inplace = True)"
   ]
  },
  {
   "cell_type": "code",
   "execution_count": 51,
   "metadata": {
    "collapsed": false
   },
   "outputs": [
    {
     "name": "stdout",
     "output_type": "stream",
     "text": [
      "PROBING out of range: 5072      origin: 1066168\n",
      "ASSOCIATED out of range: 8047      origin: 1584342\n",
      "UNKNOWN out of range: 0      origin: 43\n"
     ]
    }
   ],
   "source": [
    "a = prob_new.shape[0]-prob_new[\"out\"].sum()\n",
    "b = associate_new.shape[0]-associate_new[\"out\"].sum()\n",
    "c = u_new.shape[0]-u_new[\"out\"].sum()\n",
    "print \"PROBING out of range:\",a,\"     origin:\",prob_new.shape[0]\n",
    "print \"ASSOCIATED out of range:\",b,\"     origin:\",associate_new.shape[0]\n",
    "print \"UNKNOWN out of range:\",c,\"     origin:\",u_new.shape[0]"
   ]
  },
  {
   "cell_type": "code",
   "execution_count": 56,
   "metadata": {
    "collapsed": false
   },
   "outputs": [
    {
     "name": "stdout",
     "output_type": "stream",
     "text": [
      "CPU times: user 9.43 s, sys: 299 ms, total: 9.73 s\n",
      "Wall time: 9.85 s\n"
     ]
    }
   ],
   "source": [
    "%%time\n",
    "prob_new.to_csv('/Users/AAA218/Desktop/ami_sg/prob_new.csv')"
   ]
  },
  {
   "cell_type": "code",
   "execution_count": 57,
   "metadata": {
    "collapsed": false
   },
   "outputs": [
    {
     "name": "stdout",
     "output_type": "stream",
     "text": [
      "CPU times: user 13.8 s, sys: 372 ms, total: 14.2 s\n",
      "Wall time: 14.3 s\n"
     ]
    }
   ],
   "source": [
    "%%time\n",
    "associate_new.to_csv('/Users/AAA218/Desktop/ami_sg/assoc_new.csv')"
   ]
  },
  {
   "cell_type": "markdown",
   "metadata": {},
   "source": [
    "#### Generating fig of percentage of out-range data"
   ]
  },
  {
   "cell_type": "code",
   "execution_count": null,
   "metadata": {
    "collapsed": false
   },
   "outputs": [],
   "source": [
    "import matplotlib.pyplot as plt\n",
    "labels = ['in', 'out']\n",
    "perc = DataFrame({'Probing':[1066168,5072],'Associated':[1584342,8047]},index=labels)\n",
    "print perc\n",
    "percnorm = perc.div(perc.sum(1), axis=0)\n",
    "\n",
    "# Plot\n",
    "plt.figure();\n",
    "percnorm.plot.bar(stacked=True)\n",
    "plt.title('Percentages of out-range in different status')\n",
    "plt.show()"
   ]
  },
  {
   "cell_type": "markdown",
   "metadata": {
    "slideshow": {
     "slide_type": "-"
    }
   },
   "source": [
    "### Plotting a few days"
   ]
  },
  {
   "cell_type": "code",
   "execution_count": null,
   "metadata": {
    "collapsed": false
   },
   "outputs": [],
   "source": [
    "import scipy.ndimage as ndi\n",
    "import matplotlib.pyplot as plt\n",
    "#px = test_inx.loc['2016-04-16',[\"xcor\"]]\n",
    "#py = test_inx.loc['2016-04-16',[\"ycor\"]]\n",
    "#print px[1:3],py[:-5]"
   ]
  },
  {
   "cell_type": "markdown",
   "metadata": {},
   "source": [
    "#### print for the sample in 4-16 and SDE1_03"
   ]
  },
  {
   "cell_type": "code",
   "execution_count": null,
   "metadata": {
    "collapsed": false
   },
   "outputs": [],
   "source": [
    "data = np.random.rand(30000,2)*500       ## create random dataset\n",
    "print data.shape,\"dims---\",data.ndim,data[1:5]"
   ]
  },
  {
   "cell_type": "code",
   "execution_count": null,
   "metadata": {
    "collapsed": false
   },
   "outputs": [],
   "source": [
    "img = np.zeros((500,500))                ## blank image\n",
    "for i in xrange(data.shape[0]):          ## draw pixels\n",
    "    img[int(data[i,0]), int(data[i,1])] += 1\n",
    "img = ndi.gaussian_filter(img, (15,15))"
   ]
  },
  {
   "cell_type": "code",
   "execution_count": null,
   "metadata": {
    "collapsed": false
   },
   "outputs": [],
   "source": [
    "print img.shape"
   ]
  },
  {
   "cell_type": "code",
   "execution_count": null,
   "metadata": {
    "collapsed": false
   },
   "outputs": [],
   "source": [
    "i,j = np.where(img == img.max())\n",
    "print i ,j\n",
    "\n",
    "fig,ax = plt.subplots()\n",
    "ax.imshow(img)\n",
    "ax.scatter(i,j)\n",
    "plt.show()"
   ]
  },
  {
   "cell_type": "code",
   "execution_count": null,
   "metadata": {
    "collapsed": false
   },
   "outputs": [],
   "source": [
    "import matplotlib.pyplot as plt\n",
    "xedges = range(int(SDE1_03['length']))\n",
    "yedges = range(int(SDE1_03['width']))\n",
    "H = np.histogram2d(px, py, bins=(xedges,yedges), range=[[0,len(xedges)],[0,len(yedges)]])"
   ]
  },
  {
   "cell_type": "code",
   "execution_count": null,
   "metadata": {
    "collapsed": false
   },
   "outputs": [],
   "source": [
    "    n = 1000\n",
    "    # data points range\n",
    "    data_ymin = -2.\n",
    "    data_ymax = 2.\n",
    "    data_xmin = -2.\n",
    "    data_xmax = 2.\n",
    "    # view area range\n",
    "    view_ymin = -.5\n",
    "    view_ymax = .5\n",
    "    view_xmin = -.5\n",
    "    view_xmax = .5\n",
    "    # generate data\n",
    "    xl = np.random.uniform(data_xmin, data_xmax, n)    \n",
    "    yl = np.random.uniform(data_ymin, data_ymax, n)\n",
    "    zl = np.random.uniform(0, 1, n)\n",
    "\n",
    "    # get visible data points\n",
    "    xlvis = []\n",
    "    ylvis = []\n",
    "    for i in range(0,len(xl)):\n",
    "        if view_xmin < xl[i] < view_xmax and view_ymin < yl[i] < view_ymax:\n",
    "            xlvis.append(xl[i])\n",
    "            ylvis.append(yl[i])\n",
    "\n",
    "    fig = plt.figure()\n",
    "    plt1 = fig.add_subplot(221)\n",
    "    plt1.set_axis_off()\n",
    "    zd, xe, ye = np.histogram2d(yl, xl, bins=10, range=[[view_ymin, view_ymax],[view_xmin, view_xmax]], normed=True)\n",
    "    plt.imshow(zd, origin='lower', extent=[view_xmin, view_xmax, view_ymin, view_ymax])"
   ]
  },
  {
   "cell_type": "code",
   "execution_count": null,
   "metadata": {
    "collapsed": false
   },
   "outputs": [],
   "source": [
    " plt.show(fig)"
   ]
  },
  {
   "cell_type": "code",
   "execution_count": null,
   "metadata": {
    "collapsed": true
   },
   "outputs": [],
   "source": [
    "    # plot histogram\n",
    "    plt1 = fig.add_subplot(221)\n",
    "    plt1.set_axis_off()\n",
    "    zd, xe, ye = np.histogram2d(yl, xl, bins=10, range=[[view_ymin, view_ymax],[view_xmin, view_xmax]], normed=True)\n",
    "    plt.imshow(zd, origin='lower', extent=[view_xmin, view_xmax, view_ymin, view_ymax])\n",
    "    plt.scatter(xlvis, ylvis)\n",
    "\n",
    "    # plot density calculated with kdtree\n",
    "    plt2 = fig.add_subplot(222)\n",
    "    plt2.set_axis_off()\n",
    "    xi = np.linspace(view_xmin, view_xmax, 256)\n",
    "    yi = np.linspace(view_ymin, view_ymax, 256)\n",
    "    t0 = time.clock()\n",
    "    zd = grid_density_kdtree(xl, yl, xi, yi, 70)\n",
    "    plt.title('function of 5 nearest using kdtree\\n'+str(time.clock()-t0)+\"sec\")\n",
    "    cmap=cm.jet\n",
    "    A = (cmap(zd/256.0)*255).astype(np.uint8)\n",
    "    #A[:,:,3] = zd  \n",
    "    plt.imshow(A , origin='lower', extent=[view_xmin, view_xmax, view_ymin, view_ymax])\n",
    "    plt.scatter(xlvis, ylvis)\n",
    "\n",
    "    # gaussian filter\n",
    "    plt3 = fig.add_subplot(223)\n",
    "    plt3.set_axis_off()\n",
    "    t0 = time.clock()\n",
    "    zd = grid_density_gaussian_filter(view_xmin, view_ymin, view_xmax, view_ymax, 256, 256, zip(xl, yl))\n",
    "    plt.title('ndi.gaussian_filter - '+str(time.clock()-t0)+\"sec\")\n",
    "    plt.imshow(zd , origin='lower', extent=[view_xmin, view_xmax, view_ymin, view_ymax])\n",
    "    plt.scatter(xlvis, ylvis)\n",
    "\n",
    "    # boxsum smoothing\n",
    "    plt3 = fig.add_subplot(224)\n",
    "    plt3.set_axis_off()\n",
    "    t0 = time.clock()\n",
    "    zd = grid_density_boxsum(view_xmin, view_ymin, view_xmax, view_ymax, 256, 256, zip(xl, yl))\n",
    "    plt.title('boxsum smoothing - '+str(time.clock()-t0)+\"sec\")\n",
    "    plt.imshow(zd, origin='lower', extent=[view_xmin, view_xmax, view_ymin, view_ymax])\n",
    "    plt.scatter(xlvis, ylvis)\n",
    "\n",
    "if __name__=='__main__':\n",
    "    generate_graph()\n",
    "    plt.show()"
   ]
  },
  {
   "cell_type": "markdown",
   "metadata": {},
   "source": [
    "### parse the json and create db"
   ]
  },
  {
   "cell_type": "code",
   "execution_count": null,
   "metadata": {
    "collapsed": false
   },
   "outputs": [],
   "source": [
    "import ijson\n",
    "from dateutil import parser as dparser\n",
    "filename = \"/Users/AAA218/Desktop/test1.json\"\n",
    "\n",
    "with open(filename, 'r') as f:\n",
    "    parser = ijson.parse(f)\n",
    "    print list(parser)\n",
    "    for prefix,event,value in parser:\n",
    "        if (prefix, event) == (\"item.created_at.$date\" , \"string\"):\n",
    "            date_temp = dparser.parse(value)\n",
    "            days = date_temp.date()\n",
    "            hms = date_temp.timetz()\n",
    "        elif (prefix, event) == (\"item.Locations.entries.item.macAddress\" , \"string\"):\n",
    "            mac = value\n",
    "        elif (prefix, event) == ('item.Locations.entries.item.ssId',\"string\"):\n",
    "            ssid = value\n",
    "        elif (prefix, event) == ('item.Locations.entries.item.isGuestUser','boolean'):\n",
    "                if (value == False): gustid = 0\n",
    "                    else gustid = 1\n",
    "        elif (prefix, event) == ('item.Locations.entries.item.dot11Status', 'string'):\n",
    "            statusid = value\n",
    "        elif (prefix, event) == ('item.Locations.entries.item.MapInfo.mapHierarchyString', 'string',):\n",
    "            statusid = value"
   ]
  },
  {
   "cell_type": "code",
   "execution_count": null,
   "metadata": {
    "collapsed": false
   },
   "outputs": [],
   "source": [
    "mac_add = parsed['Locations']['entries'][0]['macAddress']\n",
    "first = parsed['Locations']['entries'][0]['Statistics']['firstLocatedTime']\n",
    "last = parsed['Locations']['entries'][0]['Statistics']['lastLocatedTime']\n",
    "print first,last"
   ]
  },
  {
   "cell_type": "markdown",
   "metadata": {},
   "source": [
    "#### Time parse"
   ]
  },
  {
   "cell_type": "code",
   "execution_count": null,
   "metadata": {
    "collapsed": false
   },
   "outputs": [],
   "source": [
    "from dateutil import parser\n",
    "first = '2016-04-16T16:00:02.000+0800'\n",
    "fir_date = parser.parse(first)\n",
    "print fir_date.date(),fir_date.time(),fir_date.timetz()\n",
    "#las_date = parser.parse(last)\n",
    "#datetime.strptime(first,'%y-%m-%dT%H:%M:%S+%fZ')\n",
    "#connecting = las_date - fir_date\n",
    "#period = float(connecting.seconds)/60\n",
    "#print connecting, period"
   ]
  }
 ],
 "metadata": {
  "anaconda-cloud": {},
  "kernelspec": {
   "display_name": "Python 2",
   "language": "python",
   "name": "python2"
  },
  "language_info": {
   "codemirror_mode": {
    "name": "ipython",
    "version": 2
   },
   "file_extension": ".py",
   "mimetype": "text/x-python",
   "name": "python",
   "nbconvert_exporter": "python",
   "pygments_lexer": "ipython2",
   "version": "2.7.12"
  }
 },
 "nbformat": 4,
 "nbformat_minor": 0
}
