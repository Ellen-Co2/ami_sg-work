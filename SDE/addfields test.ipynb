{
 "cells": [
  {
   "cell_type": "code",
   "execution_count": null,
   "metadata": {
    "collapsed": true
   },
   "outputs": [],
   "source": [
    "import numpy as np\n",
    "import matplotlib.pyplot as plt\n",
    "import pandas as pd"
   ]
  },
  {
   "cell_type": "code",
   "execution_count": 22,
   "metadata": {
    "collapsed": true
   },
   "outputs": [],
   "source": [
    "from sklearn import ensemble\n",
    "#from sklearn import datasets\n",
    "from sklearn.utils import shuffle\n",
    "from sklearn.metrics import mean_squared_error\n",
    "from sklearn.ensemble import GradientBoostingRegressor\n",
    "from sklearn import cross_validation"
   ]
  },
  {
   "cell_type": "code",
   "execution_count": 18,
   "metadata": {
    "collapsed": true
   },
   "outputs": [],
   "source": [
    "train = pd.read_csv('train_20min.csv',header=0)"
   ]
  },
  {
   "cell_type": "code",
   "execution_count": 20,
   "metadata": {
    "collapsed": true
   },
   "outputs": [],
   "source": [
    "train.drop('sgtime',axis=1, inplace= True)"
   ]
  },
  {
   "cell_type": "code",
   "execution_count": 21,
   "metadata": {
    "collapsed": false
   },
   "outputs": [
    {
     "data": {
      "text/html": [
       "<div>\n",
       "<table border=\"1\" class=\"dataframe\">\n",
       "  <thead>\n",
       "    <tr style=\"text-align: right;\">\n",
       "      <th></th>\n",
       "      <th>bldid</th>\n",
       "      <th>PROBING</th>\n",
       "      <th>UNKNOWN</th>\n",
       "      <th>mac</th>\n",
       "      <th>ASSOCIATED</th>\n",
       "      <th>interv</th>\n",
       "      <th>hr</th>\n",
       "      <th>mins</th>\n",
       "      <th>wks</th>\n",
       "      <th>SDE1-02</th>\n",
       "      <th>SDE1-03</th>\n",
       "      <th>SDE1-04</th>\n",
       "      <th>SDE1-05</th>\n",
       "      <th>SDE2-01</th>\n",
       "      <th>SDE2-02</th>\n",
       "      <th>SDE2-03</th>\n",
       "      <th>SDE3-01</th>\n",
       "      <th>SDE3-02</th>\n",
       "      <th>SDE3-03</th>\n",
       "      <th>SDE3-04</th>\n",
       "    </tr>\n",
       "  </thead>\n",
       "  <tbody>\n",
       "    <tr>\n",
       "      <th>0</th>\n",
       "      <td>SDE1-02</td>\n",
       "      <td>1.0</td>\n",
       "      <td>0.0</td>\n",
       "      <td>1</td>\n",
       "      <td>0.0</td>\n",
       "      <td>20.0</td>\n",
       "      <td>0</td>\n",
       "      <td>0</td>\n",
       "      <td>6</td>\n",
       "      <td>1.0</td>\n",
       "      <td>0.0</td>\n",
       "      <td>0.0</td>\n",
       "      <td>0.0</td>\n",
       "      <td>0.0</td>\n",
       "      <td>0.0</td>\n",
       "      <td>0.0</td>\n",
       "      <td>0.0</td>\n",
       "      <td>0.0</td>\n",
       "      <td>0.0</td>\n",
       "      <td>0.0</td>\n",
       "    </tr>\n",
       "    <tr>\n",
       "      <th>1</th>\n",
       "      <td>SDE1-02</td>\n",
       "      <td>1.0</td>\n",
       "      <td>0.0</td>\n",
       "      <td>1</td>\n",
       "      <td>0.0</td>\n",
       "      <td>0.0</td>\n",
       "      <td>2</td>\n",
       "      <td>40</td>\n",
       "      <td>6</td>\n",
       "      <td>1.0</td>\n",
       "      <td>0.0</td>\n",
       "      <td>0.0</td>\n",
       "      <td>0.0</td>\n",
       "      <td>0.0</td>\n",
       "      <td>0.0</td>\n",
       "      <td>0.0</td>\n",
       "      <td>0.0</td>\n",
       "      <td>0.0</td>\n",
       "      <td>0.0</td>\n",
       "      <td>0.0</td>\n",
       "    </tr>\n",
       "    <tr>\n",
       "      <th>2</th>\n",
       "      <td>SDE1-02</td>\n",
       "      <td>1.0</td>\n",
       "      <td>0.0</td>\n",
       "      <td>1</td>\n",
       "      <td>0.0</td>\n",
       "      <td>0.0</td>\n",
       "      <td>2</td>\n",
       "      <td>45</td>\n",
       "      <td>6</td>\n",
       "      <td>1.0</td>\n",
       "      <td>0.0</td>\n",
       "      <td>0.0</td>\n",
       "      <td>0.0</td>\n",
       "      <td>0.0</td>\n",
       "      <td>0.0</td>\n",
       "      <td>0.0</td>\n",
       "      <td>0.0</td>\n",
       "      <td>0.0</td>\n",
       "      <td>0.0</td>\n",
       "      <td>0.0</td>\n",
       "    </tr>\n",
       "    <tr>\n",
       "      <th>3</th>\n",
       "      <td>SDE1-02</td>\n",
       "      <td>1.0</td>\n",
       "      <td>0.0</td>\n",
       "      <td>1</td>\n",
       "      <td>0.0</td>\n",
       "      <td>0.0</td>\n",
       "      <td>7</td>\n",
       "      <td>50</td>\n",
       "      <td>6</td>\n",
       "      <td>1.0</td>\n",
       "      <td>0.0</td>\n",
       "      <td>0.0</td>\n",
       "      <td>0.0</td>\n",
       "      <td>0.0</td>\n",
       "      <td>0.0</td>\n",
       "      <td>0.0</td>\n",
       "      <td>0.0</td>\n",
       "      <td>0.0</td>\n",
       "      <td>0.0</td>\n",
       "      <td>0.0</td>\n",
       "    </tr>\n",
       "    <tr>\n",
       "      <th>4</th>\n",
       "      <td>SDE1-02</td>\n",
       "      <td>1.0</td>\n",
       "      <td>0.0</td>\n",
       "      <td>1</td>\n",
       "      <td>0.0</td>\n",
       "      <td>0.0</td>\n",
       "      <td>7</td>\n",
       "      <td>55</td>\n",
       "      <td>6</td>\n",
       "      <td>1.0</td>\n",
       "      <td>0.0</td>\n",
       "      <td>0.0</td>\n",
       "      <td>0.0</td>\n",
       "      <td>0.0</td>\n",
       "      <td>0.0</td>\n",
       "      <td>0.0</td>\n",
       "      <td>0.0</td>\n",
       "      <td>0.0</td>\n",
       "      <td>0.0</td>\n",
       "      <td>0.0</td>\n",
       "    </tr>\n",
       "  </tbody>\n",
       "</table>\n",
       "</div>"
      ],
      "text/plain": [
       "     bldid  PROBING  UNKNOWN  mac  ASSOCIATED  interv  hr  mins  wks  SDE1-02  \\\n",
       "0  SDE1-02      1.0      0.0    1         0.0    20.0   0     0    6      1.0   \n",
       "1  SDE1-02      1.0      0.0    1         0.0     0.0   2    40    6      1.0   \n",
       "2  SDE1-02      1.0      0.0    1         0.0     0.0   2    45    6      1.0   \n",
       "3  SDE1-02      1.0      0.0    1         0.0     0.0   7    50    6      1.0   \n",
       "4  SDE1-02      1.0      0.0    1         0.0     0.0   7    55    6      1.0   \n",
       "\n",
       "   SDE1-03  SDE1-04  SDE1-05  SDE2-01  SDE2-02  SDE2-03  SDE3-01  SDE3-02  \\\n",
       "0      0.0      0.0      0.0      0.0      0.0      0.0      0.0      0.0   \n",
       "1      0.0      0.0      0.0      0.0      0.0      0.0      0.0      0.0   \n",
       "2      0.0      0.0      0.0      0.0      0.0      0.0      0.0      0.0   \n",
       "3      0.0      0.0      0.0      0.0      0.0      0.0      0.0      0.0   \n",
       "4      0.0      0.0      0.0      0.0      0.0      0.0      0.0      0.0   \n",
       "\n",
       "   SDE3-03  SDE3-04  \n",
       "0      0.0      0.0  \n",
       "1      0.0      0.0  \n",
       "2      0.0      0.0  \n",
       "3      0.0      0.0  \n",
       "4      0.0      0.0  "
      ]
     },
     "execution_count": 21,
     "metadata": {},
     "output_type": "execute_result"
    }
   ],
   "source": [
    "train.head()"
   ]
  },
  {
   "cell_type": "code",
   "execution_count": null,
   "metadata": {
    "collapsed": true
   },
   "outputs": [],
   "source": []
  },
  {
   "cell_type": "code",
   "execution_count": 16,
   "metadata": {
    "collapsed": false
   },
   "outputs": [],
   "source": [
    "sde = pd.read_csv('tr_20min.csv',header=0)"
   ]
  },
  {
   "cell_type": "code",
   "execution_count": 17,
   "metadata": {
    "collapsed": false
   },
   "outputs": [
    {
     "data": {
      "text/html": [
       "<div>\n",
       "<table border=\"1\" class=\"dataframe\">\n",
       "  <thead>\n",
       "    <tr style=\"text-align: right;\">\n",
       "      <th></th>\n",
       "      <th>bldid</th>\n",
       "      <th>sgtime</th>\n",
       "      <th>PROBING</th>\n",
       "      <th>UNKNOWN</th>\n",
       "      <th>mac</th>\n",
       "      <th>ASSOCIATED</th>\n",
       "      <th>interv</th>\n",
       "      <th>hr</th>\n",
       "      <th>mins</th>\n",
       "      <th>wks</th>\n",
       "    </tr>\n",
       "  </thead>\n",
       "  <tbody>\n",
       "    <tr>\n",
       "      <th>0</th>\n",
       "      <td>SDE1-02</td>\n",
       "      <td>2016-04-16 00:00:01</td>\n",
       "      <td>1.0</td>\n",
       "      <td>0.0</td>\n",
       "      <td>1</td>\n",
       "      <td>0.0</td>\n",
       "      <td>20.0</td>\n",
       "      <td>0</td>\n",
       "      <td>0</td>\n",
       "      <td>6</td>\n",
       "    </tr>\n",
       "    <tr>\n",
       "      <th>1</th>\n",
       "      <td>SDE1-02</td>\n",
       "      <td>2016-04-16 02:40:01</td>\n",
       "      <td>1.0</td>\n",
       "      <td>0.0</td>\n",
       "      <td>1</td>\n",
       "      <td>0.0</td>\n",
       "      <td>0.0</td>\n",
       "      <td>2</td>\n",
       "      <td>40</td>\n",
       "      <td>6</td>\n",
       "    </tr>\n",
       "    <tr>\n",
       "      <th>2</th>\n",
       "      <td>SDE1-02</td>\n",
       "      <td>2016-04-16 02:45:01</td>\n",
       "      <td>1.0</td>\n",
       "      <td>0.0</td>\n",
       "      <td>1</td>\n",
       "      <td>0.0</td>\n",
       "      <td>0.0</td>\n",
       "      <td>2</td>\n",
       "      <td>45</td>\n",
       "      <td>6</td>\n",
       "    </tr>\n",
       "    <tr>\n",
       "      <th>3</th>\n",
       "      <td>SDE1-02</td>\n",
       "      <td>2016-04-16 07:50:01</td>\n",
       "      <td>1.0</td>\n",
       "      <td>0.0</td>\n",
       "      <td>1</td>\n",
       "      <td>0.0</td>\n",
       "      <td>0.0</td>\n",
       "      <td>7</td>\n",
       "      <td>50</td>\n",
       "      <td>6</td>\n",
       "    </tr>\n",
       "    <tr>\n",
       "      <th>4</th>\n",
       "      <td>SDE1-02</td>\n",
       "      <td>2016-04-16 07:55:01</td>\n",
       "      <td>1.0</td>\n",
       "      <td>0.0</td>\n",
       "      <td>1</td>\n",
       "      <td>0.0</td>\n",
       "      <td>0.0</td>\n",
       "      <td>7</td>\n",
       "      <td>55</td>\n",
       "      <td>6</td>\n",
       "    </tr>\n",
       "  </tbody>\n",
       "</table>\n",
       "</div>"
      ],
      "text/plain": [
       "     bldid               sgtime  PROBING  UNKNOWN  mac  ASSOCIATED  interv  \\\n",
       "0  SDE1-02  2016-04-16 00:00:01      1.0      0.0    1         0.0    20.0   \n",
       "1  SDE1-02  2016-04-16 02:40:01      1.0      0.0    1         0.0     0.0   \n",
       "2  SDE1-02  2016-04-16 02:45:01      1.0      0.0    1         0.0     0.0   \n",
       "3  SDE1-02  2016-04-16 07:50:01      1.0      0.0    1         0.0     0.0   \n",
       "4  SDE1-02  2016-04-16 07:55:01      1.0      0.0    1         0.0     0.0   \n",
       "\n",
       "   hr  mins  wks  \n",
       "0   0     0    6  \n",
       "1   2    40    6  \n",
       "2   2    45    6  \n",
       "3   7    50    6  \n",
       "4   7    55    6  "
      ]
     },
     "execution_count": 17,
     "metadata": {},
     "output_type": "execute_result"
    }
   ],
   "source": [
    "sde.head()"
   ]
  },
  {
   "cell_type": "code",
   "execution_count": 2,
   "metadata": {
    "collapsed": true
   },
   "outputs": [],
   "source": [
    "boston = datasets.load_boston()\n",
    "X, y = shuffle(boston.data, boston.target, random_state=13)\n",
    "X = X.astype(np.float32)\n",
    "offset = int(X.shape[0] * 0.9)\n",
    "X_train, y_train = X[:offset], y[:offset]\n",
    "X_test, y_test = X[offset:], y[offset:]"
   ]
  },
  {
   "cell_type": "code",
   "execution_count": 7,
   "metadata": {
    "collapsed": false
   },
   "outputs": [
    {
     "name": "stdout",
     "output_type": "stream",
     "text": [
      "(455, 13)\n",
      "(455,)\n"
     ]
    }
   ],
   "source": [
    "print X_train.shape\n",
    "print y_train.shape"
   ]
  },
  {
   "cell_type": "code",
   "execution_count": 9,
   "metadata": {
    "collapsed": false
   },
   "outputs": [
    {
     "name": "stdout",
     "output_type": "stream",
     "text": [
      "(506, 13)\n"
     ]
    }
   ],
   "source": [
    "print boston.data.shape"
   ]
  },
  {
   "cell_type": "code",
   "execution_count": 10,
   "metadata": {
    "collapsed": false
   },
   "outputs": [
    {
     "name": "stdout",
     "output_type": "stream",
     "text": [
      "MSE: 6.6196\n"
     ]
    }
   ],
   "source": [
    "params = {'n_estimators': 500, 'max_depth': 4, 'min_samples_split': 1,\n",
    "          'learning_rate': 0.01, 'loss': 'ls'}\n",
    "clf = ensemble.GradientBoostingRegressor(**params)\n",
    "\n",
    "clf.fit(X_train, y_train)\n",
    "mse = mean_squared_error(y_test, clf.predict(X_test))\n",
    "print(\"MSE: %.4f\" % mse)"
   ]
  },
  {
   "cell_type": "code",
   "execution_count": 11,
   "metadata": {
    "collapsed": false
   },
   "outputs": [
    {
     "data": {
      "text/plain": [
       "<matplotlib.text.Text at 0x111429890>"
      ]
     },
     "execution_count": 11,
     "metadata": {},
     "output_type": "execute_result"
    },
    {
     "data": {
      "image/png": "[encoded data removed]",
      "text/plain": [
       "<matplotlib.figure.Figure at 0x10ef2f750>"
      ]
     },
     "metadata": {},
     "output_type": "display_data"
    }
   ],
   "source": [
    "%matplotlib inline\n",
    "## Training deviance plot\n",
    "test_score = np.zeros((params['n_estimators'],), dtype=np.float64)\n",
    "\n",
    "for i, y_pred in enumerate(clf.staged_predict(X_test)):\n",
    "    test_score[i] = clf.loss_(y_test, y_pred)\n",
    "\n",
    "plt.figure(figsize=(12, 6))\n",
    "plt.subplot(1, 2, 1)\n",
    "plt.title('Deviance')\n",
    "plt.plot(np.arange(params['n_estimators']) + 1, clf.train_score_, 'b-',\n",
    "         label='Training Set Deviance')\n",
    "plt.plot(np.arange(params['n_estimators']) + 1, test_score, 'r-',\n",
    "         label='Test Set Deviance')\n",
    "plt.legend(loc='upper right')\n",
    "plt.xlabel('Boosting Iterations')\n",
    "plt.ylabel('Deviance')"
   ]
  },
  {
   "cell_type": "code",
   "execution_count": 12,
   "metadata": {
    "collapsed": false
   },
   "outputs": [
    {
     "data": {
      "image/png": "[encoded data removed]",
      "text/plain": [
       "<matplotlib.figure.Figure at 0x103f27e50>"
      ]
     },
     "metadata": {},
     "output_type": "display_data"
    }
   ],
   "source": [
    "# Plot feature importance\n",
    "feature_importance = clf.feature_importances_\n",
    "# make importances relative to max importance\n",
    "feature_importance = 100.0 * (feature_importance / feature_importance.max())\n",
    "sorted_idx = np.argsort(feature_importance)\n",
    "pos = np.arange(sorted_idx.shape[0]) + .5\n",
    "plt.subplot(1, 2, 2)\n",
    "plt.barh(pos, feature_importance[sorted_idx], align='center')\n",
    "plt.yticks(pos, boston.feature_names[sorted_idx])\n",
    "plt.xlabel('Relative Importance')\n",
    "plt.title('Variable Importance')\n",
    "plt.show()"
   ]
  },
  {
   "cell_type": "markdown",
   "metadata": {
    "collapsed": true
   },
   "source": [
    "### test for generating fields"
   ]
  },
  {
   "cell_type": "code",
   "execution_count": 1,
   "metadata": {
    "collapsed": true
   },
   "outputs": [],
   "source": [
    "from datetime import datetime, timedelta\n",
    "from pandas import DataFrame, Series\n",
    "import pandas as pd\n",
    "import numpy as np\n",
    "import sqlite3\n",
    "from sqlalchemy import create_engine \n",
    "\n",
    "disk_engine = create_engine('sqlite:////Users/AAA218/Desktop/amifull_sg/new.sqlite')\n",
    "conn = sqlite3.connect('new.sqlite')\n",
    "cur = conn.cursor()"
   ]
  },
  {
   "cell_type": "code",
   "execution_count": 40,
   "metadata": {
    "collapsed": true
   },
   "outputs": [],
   "source": [
    "testf = pd.read_sql_query('SELECT mac, bldid, xcor, ycor ,lastlocatedtime,firstlocatedtime,sgtime,status,out FROM wifi ORDER BY lastlocatedtime ASC',disk_engine)"
   ]
  },
  {
   "cell_type": "code",
   "execution_count": 23,
   "metadata": {
    "collapsed": false
   },
   "outputs": [],
   "source": [
    "testf = DataFrame({'mac':[\"ma\",\"tec\",\"sa\",\"tec\",\"ma\"],'bld':[\"b1\",\"b2\",\"b3\",\"b4\",\"b1\"],'xcor':[200,300,30,40,300],\"ycor\":[100,200,30,50,400],\"lastlocatedtime\":[\"2016-04-16 00:00:01\",\"2016-04-16 02:40:01\",\"2016-04-16 07:50:01\",\"2016-04-16 01:35:02\",\"2016-04-16 09:40:01\"]},columns=[\"mac\", \"bld\",\"xcor\", \"ycor\" ,\"lastlocatedtime\" ])"
   ]
  },
  {
   "cell_type": "code",
   "execution_count": 41,
   "metadata": {
    "collapsed": false
   },
   "outputs": [
    {
     "data": {
      "text/html": [
       "<div>\n",
       "<table border=\"1\" class=\"dataframe\">\n",
       "  <thead>\n",
       "    <tr style=\"text-align: right;\">\n",
       "      <th></th>\n",
       "      <th>mac</th>\n",
       "      <th>bldid</th>\n",
       "      <th>xcor</th>\n",
       "      <th>ycor</th>\n",
       "      <th>lastlocatedtime</th>\n",
       "      <th>firstlocatedtime</th>\n",
       "      <th>sgtime</th>\n",
       "      <th>status</th>\n",
       "      <th>out</th>\n",
       "    </tr>\n",
       "  </thead>\n",
       "  <tbody>\n",
       "    <tr>\n",
       "      <th>0</th>\n",
       "      <td>68:3e:34:07:7f:b4</td>\n",
       "      <td>SDE3-02</td>\n",
       "      <td>1377.65</td>\n",
       "      <td>708.20</td>\n",
       "      <td>2016-04-15 21:12:28</td>\n",
       "      <td>2016-04-15 15:46:18</td>\n",
       "      <td>2016-04-16 00:00:01</td>\n",
       "      <td>PROBING</td>\n",
       "      <td>0</td>\n",
       "    </tr>\n",
       "    <tr>\n",
       "      <th>1</th>\n",
       "      <td>f4:f2:6d:17:cc:6c</td>\n",
       "      <td>SDE3-03</td>\n",
       "      <td>876.84</td>\n",
       "      <td>426.49</td>\n",
       "      <td>2016-04-15 21:20:45</td>\n",
       "      <td>2016-04-15 17:19:40</td>\n",
       "      <td>2016-04-16 00:00:01</td>\n",
       "      <td>ASSOCIATED</td>\n",
       "      <td>0</td>\n",
       "    </tr>\n",
       "    <tr>\n",
       "      <th>2</th>\n",
       "      <td>f4:f2:6d:17:2a:26</td>\n",
       "      <td>SDE1-04</td>\n",
       "      <td>810.42</td>\n",
       "      <td>653.53</td>\n",
       "      <td>2016-04-15 21:22:26</td>\n",
       "      <td>2016-04-15 14:43:59</td>\n",
       "      <td>2016-04-16 00:00:01</td>\n",
       "      <td>ASSOCIATED</td>\n",
       "      <td>0</td>\n",
       "    </tr>\n",
       "    <tr>\n",
       "      <th>3</th>\n",
       "      <td>f4:f2:6d:11:00:c3</td>\n",
       "      <td>SDE3-01</td>\n",
       "      <td>995.23</td>\n",
       "      <td>406.91</td>\n",
       "      <td>2016-04-15 21:22:26</td>\n",
       "      <td>2016-04-15 17:49:15</td>\n",
       "      <td>2016-04-16 00:00:01</td>\n",
       "      <td>ASSOCIATED</td>\n",
       "      <td>0</td>\n",
       "    </tr>\n",
       "    <tr>\n",
       "      <th>4</th>\n",
       "      <td>f4:f2:6d:17:28:dd</td>\n",
       "      <td>SDE1-03</td>\n",
       "      <td>204.33</td>\n",
       "      <td>23.17</td>\n",
       "      <td>2016-04-15 21:25:45</td>\n",
       "      <td>2016-04-15 21:25:45</td>\n",
       "      <td>2016-04-16 00:00:01</td>\n",
       "      <td>ASSOCIATED</td>\n",
       "      <td>0</td>\n",
       "    </tr>\n",
       "  </tbody>\n",
       "</table>\n",
       "</div>"
      ],
      "text/plain": [
       "                 mac    bldid     xcor    ycor      lastlocatedtime  \\\n",
       "0  68:3e:34:07:7f:b4  SDE3-02  1377.65  708.20  2016-04-15 21:12:28   \n",
       "1  f4:f2:6d:17:cc:6c  SDE3-03   876.84  426.49  2016-04-15 21:20:45   \n",
       "2  f4:f2:6d:17:2a:26  SDE1-04   810.42  653.53  2016-04-15 21:22:26   \n",
       "3  f4:f2:6d:11:00:c3  SDE3-01   995.23  406.91  2016-04-15 21:22:26   \n",
       "4  f4:f2:6d:17:28:dd  SDE1-03   204.33   23.17  2016-04-15 21:25:45   \n",
       "\n",
       "      firstlocatedtime               sgtime      status  out  \n",
       "0  2016-04-15 15:46:18  2016-04-16 00:00:01     PROBING    0  \n",
       "1  2016-04-15 17:19:40  2016-04-16 00:00:01  ASSOCIATED    0  \n",
       "2  2016-04-15 14:43:59  2016-04-16 00:00:01  ASSOCIATED    0  \n",
       "3  2016-04-15 17:49:15  2016-04-16 00:00:01  ASSOCIATED    0  \n",
       "4  2016-04-15 21:25:45  2016-04-16 00:00:01  ASSOCIATED    0  "
      ]
     },
     "execution_count": 41,
     "metadata": {},
     "output_type": "execute_result"
    }
   ],
   "source": [
    "us_dict = dict()\n",
    "interv = list()\n",
    "mov = list()\n",
    "distance = list()\n",
    "testf.head()"
   ]
  },
  {
   "cell_type": "code",
   "execution_count": 43,
   "metadata": {
    "collapsed": false
   },
   "outputs": [],
   "source": [
    "P1 = datetime.now()\n",
    "testf[\"lastlocatedtime\"] = pd.to_datetime(testf[\"lastlocatedtime\"])\n",
    "#print testf\n",
    "for i , row in enumerate(testf.values):\n",
    "    #update the last row id of device\n",
    "    if (us_dict.get(row[0]) == None):\n",
    "        us_dict[row[0]] = testf.index[0] + i \n",
    "        interv.append(0)\n",
    "        mov.append('first')\n",
    "        distance.append(float('NaN'))\n",
    "        #print mov,\"\\ndistance:\\n\",distance\n",
    "        continue\n",
    "    else:\n",
    "        # For the mac with prev record, first store and update the record\n",
    "        prev_ind = us_dict.get(row[0])\n",
    "        us_dict[row[0]] = i \n",
    "        prev_bld = testf.iloc[prev_ind,1]\n",
    "        prev_t = testf.iloc[prev_ind,4]\n",
    "        prev_x = testf.iloc[prev_ind,2]\n",
    "        prev_y = testf.iloc[prev_ind,3]\n",
    "        dif = timedelta.total_seconds(row[4] - prev_t)\n",
    "        #print prev_ind,prev_t,prev_x,prev_y,prev_bld\n",
    "        interv.append(dif)\n",
    "        #print interv\n",
    "        if (prev_bld != row[1]): \n",
    "            mov.append(prev_bld)\n",
    "            distance.append(float('NaN'))\n",
    "        else:\n",
    "            dista = round(np.sqrt((prev_x-row[2])**2 + (prev_y-row[3])**2),2)\n",
    "            distance.append(dista)\n",
    "            if ((dista <= 1800)&(dif <= 3600)): #not moving exceeding 30*30 feet and disappear 1 hrs\n",
    "                mov.append('stay')\n",
    "            else:\n",
    "                mov.append('left')\n",
    "P2 = datetime.now()-P1"
   ]
  },
  {
   "cell_type": "code",
   "execution_count": 46,
   "metadata": {
    "collapsed": false
   },
   "outputs": [
    {
     "data": {
      "text/plain": [
       "57.63990811666667"
      ]
     },
     "execution_count": 46,
     "metadata": {},
     "output_type": "execute_result"
    }
   ],
   "source": [
    "timedelta.total_seconds(P2)/60 #1 hr"
   ]
  },
  {
   "cell_type": "code",
   "execution_count": 50,
   "metadata": {
    "collapsed": false
   },
   "outputs": [],
   "source": [
    "wifnew = DataFrame({\"interval\":interv,\"movement\":mov,\"distance\":distance})"
   ]
  },
  {
   "cell_type": "code",
   "execution_count": 58,
   "metadata": {
    "collapsed": false
   },
   "outputs": [
    {
     "data": {
      "text/plain": [
       "stay       2410104\n",
       "first        56918\n",
       "SDE1-03      30276\n",
       "SDE3-02      28982\n",
       "SDE3-04      24158\n",
       "SDE3-03      19103\n",
       "SDE1-04      18930\n",
       "left         17870\n",
       "SDE2-02      15548\n",
       "SDE3-01      12269\n",
       "SDE2-03       8070\n",
       "SDE2-01       5620\n",
       "SDE1-05       1731\n",
       "SDE1-02        974\n",
       "Name: movement, dtype: int64"
      ]
     },
     "execution_count": 58,
     "metadata": {},
     "output_type": "execute_result"
    }
   ],
   "source": [
    "wifnew.movement.value_counts()"
   ]
  },
  {
   "cell_type": "code",
   "execution_count": 30,
   "metadata": {
    "collapsed": false
   },
   "outputs": [],
   "source": [
    "#print \"mov:\\n\",mov[0:10],\"\\ndict:\\n\",us_dict[0:15],\"distance:\\n\",distance[-10:],\"\\ninterv:\\n\",interv[-5:]\n",
    "testf[\"interval\"] = interv\n",
    "testf[\"movement\"] = mov\n",
    "testf[\"distance\"] = distance\n"
   ]
  },
  {
   "cell_type": "code",
   "execution_count": 31,
   "metadata": {
    "collapsed": false
   },
   "outputs": [
    {
     "data": {
      "text/plain": [
       "[0, 0, 0, -3899.0, 34800.0]"
      ]
     },
     "execution_count": 31,
     "metadata": {},
     "output_type": "execute_result"
    }
   ],
   "source": [
    "interv"
   ]
  },
  {
   "cell_type": "code",
   "execution_count": 59,
   "metadata": {
    "collapsed": false,
    "scrolled": true
   },
   "outputs": [
    {
     "name": "stdout",
     "output_type": "stream",
     "text": [
      "         distance  interval movement\n",
      "2650548      0.67     342.0     stay\n",
      "2650549      1.96     303.0     stay\n",
      "2650550      9.46     337.0     stay\n",
      "2650551     16.56     309.0     stay\n",
      "2650552       NaN   46555.0  SDE3-02\n"
     ]
    }
   ],
   "source": [
    "print wifnew.tail()"
   ]
  },
  {
   "cell_type": "code",
   "execution_count": 19,
   "metadata": {
    "collapsed": false
   },
   "outputs": [
    {
     "data": {
      "text/plain": [
       "3272"
      ]
     },
     "execution_count": 19,
     "metadata": {},
     "output_type": "execute_result"
    }
   ],
   "source": [
    "us_dict[\"f4:8b:32:fa:20:06\"]"
   ]
  },
  {
   "cell_type": "code",
   "execution_count": 67,
   "metadata": {
    "collapsed": false
   },
   "outputs": [],
   "source": [
    "All = pd.concat([testf,wifnew],axis=1)"
   ]
  },
  {
   "cell_type": "code",
   "execution_count": 68,
   "metadata": {
    "collapsed": false
   },
   "outputs": [],
   "source": [
    "All.to_sql(name='newwifi',index=False,con=conn,if_exists='replace',dtype={ \"mac\": \"CHAR(20)\",\"bldid\": \"CHAR(20)\",\" xcor \":\"NUMERIC\",\"ycor\":\" NUMERIC\",\"lastlocatedtime\":\"DATETIME\",\"firstlocatedtime\":\" DATETIME\", \"sgtime\": \"DATETIME\", \"status\":\"CHAR(20)\",\"out\": \"INTEGER\",\"interval\": \"INTEGER\",\"movement\": \"CHAR(20)\",\"distance\":\"NUMERIC\"})"
   ]
  },
  {
   "cell_type": "code",
   "execution_count": 69,
   "metadata": {
    "collapsed": false
   },
   "outputs": [
    {
     "data": {
      "text/plain": [
       "2650553"
      ]
     },
     "execution_count": 69,
     "metadata": {},
     "output_type": "execute_result"
    }
   ],
   "source": [
    "testf.shape[0]"
   ]
  },
  {
   "cell_type": "code",
   "execution_count": null,
   "metadata": {
    "collapsed": true
   },
   "outputs": [],
   "source": []
  }
 ],
 "metadata": {
  "kernelspec": {
   "display_name": "Python 2",
   "language": "python",
   "name": "python2"
  },
  "language_info": {
   "codemirror_mode": {
    "name": "ipython",
    "version": 2
   },
   "file_extension": ".py",
   "mimetype": "text/x-python",
   "name": "python",
   "nbconvert_exporter": "python",
   "pygments_lexer": "ipython2",
   "version": "2.7.12"
  }
 },
 "nbformat": 4,
 "nbformat_minor": 0
}
